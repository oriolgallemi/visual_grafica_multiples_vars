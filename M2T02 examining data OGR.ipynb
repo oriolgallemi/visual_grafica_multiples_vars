{
 "cells": [
  {
   "cell_type": "markdown",
   "metadata": {},
   "source": [
    "# <SPAN style=color:darkblue>RELATIONSHIPS BETWEEN VARIABLES</SPAN>"
   ]
  },
  {
   "cell_type": "markdown",
   "metadata": {},
   "source": [
    "<span style=color:darkred><b><u>To answer research questions, data must be collected</u></b></span>. \n",
    "\n",
    "Analyses are motivated by <span style=color:blue><b><i>looking</i></b></span> for a <span style=color:blue><b><i>relationship between two or more variables</i></b></span>.\n",
    "\n",
    "Examining <span style=color:blue><b>summary statistics</b></span> could provide insights for each of the research questions about the study.   \n",
    "\n",
    "A <span style=color:blue><b>summary statistics</b></span> is a <b><i>single number summarizing a large amount of data</i></b>. In other words, a <span style=color:blue><b>summary statistics</b></span> is a <b>value</b> computed from the <b>data</b>."
   ]
  },
  {
   "cell_type": "markdown",
   "metadata": {},
   "source": [
    "# <span style=color:darkblue>EXAMINING NUMERICAL DATA</span>"
   ]
  },
  {
   "cell_type": "markdown",
   "metadata": {},
   "source": [
    "We will be introduced to techniques for <span style=color:blue>exploring</span> and <span style=color:blue>summarizing numerical</span> variables, working with two datasets : '$email50$', '$county$' and '$cars$'."
   ]
  },
  {
   "cell_type": "markdown",
   "metadata": {},
   "source": [
    "## <span style=color:darkgreen>EXPLORING BIVARIATE VARIABLES WITH SCATTERPLOTS</span>"
   ]
  },
  {
   "cell_type": "markdown",
   "metadata": {},
   "source": [
    "A <span style=color:blue>Scatterplot</span> provides a case-by-case view of data for <span style=color:blue>two <b>(bivariate)</b> numerical variables</span>. "
   ]
  },
  {
   "cell_type": "markdown",
   "metadata": {},
   "source": [
    "<span style=color:blue>Scatterplots</span> are helpful in quickly <span style=color:blue><b>spotting associations relating variables</b></span>, whether those associations come in the form of <b>simple trends</b> or whether those relationships are more <b>complex</b>."
   ]
  },
  {
   "cell_type": "markdown",
   "metadata": {},
   "source": [
    "We will use a <span style=color:blue>Scatterplot</span> to examine how $federal$ $spending$ and $poverty$ are related in the $county$ dataset."
   ]
  },
  {
   "cell_type": "code",
   "execution_count": 21,
   "metadata": {
    "ExecuteTime": {
     "end_time": "2021-02-03T09:47:03.963305Z",
     "start_time": "2021-02-03T09:46:57.616640Z"
    }
   },
   "outputs": [],
   "source": [
    "# importing libraries\n",
    "import numpy as np\n",
    "import pandas as pd\n",
    "import matplotlib.pyplot as plt\n",
    "import seaborn as sns\n",
    "import warnings\n",
    "\n",
    "warnings.filterwarnings('ignore')"
   ]
  },
  {
   "cell_type": "code",
   "execution_count": 22,
   "metadata": {
    "ExecuteTime": {
     "end_time": "2021-01-20T16:37:07.533413Z",
     "start_time": "2021-01-20T16:37:07.504490Z"
    }
   },
   "outputs": [],
   "source": [
    "# Open the choosen file\n",
    "#county = pd.read_csv('D:\\\\Documents\\\\EureCat\\\\Formacion\\\\Eurecat 2019\\\\BTS\\\\Datasets\\\\county.txt', sep='\\t', encoding='utf-8')\n",
    "#county = pd.read_csv('https://raw.githubusercontent.com/BIDDL3/Examining-Data/main/county.txt', sep='\\t', encoding='utf-8')\n",
    "movies=open('movies.dat')"
   ]
  },
  {
   "cell_type": "code",
   "execution_count": 23,
   "metadata": {
    "scrolled": true
   },
   "outputs": [
    {
     "data": {
      "text/plain": [
       "\"1::Toy Story (1995)::Animation|Children's|Comedy\\n2::Jumanji (1995)::Adventure|Children's|Fantasy\\n3::Grumpier Old Men (1995)::Comedy|Romance\\n4::Waiting to Exhale (1995)::Comedy|Drama\\n5::Father of the Bride Part II (1995)::Comedy\\n6::Heat (1995)::Action|Crime|Thriller\\n7::Sabrina (1995)::Comedy|Romance\\n8::Tom and Huck (1995)::Adventure|Children's\\n9::Sudden Death (1995)::Action\\n10::GoldenEye (1995)::Action|Adventure|Thriller\\n11::American President, The (1995)::Comedy|Drama|Romance\\n12::Dracula: Dead and Loving It (1995)::Comedy|Horror\\n13::Balto (1995)::Animation|Children's\\n14::Nixon (1995)::Drama\\n15::Cutthroat Island (1995)::Action|Adventure|Romance\\n16::Casino (1995)::Drama|Thriller\\n17::Sense and Sensibility (1995)::Drama|Romance\\n18::Four Rooms (1995)::Thriller\\n19::Ace Ventura: When Nature Calls (1995)::Comedy\\n20::Money Train (1995)::Action\\n21::Get Shorty (1995)::Action|Comedy|Drama\\n22::Copycat (1995)::Crime|Drama|Thriller\\n23::Assassins (1995)::Thriller\\n24::Powder (1995)::Drama|Sci-Fi\\n25::Leaving Las Vegas (1995)::Drama|Romance\\n26::Othello (1995)::Drama\\n27::Now and Then (1995)::Drama\\n28::Persuasion (1995)::Romance\\n29::City of Lost Children, The (1995)::Adventure|Sci-Fi\\n30::Shanghai Triad (Yao a yao yao dao waipo qiao) (1995)::Drama\\n31::Dangerous Minds (1995)::Drama\\n32::Twelve Monkeys (1995)::Drama|Sci-Fi\\n33::Wings of Courage (1995)::Adventure|Romance\\n34::Babe (1995)::Children's|Comedy|Drama\\n35::Carrington (1995)::Drama|Romance\\n36::Dead Man Walking (1995)::Drama\\n37::Across the Sea of Time (1995)::Documentary\\n38::It Takes Two (1995)::Comedy\\n39::Clueless (1995)::Comedy|Romance\\n40::Cry, the Beloved Country (1995)::Drama\\n41::Richard III (1995)::Drama|War\\n42::Dead Presidents (1995)::Action|Crime|Drama\\n43::Restoration (1995)::Drama\\n44::Mortal Kombat (1995)::Action|Adventure\\n45::To Die For (1995)::Comedy|Drama\\n46::How to Make an American Quilt (1995)::Drama|Romance\\n47::Seven (Se7en) (1995)::Crime|Thriller\\n48::Pocahontas (1995)::Animation|Children's|Musical|Romance\\n49::When Night Is Falling (1995)::Drama|Romance\\n50::Usual Suspects, The (1995)::Crime|Thriller\\n51::Guardian Angel (1994)::Action|Drama|Thriller\\n52::Mighty Aphrodite (1995)::Comedy\\n53::Lamerica (1994)::Drama\\n54::Big Green, The (1995)::Children's|Comedy\\n55::Georgia (1995)::Drama\\n56::Kids of the Round Table (1995)::Adventure|Children's|Fantasy\\n57::Home for the Holidays (1995)::Drama\\n58::Postino, Il (The Postman) (1994)::Drama|Romance\\n59::Confessional, The (Le Confessionnal) (1995)::Drama|Mystery\\n60::Indian in the Cupboard, The (1995)::Adventure|Children's|Fantasy\\n61::Eye for an Eye (1996)::Drama|Thriller\\n62::Mr. Holland's Opus (1995)::Drama\\n63::Don't Be a Menace to South Central While Drinking Your Juice in the Hood (1996)::Comedy\\n64::Two if by Sea (1996)::Comedy|Romance\\n65::Bio-Dome (1996)::Comedy\\n66::Lawnmower Man 2: Beyond Cyberspace (1996)::Sci-Fi|Thriller\\n67::Two Bits (1995)::Drama\\n68::French Twist (Gazon maudit) (1995)::Comedy|Romance\\n69::Friday (1995)::Comedy\\n70::From Dusk Till Dawn (1996)::Action|Comedy|Crime|Horror|Thriller\\n71::Fair Game (1995)::Action\\n72::Kicking and Screaming (1995)::Comedy|Drama\\n73::Misérables, Les (1995)::Drama|Musical\\n74::Bed of Roses (1996)::Drama|Romance\\n75::Big Bully (1996)::Comedy|Drama\\n76::Screamers (1995)::Sci-Fi|Thriller\\n77::Nico Icon (1995)::Documentary\\n78::Crossing Guard, The (1995)::Drama\\n79::Juror, The (1996)::Drama|Thriller\\n80::White Balloon, The (Badkonake Sefid ) (1995)::Drama\\n81::Things to Do in Denver when You're Dead (1995)::Crime|Drama|Romance\\n82::Antonia's Line (Antonia) (1995)::Drama\\n83::Once Upon a Time... When We Were Colored (1995)::Drama\\n84::Last Summer in the Hamptons (1995)::Comedy|Drama\\n85::Angels and Insects (1995)::Drama|Romance\\n86::White Squall (1996)::Adventure|Drama\\n87::Dunston Checks In (1996)::Children's|Comedy\\n88::Black Sheep (1996)::Comedy\\n89::Nick of Time (1995)::Action|Thriller\\n90::Journey of August King, The (1995)::Drama\\n92::Mary Reilly (1996)::Drama|Thriller\\n93::Vampire in Brooklyn (1995)::Comedy|Romance\\n94::Beautiful Girls (1996)::Drama\\n95::Broken Arrow (1996)::Action|Thriller\\n96::In the Bleak Midwinter (1995)::Comedy\\n97::Hate (Haine, La) (1995)::Drama\\n98::Shopping (1994)::Action|Thriller\\n99::Heidi Fleiss: Hollywood Madam (1995)::Documentary\\n100::City Hall (1996)::Drama|Thriller\\n101::Bottle Rocket (1996)::Comedy\\n102::Mr. Wrong (1996)::Comedy\\n103::Unforgettable (1996)::Thriller\\n104::Happy Gilmore (1996)::Comedy\\n105::Bridges of Madison County, The (1995)::Drama|Romance\\n106::Nobody Loves Me (Keiner liebt mich) (1994)::Comedy|Drama\\n107::Muppet Treasure Island (1996)::Adventure|Children's|Comedy|Musical\\n108::Catwalk (1995)::Documentary\\n109::Headless Body in Topless Bar (1995)::Comedy\\n110::Braveheart (1995)::Action|Drama|War\\n111::Taxi Driver (1976)::Drama|Thriller\\n112::Rumble in the Bronx (1995)::Action|Adventure|Crime\\n113::Before and After (1996)::Drama|Mystery\\n114::Margaret's Museum (1995)::Drama\\n115::Happiness Is in the Field (1995)::Comedy\\n116::Anne Frank Remembered (1995)::Documentary\\n117::Young Poisoner's Handbook, The (1995)::Crime\\n118::If Lucy Fell (1996)::Comedy|Romance\\n119::Steal Big, Steal Little (1995)::Comedy\\n120::Race the Sun (1996)::Drama\\n121::Boys of St. Vincent, The (1993)::Drama\\n122::Boomerang (1992)::Comedy|Romance\\n123::Chungking Express (1994)::Drama|Mystery|Romance\\n124::Star Maker, The (Uomo delle stelle, L') (1995)::Drama\\n125::Flirting With Disaster (1996)::Comedy\\n126::NeverEnding Story III, The (1994)::Adventure|Children's|Fantasy\\n127::Silence of the Palace, The (Saimt el Qusur) (1994)::Drama\\n128::Jupiter's Wife (1994)::Documentary\\n129::Pie in the Sky (1995)::Comedy|Romance\\n130::Angela (1995)::Drama\\n131::Frankie Starlight (1995)::Drama|Romance\\n132::Jade (1995)::Thriller\\n133::Nueba Yol (1995)::Comedy|Drama\\n134::Sonic Outlaws (1995)::Documentary\\n135::Down Periscope (1996)::Comedy\\n136::From the Journals of Jean Seberg (1995)::Documentary\\n137::Man of the Year (1995)::Documentary\\n138::Neon Bible, The (1995)::Drama\\n139::Target (1995)::Action|Drama\\n140::Up Close and Personal (1996)::Drama|Romance\\n141::Birdcage, The (1996)::Comedy\\n142::Shadows (Cienie) (1988)::Drama\\n143::Gospa (1995)::Drama\\n144::Brothers McMullen, The (1995)::Comedy\\n145::Bad Boys (1995)::Action\\n146::Amazing Panda Adventure, The (1995)::Adventure|Children's\\n147::Basketball Diaries, The (1995)::Drama\\n148::Awfully Big Adventure, An (1995)::Drama\\n149::Amateur (1994)::Crime|Drama|Thriller\\n150::Apollo 13 (1995)::Drama\\n151::Rob Roy (1995)::Drama|Romance|War\\n152::Addiction, The (1995)::Horror\\n153::Batman Forever (1995)::Action|Adventure|Comedy|Crime\\n154::Belle de jour (1967)::Drama\\n155::Beyond Rangoon (1995)::Drama|War\\n156::Blue in the Face (1995)::Comedy\\n157::Canadian Bacon (1994)::Comedy|War\\n158::Casper (1995)::Adventure|Children's\\n159::Clockers (1995)::Drama\\n160::Congo (1995)::Action|Adventure|Mystery|Sci-Fi\\n161::Crimson Tide (1995)::Drama|Thriller|War\\n162::Crumb (1994)::Documentary\\n163::Desperado (1995)::Action|Romance|Thriller\\n164::Devil in a Blue Dress (1995)::Crime|Film-Noir|Mystery|Thriller\\n165::Die Hard: With a Vengeance (1995)::Action|Thriller\\n166::Doom Generation, The (1995)::Comedy|Drama\\n167::Feast of July (1995)::Drama\\n168::First Knight (1995)::Action|Adventure|Drama|Romance\\n169::Free Willy 2: The Adventure Home (1995)::Adventure|Children's|Drama\\n170::Hackers (1995)::Action|Crime|Thriller\\n171::Jeffrey (1995)::Comedy\\n172::Johnny Mnemonic (1995)::Action|Sci-Fi|Thriller\\n173::Judge Dredd (1995)::Action|Adventure|Sci-Fi\\n174::Jury Duty (1995)::Comedy\\n175::Kids (1995)::Drama\\n176::Living in Oblivion (1995)::Comedy\\n177::Lord of Illusions (1995)::Horror\\n178::Love & Human Remains (1993)::Comedy\\n179::Mad Love (1995)::Drama|Romance\\n180::Mallrats (1995)::Comedy\\n181::Mighty Morphin Power Rangers: The Movie (1995)::Action|Children's\\n182::Moonlight and Valentino (1995)::Drama|Romance\\n183::Mute Witness (1994)::Thriller\\n184::Nadja (1994)::Drama\\n185::Net, The (1995)::Sci-Fi|Thriller\\n186::Nine Months (1995)::Comedy\\n187::Party Girl (1995)::Comedy\\n188::Prophecy, The (1995)::Horror\\n189::Reckless (1995)::Comedy\\n190::Safe (1995)::Thriller\\n191::Scarlet Letter, The (1995)::Drama\\n192::Show, The (1995)::Documentary\\n193::Showgirls (1995)::Drama\\n194::Smoke (1995)::Drama\\n195::Something to Talk About (1995)::Comedy|Drama|Romance\\n196::Species (1995)::Horror|Sci-Fi\\n197::Stars Fell on Henrietta, The (1995)::Drama\\n198::Strange Days (1995)::Action|Crime|Sci-Fi\\n199::Umbrellas of Cherbourg, The (Parapluies de Cherbourg, Les) (1964)::Drama|Musical\\n200::Tie That Binds, The (1995)::Thriller\\n201::Three Wishes (1995)::Drama\\n202::Total Eclipse (1995)::Drama|Romance\\n203::To Wong Foo, Thanks for Everything! Julie Newmar (1995)::Comedy\\n204::Under Siege 2: Dark Territory (1995)::Action\\n205::Unstrung Heroes (1995)::Comedy|Drama\\n206::Unzipped (1995)::Documentary\\n207::Walk in the Clouds, A (1995)::Drama|Romance\\n208::Waterworld (1995)::Action|Adventure\\n209::White Man's Burden (1995)::Drama\\n210::Wild Bill (1995)::Western\\n211::Browning Version, The (1994)::Drama\\n212::Bushwhacked (1995)::Comedy\\n213::Burnt By the Sun (Utomlyonnye solntsem) (1994)::Drama\\n214::Before the Rain (Pred dozhdot) (1994)::Drama\\n215::Before Sunrise (1995)::Drama|Romance\\n216::Billy Madison (1995)::Comedy\\n217::Babysitter, The (1995)::Drama|Thriller\\n218::Boys on the Side (1995)::Comedy|Drama\\n219::Cure, The (1995)::Drama\\n220::Castle Freak (1995)::Horror\\n222::Circle of Friends (1995)::Drama|Romance\\n223::Clerks (1994)::Comedy\\n224::Don Juan DeMarco (1995)::Comedy|Drama|Romance\\n225::Disclosure (1994)::Drama|Thriller\\n226::Dream Man (1995)::Thriller\\n227::Drop Zone (1994)::Action\\n228::Destiny Turns on the Radio (1995)::Comedy\\n229::Death and the Maiden (1994)::Drama|Thriller\\n230::Dolores Claiborne (1994)::Drama|Thriller\\n231::Dumb & Dumber (1994)::Comedy\\n232::Eat Drink Man Woman (1994)::Comedy|Drama\\n233::Exotica (1994)::Drama\\n234::Exit to Eden (1994)::Comedy\\n235::Ed Wood (1994)::Comedy|Drama\\n236::French Kiss (1995)::Comedy|Romance\\n237::Forget Paris (1995)::Comedy|Romance\\n238::Far From Home: The Adventures of Yellow Dog (1995)::Adventure|Children's\\n239::Goofy Movie, A (1995)::Animation|Children's|Comedy|Romance\\n240::Hideaway (1995)::Thriller\\n241::Fluke (1995)::Children's|Drama\\n242::Farinelli: il castrato (1994)::Drama|Musical\\n243::Gordy (1995)::Comedy\\n244::Gumby: The Movie (1995)::Animation|Children's\\n245::Glass Shield, The (1994)::Crime|Drama\\n246::Hoop Dreams (1994)::Documentary\\n247::Heavenly Creatures (1994)::Drama|Fantasy|Romance|Thriller\\n248::Houseguest (1994)::Comedy\\n249::Immortal Beloved (1994)::Drama|Romance\\n250::Heavyweights (1994)::Children's|Comedy\\n251::Hunted, The (1995)::Action\\n252::I.Q. (1994)::Comedy|Romance\\n253::Interview with the Vampire (1994)::Drama|Horror\\n254::Jefferson in Paris (1995)::Drama\\n255::Jerky Boys, The (1994)::Comedy\\n256::Junior (1994)::Comedy|Sci-Fi\\n257::Just Cause (1995)::Mystery|Thriller\\n258::Kid in King Arthur's Court, A (1995)::Adventure|Children's|Comedy|Fantasy|Romance\\n259::Kiss of Death (1995)::Crime|Drama|Thriller\\n260::Star Wars: Episode IV - A New Hope (1977)::Action|Adventure|Fantasy|Sci-Fi\\n261::Little Women (1994)::Drama\\n262::Little Princess, A (1995)::Children's|Drama\\n263::Ladybird Ladybird (1994)::Drama\\n264::Enfer, L' (1994)::Drama\\n265::Like Water for Chocolate (Como agua para chocolate) (1992)::Drama|Romance\\n266::Legends of the Fall (1994)::Drama|Romance|War|Western\\n267::Major Payne (1994)::Comedy\\n268::Little Odessa (1994)::Drama\\n269::My Crazy Life (Mi vida loca) (1993)::Drama\\n270::Love Affair (1994)::Drama|Romance\\n271::Losing Isaiah (1995)::Drama\\n272::Madness of King George, The (1994)::Drama\\n273::Mary Shelley's Frankenstein (1994)::Drama|Horror\\n274::Man of the House (1995)::Comedy\\n275::Mixed Nuts (1994)::Comedy\\n276::Milk Money (1994)::Comedy|Romance\\n277::Miracle on 34th Street (1994)::Drama\\n278::Miami Rhapsody (1995)::Comedy\\n279::My Family (1995)::Drama\\n280::Murder in the First (1995)::Drama|Thriller\\n281::Nobody's Fool (1994)::Drama\\n282::Nell (1994)::Drama\\n283::New Jersey Drive (1995)::Crime|Drama\\n284::New York Cop (1996)::Action|Crime\\n285::Beyond Bedlam (1993)::Drama|Horror\\n286::Nemesis 2: Nebula (1995)::Action|Sci-Fi|Thriller\\n287::Nina Takes a Lover (1994)::Comedy|Romance\\n288::Natural Born Killers (1994)::Action|Thriller\\n289::Only You (1994)::Comedy|Romance\\n290::Once Were Warriors (1994)::Crime|Drama\\n291::Poison Ivy II (1995)::Thriller\\n292::Outbreak (1995)::Action|Drama|Thriller\\n293::Professional, The (a.k.a. Leon: The Professional) (1994)::Crime|Drama|Romance|Thriller\\n294::Perez Family, The (1995)::Comedy|Romance\\n295::Pyromaniac's Love Story, A (1995)::Comedy|Romance\\n296::Pulp Fiction (1994)::Crime|Drama\\n297::Panther (1995)::Drama\\n298::Pushing Hands (1992)::Comedy\\n299::Priest (1994)::Drama\\n300::Quiz Show (1994)::Drama\\n301::Picture Bride (1995)::Drama|Romance\\n302::Queen Margot (La Reine Margot) (1994)::Drama|Romance\\n303::Quick and the Dead, The (1995)::Action|Adventure|Western\\n304::Roommates (1995)::Comedy|Drama\\n305::Ready to Wear (Pret-A-Porter) (1994)::Comedy\\n306::Three Colors: Red (1994)::Drama\\n307::Three Colors: Blue (1993)::Drama\\n308::Three Colors: White (1994)::Drama\\n309::Red Firecracker, Green Firecracker (1994)::Drama\\n310::Rent-a-Kid (1995)::Comedy\\n311::Relative Fear (1994)::Horror|Thriller\\n312::Stuart Saves His Family (1995)::Comedy\\n313::Swan Princess, The (1994)::Animation|Children's\\n314::Secret of Roan Inish, The (1994)::Drama\\n315::Specialist, The (1994)::Action\\n316::Stargate (1994)::Action|Adventure|Sci-Fi\\n317::Santa Clause, The (1994)::Children's|Comedy|Fantasy\\n318::Shawshank Redemption, The (1994)::Drama\\n319::Shallow Grave (1994)::Thriller\\n320::Suture (1993)::Film-Noir|Thriller\\n321::Strawberry and Chocolate (Fresa y chocolate) (1993)::Drama\\n322::Swimming with Sharks (1995)::Comedy|Drama\\n324::Sum of Us, The (1994)::Comedy\\n325::National Lampoon's Senior Trip (1995)::Comedy\\n326::To Live (Huozhe) (1994)::Drama\\n327::Tank Girl (1995)::Action|Comedy|Musical|Sci-Fi\\n328::Tales From the Crypt Presents: Demon Knight (1995)::Horror\\n329::Star Trek: Generations (1994)::Action|Adventure|Sci-Fi\\n330::Tales from the Hood (1995)::Comedy|Horror\\n331::Tom & Viv (1994)::Drama\\n332::Village of the Damned (1995)::Horror|Sci-Fi\\n333::Tommy Boy (1995)::Comedy\\n334::Vanya on 42nd Street (1994)::Drama\\n335::Underneath, The (1995)::Mystery|Thriller\\n336::Walking Dead, The (1995)::Drama|War\\n337::What's Eating Gilbert Grape (1993)::Drama\\n338::Virtuosity (1995)::Sci-Fi|Thriller\\n339::While You Were Sleeping (1995)::Comedy|Romance\\n340::War, The (1994)::Adventure|Drama\\n341::Double Happiness (1994)::Drama\\n342::Muriel's Wedding (1994)::Comedy|Romance\\n343::Baby-Sitters Club, The (1995)::Children's\\n344::Ace Ventura: Pet Detective (1994)::Comedy\\n345::Adventures of Priscilla, Queen of the Desert, The (1994)::Comedy|Drama\\n346::Backbeat (1993)::Drama|Musical\\n347::Bitter Moon (1992)::Drama\\n348::Bullets Over Broadway (1994)::Comedy\\n349::Clear and Present Danger (1994)::Action|Adventure|Thriller\\n350::Client, The (1994)::Drama|Mystery|Thriller\\n351::Corrina, Corrina (1994)::Comedy|Drama|Romance\\n352::Crooklyn (1994)::Comedy\\n353::Crow, The (1994)::Action|Romance|Thriller\\n354::Cobb (1994)::Drama\\n355::Flintstones, The (1994)::Children's|Comedy\\n356::Forrest Gump (1994)::Comedy|Romance|War\\n357::Four Weddings and a Funeral (1994)::Comedy|Romance\\n358::Higher Learning (1995)::Drama\\n359::I Like It Like That (1994)::Comedy|Drama|Romance\\n360::I Love Trouble (1994)::Action|Comedy\\n361::It Could Happen to You (1994)::Drama|Romance\\n362::Jungle Book, The (1994)::Adventure|Children's|Romance\\n363::Wonderful, Horrible Life of Leni Riefenstahl, The (Die Macht der Bilder) (1993)::Documentary\\n364::Lion King, The (1994)::Animation|Children's|Musical\\n365::Little Buddha (1993)::Drama\\n366::Wes Craven's New Nightmare (1994)::Horror\\n367::Mask, The (1994)::Comedy|Crime|Fantasy\\n368::Maverick (1994)::Action|Comedy|Western\\n369::Mrs. Parker and the Vicious Circle (1994)::Drama\\n370::Naked Gun 33 1/3: The Final Insult (1994)::Comedy\\n371::Paper, The (1994)::Comedy|Drama\\n372::Reality Bites (1994)::Comedy|Drama\\n373::Red Rock West (1992)::Thriller\\n374::Richie Rich (1994)::Children's|Comedy\\n375::Safe Passage (1994)::Drama\\n376::River Wild, The (1994)::Action|Thriller\\n377::Speed (1994)::Action|Romance|Thriller\\n378::Speechless (1994)::Comedy|Romance\\n379::Timecop (1994)::Action|Sci-Fi\\n380::True Lies (1994)::Action|Adventure|Comedy|Romance\\n381::When a Man Loves a Woman (1994)::Drama\\n382::Wolf (1994)::Drama|Horror\\n383::Wyatt Earp (1994)::Western\\n384::Bad Company (1995)::Action\\n385::Man of No Importance, A (1994)::Drama\\n386::S.F.W. (1994)::Drama\\n387::Low Down Dirty Shame, A (1994)::Action|Comedy\\n388::Boys Life (1995)::Drama\\n389::Colonel Chabert, Le (1994)::Drama|Romance|War\\n390::Faster Pussycat! Kill! Kill! (1965)::Action|Comedy|Drama\\n391::Jason's Lyric (1994)::Crime|Drama\\n392::Secret Adventures of Tom Thumb, The (1993)::Adventure|Children's\\n393::Street Fighter (1994)::Action\\n394::Coldblooded (1995)::Action\\n395::Desert Winds (1995)::Drama\\n396::Fall Time (1995)::Drama\\n397::Fear, The (1995)::Horror\\n398::Frank and Ollie (1995)::Documentary\\n399::Girl in the Cadillac (1995)::Drama\\n400::Homage (1995)::Drama\\n401::Mirage (1995)::Action|Thriller\\n402::Open Season (1996)::Comedy\\n403::Two Crimes (1995)::Comedy|Crime|Drama\\n404::Brother Minister: The Assassination of Malcolm X (1994)::Documentary\\n405::Highlander III: The Sorcerer (1994)::Action|Sci-Fi\\n406::Federal Hill (1994)::Drama\\n407::In the Mouth of Madness (1995)::Horror|Thriller\\n408::8 Seconds (1994)::Drama\\n409::Above the Rim (1994)::Drama\\n410::Addams Family Values (1993)::Comedy\\n411::You So Crazy (1994)::Comedy\\n412::Age of Innocence, The (1993)::Drama\\n413::Airheads (1994)::Comedy\\n414::Air Up There, The (1994)::Comedy\\n415::Another Stakeout (1993)::Comedy|Thriller\\n416::Bad Girls (1994)::Western\\n417::Barcelona (1994)::Comedy|Romance\\n418::Being Human (1993)::Drama\\n419::Beverly Hillbillies, The (1993)::Comedy\\n420::Beverly Hills Cop III (1994)::Action|Comedy\\n421::Black Beauty (1994)::Adventure|Children's\\n422::Blink (1994)::Thriller\\n423::Blown Away (1994)::Action|Thriller\\n424::Blue Chips (1994)::Drama\\n425::Blue Sky (1994)::Drama|Romance\\n426::Body Snatchers (1993)::Horror|Sci-Fi|Thriller\\n427::Boxing Helena (1993)::Mystery|Romance|Thriller\\n428::Bronx Tale, A (1993)::Drama\\n429::Cabin Boy (1994)::Comedy\\n430::Calendar Girl (1993)::Drama\\n431::Carlito's Way (1993)::Crime|Drama\\n432::City Slickers II: The Legend of Curly's Gold (1994)::Comedy|Western\\n433::Clean Slate (1994)::Comedy\\n434::Cliffhanger (1993)::Action|Adventure|Crime\\n435::Coneheads (1993)::Comedy|Sci-Fi\\n436::Color of Night (1994)::Drama|Thriller\\n437::Cops and Robbersons (1994)::Comedy\\n438::Cowboy Way, The (1994)::Action|Comedy\\n439::Dangerous Game (1993)::Drama\\n440::Dave (1993)::Comedy|Romance\\n441::Dazed and Confused (1993)::Comedy\\n442::Demolition Man (1993)::Action|Sci-Fi\\n443::Endless Summer 2, The (1994)::Documentary\\n444::Even Cowgirls Get the Blues (1993)::Comedy|Romance\\n445::Fatal Instinct (1993)::Comedy\\n446::Farewell My Concubine (1993)::Drama|Romance\\n447::Favor, The (1994)::Comedy|Romance\\n448::Fearless (1993)::Drama\\n449::Fear of a Black Hat (1993)::Comedy\\n450::With Honors (1994)::Comedy|Drama\\n451::Flesh and Bone (1993)::Drama|Mystery|Romance\\n452::Widows' Peak (1994)::Drama\\n453::For Love or Money (1993)::Comedy\\n454::Firm, The (1993)::Drama|Thriller\\n455::Free Willy (1993)::Adventure|Children's|Drama\\n456::Fresh (1994)::Drama\\n457::Fugitive, The (1993)::Action|Thriller\\n458::Geronimo: An American Legend (1993)::Drama|Western\\n459::Getaway, The (1994)::Action\\n460::Getting Even with Dad (1994)::Comedy\\n461::Go Fish (1994)::Drama|Romance\\n462::Good Man in Africa, A (1994)::Action|Adventure\\n463::Guilty as Sin (1993)::Crime|Drama|Thriller\\n464::Hard Target (1993)::Action|Adventure|Crime|Thriller\\n465::Heaven & Earth (1993)::Action|Drama|War\\n466::Hot Shots! Part Deux (1993)::Action|Comedy|War\\n467::Live Nude Girls (1995)::Comedy\\n468::Englishman Who Went Up a Hill, But Came Down a Mountain, The (1995)::Comedy|Romance\\n469::House of the Spirits, The (1993)::Drama|Romance\\n470::House Party 3 (1994)::Comedy\\n471::Hudsucker Proxy, The (1994)::Comedy|Romance\\n472::I'll Do Anything (1994)::Comedy|Drama\\n473::In the Army Now (1994)::Comedy|War\\n474::In the Line of Fire (1993)::Action|Thriller\\n475::In the Name of the Father (1993)::Drama\\n476::Inkwell, The (1994)::Comedy|Drama\\n477::What's Love Got to Do with It? (1993)::Drama\\n478::Jimmy Hollywood (1994)::Comedy\\n479::Judgment Night (1993)::Action\\n480::Jurassic Park (1993)::Action|Adventure|Sci-Fi\\n481::Kalifornia (1993)::Drama|Thriller\\n482::Killing Zoe (1994)::Thriller\\n483::King of the Hill (1993)::Drama\\n484::Lassie (1994)::Adventure|Children's\\n485::Last Action Hero (1993)::Action|Comedy\\n486::Life with Mikey (1993)::Comedy\\n487::Lightning Jack (1994)::Comedy|Western\\n488::M. Butterfly (1993)::Drama\\n489::Made in America (1993)::Comedy\\n490::Malice (1993)::Thriller\\n491::Man Without a Face, The (1993)::Drama\\n492::Manhattan Murder Mystery (1993)::Comedy|Mystery\\n493::Menace II Society (1993)::Action|Crime|Drama\\n494::Executive Decision (1996)::Action|Thriller\\n495::In the Realm of the Senses (Ai no corrida) (1976)::Drama\\n496::What Happened Was... (1994)::Comedy|Drama|Romance\\n497::Much Ado About Nothing (1993)::Comedy|Romance\\n498::Mr. Jones (1993)::Drama|Romance\\n499::Mr. Wonderful (1993)::Comedy|Romance\\n500::Mrs. Doubtfire (1993)::Comedy\\n501::Naked (1993)::Drama\\n502::Next Karate Kid, The (1994)::Action|Children's\\n503::New Age, The (1994)::Drama\\n504::No Escape (1994)::Action|Sci-Fi\\n505::North (1994)::Comedy\\n506::Orlando (1993)::Drama\\n507::Perfect World, A (1993)::Action|Drama\\n508::Philadelphia (1993)::Drama\\n509::Piano, The (1993)::Drama|Romance\\n510::Poetic Justice (1993)::Drama\\n511::Program, The (1993)::Action|Drama\\n512::Robert A. Heinlein's The Puppet Masters (1994)::Horror|Sci-Fi\\n513::Radioland Murders (1994)::Comedy|Mystery|Romance\\n514::Ref, The (1994)::Comedy\\n515::Remains of the Day, The (1993)::Drama\\n516::Renaissance Man (1994)::Comedy|Drama|War\\n517::Rising Sun (1993)::Action|Drama|Mystery\\n518::Road to Wellville, The (1994)::Comedy\\n519::Robocop 3 (1993)::Sci-Fi|Thriller\\n520::Robin Hood: Men in Tights (1993)::Comedy\\n521::Romeo Is Bleeding (1993)::Crime|Thriller\\n522::Romper Stomper (1992)::Action|Drama\\n523::Ruby in Paradise (1993)::Drama\\n524::Rudy (1993)::Drama\\n525::Saint of Fort Washington, The (1993)::Drama\\n526::Savage Nights (Nuits fauves, Les) (1992)::Drama\\n527::Schindler's List (1993)::Drama|War\\n528::Scout, The (1994)::Drama\\n529::Searching for Bobby Fischer (1993)::Drama\\n530::Second Best (1994)::Drama\\n531::Secret Garden, The (1993)::Children's|Drama\\n532::Serial Mom (1994)::Comedy|Crime|Horror\\n533::Shadow, The (1994)::Action\\n534::Shadowlands (1993)::Drama|Romance\\n535::Short Cuts (1993)::Drama\\n536::Simple Twist of Fate, A (1994)::Drama\\n537::Sirens (1994)::Comedy|Drama\\n538::Six Degrees of Separation (1993)::Drama\\n539::Sleepless in Seattle (1993)::Comedy|Romance\\n540::Sliver (1993)::Thriller\\n541::Blade Runner (1982)::Film-Noir|Sci-Fi\\n542::Son in Law (1993)::Comedy\\n543::So I Married an Axe Murderer (1993)::Comedy|Romance|Thriller\\n544::Striking Distance (1993)::Action\\n545::Harlem (1993)::Drama\\n546::Super Mario Bros. (1993)::Action|Adventure|Children's|Sci-Fi\\n547::Surviving the Game (1994)::Action|Adventure|Thriller\\n548::Terminal Velocity (1994)::Action\\n549::Thirty-Two Short Films About Glenn Gould (1993)::Documentary\\n550::Threesome (1994)::Comedy|Romance\\n551::Nightmare Before Christmas, The (1993)::Children's|Comedy|Musical\\n552::Three Musketeers, The (1993)::Action|Adventure|Comedy\\n553::Tombstone (1993)::Western\\n554::Trial by Jury (1994)::Thriller\\n555::True Romance (1993)::Action|Crime|Romance\\n556::War Room, The (1993)::Documentary\\n557::Mamma Roma (1962)::Drama\\n558::Pagemaster, The (1994)::Action|Adventure|Animation|Children's|Fantasy\\n559::Paris, France (1993)::Comedy\\n560::Beans of Egypt, Maine, The (1994)::Drama\\n561::Killer (Bulletproof Heart) (1994)::Thriller\\n562::Welcome to the Dollhouse (1995)::Comedy|Drama\\n563::Germinal (1993)::Drama\\n564::Chasers (1994)::Comedy\\n565::Cronos (1992)::Horror\\n566::Naked in New York (1994)::Comedy|Romance\\n567::Kika (1993)::Drama\\n568::Bhaji on the Beach (1993)::Comedy|Drama\\n569::Little Big League (1994)::Children's|Comedy\\n570::Slingshot, The (Kådisbellan ) (1993)::Comedy|Drama\\n571::Wedding Gift, The (1994)::Drama\\n572::Foreign Student (1994)::Drama\\n573::Ciao, Professore! (Io speriamo che me la cavo ) (1993)::Drama\\n574::Spanking the Monkey (1994)::Comedy|Drama\\n575::Little Rascals, The (1994)::Children's|Comedy\\n576::Fausto (1993)::Comedy\\n577::Andre (1994)::Adventure|Children's\\n578::Hour of the Pig, The (1993)::Drama|Mystery\\n579::Scorta, La (1993)::Thriller\\n580::Princess Caraboo (1994)::Drama\\n581::Celluloid Closet, The (1995)::Documentary\\n582::Metisse (Café au Lait) (1993)::Comedy\\n583::Dear Diary (Caro Diario) (1994)::Comedy|Drama\\n584::I Don't Want to Talk About It (De eso no se habla) (1993)::Drama\\n585::Brady Bunch Movie, The (1995)::Comedy\\n586::Home Alone (1990)::Children's|Comedy\\n587::Ghost (1990)::Comedy|Romance|Thriller\\n588::Aladdin (1992)::Animation|Children's|Comedy|Musical\\n589::Terminator 2: Judgment Day (1991)::Action|Sci-Fi|Thriller\\n590::Dances with Wolves (1990)::Adventure|Drama|Western\\n591::Tough and Deadly (1995)::Action|Drama|Thriller\\n592::Batman (1989)::Action|Adventure|Crime|Drama\\n593::Silence of the Lambs, The (1991)::Drama|Thriller\\n594::Snow White and the Seven Dwarfs (1937)::Animation|Children's|Musical\\n595::Beauty and the Beast (1991)::Animation|Children's|Musical\\n596::Pinocchio (1940)::Animation|Children's\\n597::Pretty Woman (1990)::Comedy|Romance\\n598::Window to Paris (1994)::Comedy\\n599::Wild Bunch, The (1969)::Western\\n600::Love and a .45 (1994)::Thriller\\n601::Wooden Man's Bride, The (Wu Kui) (1994)::Drama\\n602::Great Day in Harlem, A (1994)::Documentary\\n603::Bye Bye, Love (1995)::Comedy\\n604::Criminals (1996)::Documentary\\n605::One Fine Day (1996)::Drama|Romance\\n606::Candyman: Farewell to the Flesh (1995)::Horror\\n607::Century (1993)::Drama\\n608::Fargo (1996)::Crime|Drama|Thriller\\n609::Homeward Bound II: Lost in San Francisco (1996)::Adventure|Children's\\n610::Heavy Metal (1981)::Action|Adventure|Animation|Horror|Sci-Fi\\n611::Hellraiser: Bloodline (1996)::Action|Horror|Sci-Fi\\n612::Pallbearer, The (1996)::Comedy\\n613::Jane Eyre (1996)::Drama|Romance\\n614::Loaded (1994)::Drama|Thriller\\n615::Bread and Chocolate (Pane e cioccolata) (1973)::Drama\\n616::Aristocats, The (1970)::Animation|Children's\\n617::Flower of My Secret, The (La Flor de Mi Secreto) (1995)::Drama\\n618::Two Much (1996)::Comedy|Romance\\n619::Ed (1996)::Comedy\\n620::Scream of Stone (Schrei aus Stein) (1991)::Drama\\n621::My Favorite Season (1993)::Drama\\n623::Modern Affair, A (1995)::Romance\\n624::Condition Red (1995)::Action|Drama|Thriller\\n625::Asfour Stah (1990)::Drama\\n626::Thin Line Between Love and Hate, A (1996)::Comedy\\n627::Last Supper, The (1995)::Drama|Thriller\\n628::Primal Fear (1996)::Drama|Thriller\\n629::Rude (1995)::Drama\\n630::Carried Away (1996)::Drama|Romance\\n631::All Dogs Go to Heaven 2 (1996)::Animation|Children's|Musical\\n632::Land and Freedom (Tierra y libertad) (1995)::War\\n633::Denise Calls Up (1995)::Comedy\\n634::Theodore Rex (1995)::Comedy\\n635::Family Thing, A (1996)::Comedy|Drama\\n636::Frisk (1995)::Drama\\n637::Sgt. Bilko (1996)::Comedy\\n638::Jack and Sarah (1995)::Romance\\n639::Girl 6 (1996)::Comedy\\n640::Diabolique (1996)::Drama|Thriller\\n641::Little Indian, Big City (Un indien dans la ville) (1994)::Comedy\\n642::Roula (1995)::Drama\\n643::Peanuts - Die Bank zahlt alles (1996)::Comedy\\n644::Happy Weekend (1996)::Comedy\\n645::Nelly & Monsieur Arnaud (1995)::Drama\\n647::Courage Under Fire (1996)::Drama|War\\n648::Mission: Impossible (1996)::Action|Adventure|Mystery\\n649::Cold Fever (Á köldum klaka) (1994)::Comedy|Drama\\n650::Moll Flanders (1996)::Drama\\n651::Superweib, Das (1996)::Comedy\\n652::301, 302 (1995)::Mystery\\n653::Dragonheart (1996)::Action|Adventure|Fantasy\\n654::Und keiner weint mir nach (1996)::Drama|Romance\\n655::Mutters Courage (1995)::Comedy\\n656::Eddie (1996)::Comedy\\n657::Yankee Zulu (1994)::Comedy|Drama\\n658::Billy's Holiday (1995)::Drama\\n659::Purple Noon (1960)::Crime|Thriller\\n660::August (1996)::Drama\\n661::James and the Giant Peach (1996)::Animation|Children's|Musical\\n662::Fear (1996)::Thriller\\n663::Kids in the Hall: Brain Candy (1996)::Comedy\\n664::Faithful (1996)::Comedy\\n665::Underground (1995)::War\\n666::All Things Fair (1996)::Drama\\n667::Bloodsport 2 (1995)::Action\\n668::Pather Panchali (1955)::Drama\\n669::Aparajito (1956)::Drama\\n670::World of Apu, The (Apur Sansar) (1959)::Drama\\n671::Mystery Science Theater 3000: The Movie (1996)::Comedy|Sci-Fi\\n672::Tarantella (1995)::Drama\\n673::Space Jam (1996)::Adventure|Animation|Children's|Comedy|Fantasy\\n674::Barbarella (1968)::Adventure|Sci-Fi\\n675::Hostile Intentions (1994)::Action|Drama|Thriller\\n676::They Bite (1996)::Drama\\n678::Some Folks Call It a Sling Blade (1993)::Drama|Thriller\\n679::Run of the Country, The (1995)::Drama\\n680::Alphaville (1965)::Sci-Fi\\n681::Clean Slate (Coup de Torchon) (1981)::Crime\\n682::Tigrero: A Film That Was Never Made (1994)::Documentary|Drama\\n683::Eye of Vichy, The (Oeil de Vichy, L') (1993)::Documentary\\n684::Windows (1980)::Drama\\n685::It's My Party (1995)::Drama\\n687::Country Life (1994)::Drama|Romance\\n688::Operation Dumbo Drop (1995)::Action|Adventure|Comedy|War\\n690::Promise, The (Versprechen, Das) (1994)::Romance\\n691::Mrs. Winterbourne (1996)::Comedy|Romance\\n692::Solo (1996)::Action|Sci-Fi|Thriller\\n693::Under the Domin Tree (Etz Hadomim Tafus) (1994)::Drama\\n694::Substitute, The (1996)::Action\\n695::True Crime (1995)::Mystery|Thriller\\n696::Butterfly Kiss (1995)::Thriller\\n697::Feeling Minnesota (1996)::Drama|Romance\\n698::Delta of Venus (1994)::Drama\\n699::To Cross the Rubicon (1991)::Drama\\n700::Angus (1995)::Comedy\\n701::Daens (1992)::Drama\\n702::Faces (1968)::Drama\\n703::Boys (1996)::Drama\\n704::Quest, The (1996)::Action|Adventure\\n705::Cosi (1996)::Comedy\\n706::Sunset Park (1996)::Drama\\n707::Mulholland Falls (1996)::Crime|Film-Noir|Thriller\\n708::Truth About Cats & Dogs, The (1996)::Comedy|Romance\\n709::Oliver & Company (1988)::Animation|Children's\\n710::Celtic Pride (1996)::Comedy\\n711::Flipper (1996)::Adventure|Children's\\n712::Captives (1994)::Drama\\n713::Of Love and Shadows (1994)::Drama\\n714::Dead Man (1995)::Western\\n715::Horseman on the Roof, The (Hussard sur le toit, Le) (1995)::Drama\\n716::Switchblade Sisters (1975)::Crime\\n717::Mouth to Mouth (Boca a boca) (1995)::Comedy\\n718::Visitors, The (Les Visiteurs) (1993)::Comedy|Sci-Fi\\n719::Multiplicity (1996)::Comedy\\n720::Wallace & Gromit: The Best of Aardman Animation (1996)::Animation\\n721::Halfmoon (Paul Bowles - Halbmond) (1995)::Drama\\n722::Haunted World of Edward D. Wood Jr., The (1995)::Documentary\\n723::Two Friends (1986)::Drama\\n724::Craft, The (1996)::Drama|Horror\\n725::Great White Hype, The (1996)::Comedy\\n726::Last Dance (1996)::Drama\\n727::War Stories (1995)::Documentary\\n728::Cold Comfort Farm (1995)::Comedy\\n729::Institute Benjamenta, or This Dream People Call Human Life (1995)::Drama\\n730::Low Life, The (1994)::Drama\\n731::Heaven's Prisoners (1996)::Mystery|Thriller\\n732::Original Gangstas (1996)::Crime\\n733::Rock, The (1996)::Action|Adventure|Thriller\\n734::Getting Away With Murder (1996)::Comedy\\n735::Cemetery Man (Dellamorte Dellamore) (1994)::Comedy|Horror\\n736::Twister (1996)::Action|Adventure|Romance|Thriller\\n737::Barb Wire (1996)::Action|Sci-Fi\\n738::Garcu, Le (1995)::Drama\\n739::Honigmond (1996)::Comedy\\n741::Ghost in the Shell (Kokaku kidotai) (1995)::Animation|Sci-Fi\\n742::Thinner (1996)::Horror|Thriller\\n743::Spy Hard (1996)::Comedy\\n744::Brothers in Trouble (1995)::Drama\\n745::Close Shave, A (1995)::Animation|Comedy|Thriller\\n746::Force of Evil (1948)::Film-Noir\\n747::Stupids, The (1996)::Comedy\\n748::Arrival, The (1996)::Action|Sci-Fi|Thriller\\n749::Man from Down Under, The (1943)::Drama\\n750::Dr. Strangelove or: How I Learned to Stop Worrying and Love the Bomb (1963)::Sci-Fi|War\\n751::Careful (1992)::Comedy\\n752::Vermont Is For Lovers (1992)::Comedy|Romance\\n753::Month by the Lake, A (1995)::Comedy|Drama\\n754::Gold Diggers: The Secret of Bear Mountain (1995)::Adventure|Children's\\n755::Kim (1950)::Children's|Drama\\n756::Carmen Miranda: Bananas Is My Business (1994)::Documentary\\n757::Ashes of Time (1994)::Drama\\n758::Jar, The (Khomreh) (1992)::Drama\\n759::Maya Lin: A Strong Clear Vision (1994)::Documentary\\n760::Stalingrad (1993)::War\\n761::Phantom, The (1996)::Adventure\\n762::Striptease (1996)::Comedy|Crime\\n763::Last of the High Kings, The (a.k.a. Summer Fling) (1996)::Drama\\n764::Heavy (1995)::Drama|Romance\\n765::Jack (1996)::Comedy|Drama\\n766::I Shot Andy Warhol (1996)::Drama\\n767::Grass Harp, The (1995)::Drama\\n768::Someone Else's America (1995)::Drama\\n769::Marlene Dietrich: Shadow and Light (1996)::Documentary\\n770::Costa Brava (1946)::Drama\\n771::Vie est belle, La (Life is Rosey) (1987)::Comedy|Drama\\n772::Quartier Mozart (1992)::Comedy\\n773::Touki Bouki (Journey of the Hyena) (1973)::Drama\\n774::Wend Kuuni (God's Gift) (1982)::Drama\\n775::Spirits of the Dead (Tre Passi nel Delirio) (1968)::Horror\\n776::Babyfever (1994)::Comedy|Drama\\n777::Pharaoh's Army (1995)::War\\n778::Trainspotting (1996)::Drama\\n779::'Til There Was You (1997)::Drama|Romance\\n780::Independence Day (ID4) (1996)::Action|Sci-Fi|War\\n781::Stealing Beauty (1996)::Drama\\n782::Fan, The (1996)::Thriller\\n783::Hunchback of Notre Dame, The (1996)::Animation|Children's|Musical\\n784::Cable Guy, The (1996)::Comedy\\n785::Kingpin (1996)::Comedy\\n786::Eraser (1996)::Action|Thriller\\n787::Gate of Heavenly Peace, The (1995)::Documentary\\n788::Nutty Professor, The (1996)::Comedy|Fantasy|Romance|Sci-Fi\\n789::I, Worst of All (Yo, la peor de todas) (1990)::Drama\\n790::An Unforgettable Summer (1994)::Drama\\n791::Last Klezmer: Leopold Kozlowski, His Life and Music, The (1995)::Documentary\\n792::Hungarian Fairy Tale, A (1987)::Fantasy\\n793::My Life and Times With Antonin Artaud (En compagnie d'Antonin Artaud) (1993)::Drama\\n794::Midnight Dancers (Sibak) (1994)::Comedy|Drama\\n795::Somebody to Love (1994)::Drama\\n796::Very Natural Thing, A (1974)::Drama\\n797::Old Lady Who Walked in the Sea, The (Vieille qui marchait dans la mer, La) (1991)::Comedy\\n798::Daylight (1996)::Action|Adventure|Thriller\\n799::Frighteners, The (1996)::Comedy|Horror\\n800::Lone Star (1996)::Drama|Mystery\\n801::Harriet the Spy (1996)::Children's|Comedy\\n802::Phenomenon (1996)::Drama|Romance\\n803::Walking and Talking (1996)::Romance\\n804::She's the One (1996)::Comedy|Romance\\n805::Time to Kill, A (1996)::Drama\\n806::American Buffalo (1996)::Drama\\n807::Rendezvous in Paris (Rendez-vous de Paris, Les) (1995)::Comedy|Romance\\n808::Alaska (1996)::Adventure|Children's\\n809::Fled (1996)::Action|Adventure\\n810::Kazaam (1996)::Children's|Comedy|Fantasy\\n811::Bewegte Mann, Der (1994)::Comedy\\n812::Magic Hunter (1994)::Drama\\n813::Larger Than Life (1996)::Comedy\\n814::Boy Called Hate, A (1995)::Drama\\n815::Power 98 (1995)::Action|Mystery|Thriller\\n816::Two Deaths (1995)::Drama\\n818::Very Brady Sequel, A (1996)::Comedy\\n819::Stefano Quantestorie (1993)::Comedy|Drama\\n820::Death in the Garden (Mort en ce jardin, La) (1956)::Drama\\n821::Crude Oasis, The (1995)::Romance\\n822::Hedd Wyn (1992)::Drama\\n823::Collectionneuse, La (1967)::Drama\\n824::Kaspar Hauser (1993)::Drama\\n825::Echte Kerle (1996)::Comedy|Romance\\n826::Diebinnen (1995)::Drama\\n827::Convent, The (Convento, O) (1995)::Drama\\n828::Adventures of Pinocchio, The (1996)::Adventure|Children's\\n829::Joe's Apartment (1996)::Comedy|Musical\\n830::First Wives Club, The (1996)::Comedy\\n831::Stonewall (1995)::Drama\\n832::Ransom (1996)::Drama|Thriller\\n833::High School High (1996)::Comedy\\n834::Phat Beach (1996)::Comedy\\n835::Foxfire (1996)::Drama\\n836::Chain Reaction (1996)::Action|Adventure|Thriller\\n837::Matilda (1996)::Children's|Comedy\\n838::Emma (1996)::Comedy|Drama|Romance\\n839::Crow: City of Angels, The (1996)::Action|Thriller\\n840::House Arrest (1996)::Comedy\\n841::Eyes Without a Face (1959)::Horror\\n842::Tales from the Crypt Presents: Bordello of Blood (1996)::Horror\\n843::Lotto Land (1995)::Drama\\n844::Story of Xinghua, The (1993)::Drama\\n845::Day the Sun Turned Cold, The (Tianguo niezi) (1994)::Drama\\n846::Flirt (1995)::Drama\\n847::Big Squeeze, The (1996)::Comedy|Drama\\n848::Spitfire Grill, The (1996)::Drama\\n849::Escape from L.A. (1996)::Action|Adventure|Sci-Fi|Thriller\\n850::Cyclo (1995)::Crime|Drama\\n851::Basquiat (1996)::Drama\\n852::Tin Cup (1996)::Comedy|Romance\\n853::Dingo (1992)::Drama\\n854::Ballad of Narayama, The (Narayama Bushiko) (1958)::Drama\\n855::Every Other Weekend (1990)::Drama\\n856::Mille bolle blu (1993)::Comedy\\n857::Crows and Sparrows (1949)::Drama\\n858::Godfather, The (1972)::Action|Crime|Drama\\n859::Hippie Revolution, The (1996)::Documentary\\n860::Maybe, Maybe Not (Bewegte Mann, Der) (1994)::Comedy\\n861::Supercop (1992)::Action|Thriller\\n862::Manny & Lo (1996)::Drama\\n863::Celestial Clockwork (1994)::Comedy\\n864::Wife, The (1995)::Comedy|Drama\\n865::Small Faces (1995)::Drama\\n866::Bound (1996)::Crime|Drama|Romance|Thriller\\n867::Carpool (1996)::Comedy|Crime\\n868::Death in Brunswick (1991)::Comedy\\n869::Kansas City (1996)::Crime\\n870::Gone Fishin' (1997)::Comedy\\n871::Lover's Knot (1996)::Comedy\\n872::Aiqing wansui (1994)::Drama\\n873::Shadow of Angels (Schatten der Engel) (1976)::Drama\\n874::Killer: A Journal of Murder (1995)::Crime|Drama\\n875::Nothing to Lose (1994)::Drama\\n876::Police Story 4: Project S (Chao ji ji hua) (1993)::Action\\n877::Girls Town (1996)::Drama\\n878::Bye-Bye (1995)::Drama\\n879::Relic, The (1997)::Horror\\n880::Island of Dr. Moreau, The (1996)::Sci-Fi|Thriller\\n881::First Kid (1996)::Children's|Comedy\\n882::Trigger Effect, The (1996)::Drama|Thriller\\n884::Sweet Nothing (1995)::Drama\\n885::Bogus (1996)::Children's|Drama|Fantasy\\n886::Bulletproof (1996)::Action\\n887::Talk of Angels (1998)::Drama\\n888::Land Before Time III: The Time of the Great Giving (1995)::Animation|Children's\\n889::1-900 (1994)::Romance\\n890::Baton Rouge (1988)::Thriller\\n891::Halloween: The Curse of Michael Myers (1995)::Horror|Thriller\\n892::Twelfth Night (1996)::Comedy|Drama|Romance\\n893::Mother Night (1996)::Drama\\n894::Liebelei (1933)::Romance\\n895::Venice/Venice (1992)::Drama\\n896::Wild Reeds (1994)::Drama\\n897::For Whom the Bell Tolls (1943)::Adventure|War\\n898::Philadelphia Story, The (1940)::Comedy|Romance\\n899::Singin' in the Rain (1952)::Musical|Romance\\n900::American in Paris, An (1951)::Musical|Romance\\n901::Funny Face (1957)::Comedy|Musical\\n902::Breakfast at Tiffany's (1961)::Drama|Romance\\n903::Vertigo (1958)::Mystery|Thriller\\n904::Rear Window (1954)::Mystery|Thriller\\n905::It Happened One Night (1934)::Comedy\\n906::Gaslight (1944)::Mystery|Thriller\\n907::Gay Divorcee, The (1934)::Comedy|Musical|Romance\\n908::North by Northwest (1959)::Drama|Thriller\\n909::Apartment, The (1960)::Comedy|Drama\\n910::Some Like It Hot (1959)::Comedy|Crime\\n911::Charade (1963)::Comedy|Mystery|Romance|Thriller\\n912::Casablanca (1942)::Drama|Romance|War\\n913::Maltese Falcon, The (1941)::Film-Noir|Mystery\\n914::My Fair Lady (1964)::Musical|Romance\\n915::Sabrina (1954)::Comedy|Romance\\n916::Roman Holiday (1953)::Comedy|Romance\\n917::Little Princess, The (1939)::Children's|Drama\\n918::Meet Me in St. Louis (1944)::Musical\\n919::Wizard of Oz, The (1939)::Adventure|Children's|Drama|Musical\\n920::Gone with the Wind (1939)::Drama|Romance|War\\n921::My Favorite Year (1982)::Comedy\\n922::Sunset Blvd. (a.k.a. Sunset Boulevard) (1950)::Film-Noir\\n923::Citizen Kane (1941)::Drama\\n924::2001: A Space Odyssey (1968)::Drama|Mystery|Sci-Fi|Thriller\\n925::Golden Earrings (1947)::Adventure|Romance\\n926::All About Eve (1950)::Drama\\n927::Women, The (1939)::Comedy\\n928::Rebecca (1940)::Romance|Thriller\\n929::Foreign Correspondent (1940)::Thriller\\n930::Notorious (1946)::Film-Noir|Romance|Thriller\\n931::Spellbound (1945)::Mystery|Romance|Thriller\\n932::Affair to Remember, An (1957)::Romance\\n933::To Catch a Thief (1955)::Comedy|Romance|Thriller\\n934::Father of the Bride (1950)::Comedy\\n935::Band Wagon, The (1953)::Comedy|Musical\\n936::Ninotchka (1939)::Comedy|Romance\\n937::Love in the Afternoon (1957)::Comedy|Romance\\n938::Gigi (1958)::Musical\\n939::Reluctant Debutante, The (1958)::Comedy|Drama\\n940::Adventures of Robin Hood, The (1938)::Action|Adventure\\n941::Mark of Zorro, The (1940)::Adventure\\n942::Laura (1944)::Crime|Film-Noir|Mystery\\n943::Ghost and Mrs. Muir, The (1947)::Drama|Romance\\n944::Lost Horizon (1937)::Drama\\n945::Top Hat (1935)::Comedy|Musical|Romance\\n946::To Be or Not to Be (1942)::Comedy|Drama|War\\n947::My Man Godfrey (1936)::Comedy\\n948::Giant (1956)::Drama\\n949::East of Eden (1955)::Drama\\n950::Thin Man, The (1934)::Mystery\\n951::His Girl Friday (1940)::Comedy\\n952::Around the World in 80 Days (1956)::Adventure|Comedy\\n953::It's a Wonderful Life (1946)::Drama\\n954::Mr. Smith Goes to Washington (1939)::Drama\\n955::Bringing Up Baby (1938)::Comedy\\n956::Penny Serenade (1941)::Drama|Romance\\n957::Scarlet Letter, The (1926)::Drama\\n958::Lady of Burlesque (1943)::Comedy|Mystery\\n959::Of Human Bondage (1934)::Drama\\n960::Angel on My Shoulder (1946)::Crime|Drama\\n961::Little Lord Fauntleroy (1936)::Drama\\n962::They Made Me a Criminal (1939)::Crime|Drama\\n963::Inspector General, The (1949)::Musical\\n964::Angel and the Badman (1947)::Western\\n965::39 Steps, The (1935)::Thriller\\n966::Walk in the Sun, A (1945)::Drama\\n967::Outlaw, The (1943)::Western\\n968::Night of the Living Dead (1968)::Horror|Sci-Fi\\n969::African Queen, The (1951)::Action|Adventure|Romance|War\\n970::Beat the Devil (1954)::Comedy|Drama\\n971::Cat on a Hot Tin Roof (1958)::Drama\\n972::Last Time I Saw Paris, The (1954)::Drama\\n973::Meet John Doe (1941)::Drama\\n974::Algiers (1938)::Drama|Romance\\n975::Something to Sing About (1937)::Comedy|Musical\\n976::Farewell to Arms, A (1932)::Romance|War\\n977::Moonlight Murder (1936)::Mystery\\n978::Blue Angel, The (Blaue Engel, Der) (1930)::Drama\\n979::Nothing Personal (1995)::Drama|War\\n980::In the Line of Duty 2 (1987)::Action\\n981::Dangerous Ground (1997)::Drama\\n982::Picnic (1955)::Drama\\n983::Madagascar Skin (1995)::Romance\\n984::Pompatus of Love, The (1996)::Comedy|Drama\\n985::Small Wonders (1996)::Documentary\\n986::Fly Away Home (1996)::Adventure|Children's\\n987::Bliss (1997)::Drama|Romance\\n988::Grace of My Heart (1996)::Comedy|Drama\\n989::Schlafes Bruder (Brother of Sleep) (1995)::Drama\\n990::Maximum Risk (1996)::Action|Adventure|Thriller\\n991::Michael Collins (1996)::Drama|War\\n992::Rich Man's Wife, The (1996)::Thriller\\n993::Infinity (1996)::Drama\\n994::Big Night (1996)::Drama\\n996::Last Man Standing (1996)::Action|Drama|Western\\n997::Caught (1996)::Drama|Thriller\\n998::Set It Off (1996)::Action|Crime\\n999::2 Days in the Valley (1996)::Crime\\n1000::Curdled (1996)::Crime\\n1001::Associate, The (L'Associe)(1982)::Comedy\\n1002::Ed's Next Move (1996)::Comedy\\n1003::Extreme Measures (1996)::Drama|Thriller\\n1004::Glimmer Man, The (1996)::Action|Thriller\\n1005::D3: The Mighty Ducks (1996)::Children's|Comedy\\n1006::Chamber, The (1996)::Drama\\n1007::Apple Dumpling Gang, The (1975)::Children's|Comedy|Western\\n1008::Davy Crockett, King of the Wild Frontier (1955)::Western\\n1009::Escape to Witch Mountain (1975)::Adventure|Children's|Fantasy\\n1010::Love Bug, The (1969)::Children's|Comedy\\n1011::Herbie Rides Again (1974)::Adventure|Children's|Comedy\\n1012::Old Yeller (1957)::Children's|Drama\\n1013::Parent Trap, The (1961)::Children's|Drama\\n1014::Pollyanna (1960)::Children's|Comedy|Drama\\n1015::Homeward Bound: The Incredible Journey (1993)::Adventure|Children's\\n1016::Shaggy Dog, The (1959)::Children's|Comedy\\n1017::Swiss Family Robinson (1960)::Adventure|Children's\\n1018::That Darn Cat! (1965)::Children's|Comedy|Mystery\\n1019::20,000 Leagues Under the Sea (1954)::Adventure|Children's|Fantasy|Sci-Fi\\n1020::Cool Runnings (1993)::Comedy\\n1021::Angels in the Outfield (1994)::Children's|Comedy\\n1022::Cinderella (1950)::Animation|Children's|Musical\\n1023::Winnie the Pooh and the Blustery Day (1968)::Animation|Children's\\n1024::Three Caballeros, The (1945)::Animation|Children's|Musical\\n1025::Sword in the Stone, The (1963)::Animation|Children's\\n1026::So Dear to My Heart (1949)::Children's|Drama\\n1027::Robin Hood: Prince of Thieves (1991)::Drama\\n1028::Mary Poppins (1964)::Children's|Comedy|Musical\\n1029::Dumbo (1941)::Animation|Children's|Musical\\n1030::Pete's Dragon (1977)::Adventure|Animation|Children's|Musical\\n1031::Bedknobs and Broomsticks (1971)::Adventure|Children's|Musical\\n1032::Alice in Wonderland (1951)::Animation|Children's|Musical\\n1033::Fox and the Hound, The (1981)::Animation|Children's\\n1034::Freeway (1996)::Crime\\n1035::Sound of Music, The (1965)::Musical\\n1036::Die Hard (1988)::Action|Thriller\\n1037::Lawnmower Man, The (1992)::Action|Sci-Fi|Thriller\\n1038::Unhook the Stars (1996)::Drama\\n1039::Synthetic Pleasures (1995)::Documentary\\n1040::Secret Agent, The (1996)::Drama\\n1041::Secrets & Lies (1996)::Drama\\n1042::That Thing You Do! (1996)::Comedy\\n1043::To Gillian on Her 37th Birthday (1996)::Drama|Romance\\n1044::Surviving Picasso (1996)::Drama\\n1045::Love Is All There Is (1996)::Comedy|Drama\\n1046::Beautiful Thing (1996)::Drama|Romance\\n1047::Long Kiss Goodnight, The (1996)::Action|Thriller\\n1049::Ghost and the Darkness, The (1996)::Action|Adventure\\n1050::Looking for Richard (1996)::Documentary|Drama\\n1051::Trees Lounge (1996)::Drama\\n1052::Proprietor, The (1996)::Drama\\n1053::Normal Life (1996)::Crime|Drama\\n1054::Get on the Bus (1996)::Drama\\n1055::Shadow Conspiracy (1997)::Thriller\\n1056::Jude (1996)::Drama\\n1057::Everyone Says I Love You (1996)::Comedy|Musical|Romance\\n1058::Bitter Sugar (Azucar Amargo) (1996)::Drama\\n1059::William Shakespeare's Romeo and Juliet (1996)::Drama|Romance\\n1060::Swingers (1996)::Comedy|Drama\\n1061::Sleepers (1996)::Crime|Drama\\n1062::Sunchaser, The (1996)::Drama\\n1063::Johns (1996)::Drama\\n1064::Aladdin and the King of Thieves (1996)::Animation|Children's|Comedy\\n1065::Woman in Question, The (1950)::Mystery\\n1066::Shall We Dance? (1937)::Comedy|Musical|Romance\\n1067::Damsel in Distress, A (1937)::Comedy|Musical|Romance\\n1068::Crossfire (1947)::Crime|Film-Noir\\n1069::Murder, My Sweet (1944)::Film-Noir|Thriller\\n1070::Macao (1952)::Adventure\\n1071::For the Moment (1994)::Romance|War\\n1073::Willy Wonka and the Chocolate Factory (1971)::Adventure|Children's|Comedy|Fantasy\\n1075::Sexual Life of the Belgians, The (1994)::Comedy\\n1076::Innocents, The (1961)::Thriller\\n1077::Sleeper (1973)::Comedy|Sci-Fi\\n1078::Bananas (1971)::Comedy|War\\n1079::Fish Called Wanda, A (1988)::Comedy\\n1080::Monty Python's Life of Brian (1979)::Comedy\\n1081::Victor/Victoria (1982)::Comedy|Musical\\n1082::Candidate, The (1972)::Drama\\n1083::Great Race, The (1965)::Comedy|Musical\\n1084::Bonnie and Clyde (1967)::Crime|Drama\\n1085::Old Man and the Sea, The (1958)::Adventure|Drama\\n1086::Dial M for Murder (1954)::Mystery|Thriller\\n1087::Madame Butterfly (1995)::Musical\\n1088::Dirty Dancing (1987)::Musical|Romance\\n1089::Reservoir Dogs (1992)::Crime|Thriller\\n1090::Platoon (1986)::Drama|War\\n1091::Weekend at Bernie's (1989)::Comedy\\n1092::Basic Instinct (1992)::Mystery|Thriller\\n1093::Doors, The (1991)::Drama|Musical\\n1094::Crying Game, The (1992)::Drama|Romance|War\\n1095::Glengarry Glen Ross (1992)::Drama\\n1096::Sophie's Choice (1982)::Drama\\n1097::E.T. the Extra-Terrestrial (1982)::Children's|Drama|Fantasy|Sci-Fi\\n1098::Search for One-eye Jimmy, The (1996)::Comedy\\n1099::Christmas Carol, A (1938)::Drama\\n1100::Days of Thunder (1990)::Action|Romance\\n1101::Top Gun (1986)::Action|Romance\\n1102::American Strays (1996)::Action\\n1103::Rebel Without a Cause (1955)::Drama\\n1104::Streetcar Named Desire, A (1951)::Drama\\n1105::Children of the Corn IV: The Gathering (1996)::Horror\\n1106::Leopard Son, The (1996)::Documentary\\n1107::Loser (1991)::Comedy\\n1108::Prerokbe Ognja (1995)::Documentary\\n1109::Charm's Incidents (1996)::Drama\\n1110::Bird of Prey (1996)::Action\\n1111::Microcosmos (Microcosmos: Le peuple de l'herbe) (1996)::Documentary\\n1112::Palookaville (1996)::Action|Drama\\n1113::Associate, The (1996)::Comedy\\n1114::Funeral, The (1996)::Drama\\n1115::Sleepover (1995)::Comedy|Drama\\n1116::Single Girl, A (La Fille Seule) (1995)::Drama\\n1117::Eighth Day, The (Le Huitième jour ) (1996)::Drama\\n1118::Tashunga (1995)::Adventure|Western\\n1119::Drunks (1997)::Drama\\n1120::People vs. Larry Flynt, The (1996)::Drama\\n1121::Glory Daze (1996)::Drama\\n1122::Plutonium Circus (1995)::Documentary\\n1123::Perfect Candidate, A (1996)::Documentary\\n1124::On Golden Pond (1981)::Drama\\n1125::Return of the Pink Panther, The (1974)::Comedy\\n1126::Drop Dead Fred (1991)::Comedy|Fantasy\\n1127::Abyss, The (1989)::Action|Adventure|Sci-Fi|Thriller\\n1128::Fog, The (1980)::Horror\\n1129::Escape from New York (1981)::Action|Adventure|Sci-Fi|Thriller\\n1130::Howling, The (1980)::Horror\\n1131::Jean de Florette (1986)::Drama\\n1132::Manon of the Spring (Manon des sources) (1986)::Drama\\n1133::Talking About Sex (1994)::Comedy|Drama\\n1134::Johnny 100 Pesos (1993)::Action|Drama\\n1135::Private Benjamin (1980)::Comedy\\n1136::Monty Python and the Holy Grail (1974)::Comedy\\n1137::Hustler White (1996)::Romance\\n1138::Dadetown (1995)::Documentary\\n1139::Everything Relative (1996)::Drama\\n1140::Entertaining Angels: The Dorothy Day Story (1996)::Drama\\n1141::Hoogste tijd (1995)::Drama\\n1142::Get Over It (1996)::Drama\\n1143::Three Lives and Only One Death (1996)::Comedy\\n1144::Line King: Al Hirschfeld, The (1996)::Documentary\\n1145::Snowriders (1996)::Documentary\\n1146::Curtis's Charm (1995)::Comedy|Drama\\n1147::When We Were Kings (1996)::Documentary\\n1148::Wrong Trousers, The (1993)::Animation|Comedy\\n1149::JLG/JLG - autoportrait de décembre (1994)::Documentary|Drama\\n1150::Return of Martin Guerre, The (Retour de Martin Guerre, Le) (1982)::Drama\\n1151::Faust (1994)::Animation|Comedy|Thriller\\n1152::He Walked by Night (1948)::Crime|Film-Noir|Thriller\\n1153::Raw Deal (1948)::Film-Noir\\n1154::T-Men (1947)::Film-Noir\\n1155::Invitation, The (Zaproszenie) (1986)::Drama\\n1156::Children Are Watching us, The (Bambini ci guardano, I) (1942)::Drama\\n1157::Symphonie pastorale, La (1946)::Drama\\n1158::Here Comes Cookie (1935)::Comedy\\n1159::Love in Bloom (1935)::Romance\\n1160::Six of a Kind (1934)::Comedy\\n1161::Tin Drum, The (Blechtrommel, Die) (1979)::Drama\\n1162::Ruling Class, The (1972)::Comedy\\n1163::Mina Tannenbaum (1994)::Drama\\n1164::Two or Three Things I Know About Her (1966)::Drama\\n1165::Bloody Child, The (1996)::Drama|Thriller\\n1166::Farmer & Chase (1995)::Comedy\\n1167::Dear God (1996)::Comedy\\n1168::Bad Moon (1996)::Horror\\n1169::American Dream (1990)::Documentary\\n1170::Best of the Best 3: No Turning Back (1995)::Action\\n1171::Bob Roberts (1992)::Comedy\\n1172::Cinema Paradiso (1988)::Comedy|Drama|Romance\\n1173::Cook the Thief His Wife & Her Lover, The (1989)::Drama\\n1174::Grosse Fatigue (1994)::Comedy\\n1175::Delicatessen (1991)::Comedy|Sci-Fi\\n1176::Double Life of Veronique, The (La Double Vie de Véronique) (1991)::Drama\\n1177::Enchanted April (1991)::Drama\\n1178::Paths of Glory (1957)::Drama|War\\n1179::Grifters, The (1990)::Crime|Drama|Film-Noir\\n1180::Hear My Song (1991)::Comedy\\n1181::Shooter, The (1995)::Action\\n1183::English Patient, The (1996)::Drama|Romance|War\\n1184::Mediterraneo (1991)::Comedy|War\\n1185::My Left Foot (1989)::Drama\\n1186::Sex, Lies, and Videotape (1989)::Drama\\n1187::Passion Fish (1992)::Drama\\n1188::Strictly Ballroom (1992)::Comedy|Romance\\n1189::Thin Blue Line, The (1988)::Documentary\\n1190::Tie Me Up! Tie Me Down! (1990)::Drama\\n1191::Madonna: Truth or Dare (1991)::Documentary\\n1192::Paris Is Burning (1990)::Documentary\\n1193::One Flew Over the Cuckoo's Nest (1975)::Drama\\n1194::Up in Smoke (1978)::Comedy\\n1196::Star Wars: Episode V - The Empire Strikes Back (1980)::Action|Adventure|Drama|Sci-Fi|War\\n1197::Princess Bride, The (1987)::Action|Adventure|Comedy|Romance\\n1198::Raiders of the Lost Ark (1981)::Action|Adventure\\n1199::Brazil (1985)::Sci-Fi\\n1200::Aliens (1986)::Action|Sci-Fi|Thriller|War\\n1201::Good, The Bad and The Ugly, The (1966)::Action|Western\\n1202::Withnail and I (1987)::Comedy\\n1203::12 Angry Men (1957)::Drama\\n1204::Lawrence of Arabia (1962)::Adventure|War\\n1205::Transformers: The Movie, The (1986)::Action|Animation|Children's|Sci-Fi|Thriller|War\\n1206::Clockwork Orange, A (1971)::Sci-Fi\\n1207::To Kill a Mockingbird (1962)::Drama\\n1208::Apocalypse Now (1979)::Drama|War\\n1209::Once Upon a Time in the West (1969)::Western\\n1210::Star Wars: Episode VI - Return of the Jedi (1983)::Action|Adventure|Romance|Sci-Fi|War\\n1211::Wings of Desire (Der Himmel über Berlin) (1987)::Comedy|Drama|Romance\\n1212::Third Man, The (1949)::Mystery|Thriller\\n1213::GoodFellas (1990)::Crime|Drama\\n1214::Alien (1979)::Action|Horror|Sci-Fi|Thriller\\n1215::Army of Darkness (1993)::Action|Adventure|Comedy|Horror|Sci-Fi\\n1216::Big Blue, The (Le Grand Bleu) (1988)::Adventure|Romance\\n1217::Ran (1985)::Drama|War\\n1218::Killer, The (Die xue shuang xiong) (1989)::Action|Thriller\\n1219::Psycho (1960)::Horror|Thriller\\n1220::Blues Brothers, The (1980)::Action|Comedy|Musical\\n1221::Godfather: Part II, The (1974)::Action|Crime|Drama\\n1222::Full Metal Jacket (1987)::Action|Drama|War\\n1223::Grand Day Out, A (1992)::Animation|Comedy\\n1224::Henry V (1989)::Drama|War\\n1225::Amadeus (1984)::Drama\\n1226::Quiet Man, The (1952)::Comedy|Romance\\n1227::Once Upon a Time in America (1984)::Crime|Drama|Thriller\\n1228::Raging Bull (1980)::Drama\\n1230::Annie Hall (1977)::Comedy|Romance\\n1231::Right Stuff, The (1983)::Drama\\n1232::Stalker (1979)::Mystery|Sci-Fi\\n1233::Boat, The (Das Boot) (1981)::Action|Drama|War\\n1234::Sting, The (1973)::Comedy|Crime\\n1235::Harold and Maude (1971)::Comedy\\n1236::Trust (1990)::Comedy|Drama\\n1237::Seventh Seal, The (Sjunde inseglet, Det) (1957)::Drama\\n1238::Local Hero (1983)::Comedy\\n1240::Terminator, The (1984)::Action|Sci-Fi|Thriller\\n1241::Braindead (1992)::Comedy|Horror\\n1242::Glory (1989)::Action|Drama|War\\n1243::Rosencrantz and Guildenstern Are Dead (1990)::Comedy|Drama\\n1244::Manhattan (1979)::Comedy|Drama|Romance\\n1245::Miller's Crossing (1990)::Drama\\n1246::Dead Poets Society (1989)::Drama\\n1247::Graduate, The (1967)::Drama|Romance\\n1248::Touch of Evil (1958)::Crime|Film-Noir|Thriller\\n1249::Nikita (La Femme Nikita) (1990)::Thriller\\n1250::Bridge on the River Kwai, The (1957)::Drama|War\\n1251::8 1/2 (1963)::Drama\\n1252::Chinatown (1974)::Film-Noir|Mystery|Thriller\\n1253::Day the Earth Stood Still, The (1951)::Drama|Sci-Fi\\n1254::Treasure of the Sierra Madre, The (1948)::Adventure\\n1255::Bad Taste (1987)::Comedy|Horror\\n1256::Duck Soup (1933)::Comedy|War\\n1257::Better Off Dead... (1985)::Comedy\\n1258::Shining, The (1980)::Horror\\n1259::Stand by Me (1986)::Adventure|Comedy|Drama\\n1260::M (1931)::Crime|Film-Noir|Thriller\\n1261::Evil Dead II (Dead By Dawn) (1987)::Action|Adventure|Comedy|Horror\\n1262::Great Escape, The (1963)::Adventure|War\\n1263::Deer Hunter, The (1978)::Drama|War\\n1264::Diva (1981)::Action|Drama|Mystery|Romance|Thriller\\n1265::Groundhog Day (1993)::Comedy|Romance\\n1266::Unforgiven (1992)::Western\\n1267::Manchurian Candidate, The (1962)::Film-Noir|Thriller\\n1268::Pump Up the Volume (1990)::Drama\\n1269::Arsenic and Old Lace (1944)::Comedy|Mystery|Thriller\\n1270::Back to the Future (1985)::Comedy|Sci-Fi\\n1271::Fried Green Tomatoes (1991)::Drama\\n1272::Patton (1970)::Drama|War\\n1273::Down by Law (1986)::Comedy|Drama\\n1274::Akira (1988)::Adventure|Animation|Sci-Fi|Thriller\\n1275::Highlander (1986)::Action|Adventure\\n1276::Cool Hand Luke (1967)::Comedy|Drama\\n1277::Cyrano de Bergerac (1990)::Action|Drama|Romance\\n1278::Young Frankenstein (1974)::Comedy|Horror\\n1279::Night on Earth (1991)::Comedy|Drama\\n1280::Raise the Red Lantern (1991)::Drama\\n1281::Great Dictator, The (1940)::Comedy\\n1282::Fantasia (1940)::Animation|Children's|Musical\\n1283::High Noon (1952)::Western\\n1284::Big Sleep, The (1946)::Film-Noir|Mystery\\n1285::Heathers (1989)::Comedy\\n1286::Somewhere in Time (1980)::Drama|Romance\\n1287::Ben-Hur (1959)::Action|Adventure|Drama\\n1288::This Is Spinal Tap (1984)::Comedy|Drama|Musical\\n1289::Koyaanisqatsi (1983)::Documentary|War\\n1290::Some Kind of Wonderful (1987)::Drama|Romance\\n1291::Indiana Jones and the Last Crusade (1989)::Action|Adventure\\n1292::Being There (1979)::Comedy\\n1293::Gandhi (1982)::Drama\\n1294::M*A*S*H (1970)::Comedy|War\\n1295::Unbearable Lightness of Being, The (1988)::Drama\\n1296::Room with a View, A (1986)::Drama|Romance\\n1297::Real Genius (1985)::Comedy\\n1298::Pink Floyd - The Wall (1982)::Drama|Musical|War\\n1299::Killing Fields, The (1984)::Drama|War\\n1300::My Life as a Dog (Mitt liv som hund) (1985)::Drama\\n1301::Forbidden Planet (1956)::Sci-Fi\\n1302::Field of Dreams (1989)::Drama\\n1303::Man Who Would Be King, The (1975)::Adventure\\n1304::Butch Cassidy and the Sundance Kid (1969)::Action|Comedy|Western\\n1305::Paris, Texas (1984)::Drama\\n1306::Until the End of the World (Bis ans Ende der Welt) (1991)::Drama|Sci-Fi\\n1307::When Harry Met Sally... (1989)::Comedy|Romance\\n1308::I Shot a Man in Vegas (1995)::Comedy\\n1309::Parallel Sons (1995)::Drama|Romance\\n1310::Hype! (1996)::Documentary\\n1311::Santa with Muscles (1996)::Comedy\\n1312::Female Perversions (1996)::Drama\\n1313::Mad Dog Time (1996)::Crime\\n1314::Breathing Room (1996)::Romance\\n1315::Paris Was a Woman (1995)::Documentary\\n1316::Anna (1996)::Drama\\n1317::I'm Not Rappaport (1996)::Comedy\\n1318::Blue Juice (1995)::Comedy|Drama\\n1319::Kids of Survival (1993)::Documentary\\n1320::Alien³ (1992)::Action|Horror|Sci-Fi|Thriller\\n1321::American Werewolf in London, An (1981)::Horror\\n1322::Amityville 1992: It's About Time (1992)::Horror\\n1323::Amityville 3-D (1983)::Horror\\n1324::Amityville: Dollhouse (1996)::Horror\\n1325::Amityville: A New Generation (1993)::Horror\\n1326::Amityville II: The Possession (1982)::Horror\\n1327::Amityville Horror, The (1979)::Horror\\n1328::Amityville Curse, The (1990)::Horror\\n1329::Blood For Dracula (Andy Warhol's Dracula) (1974)::Horror\\n1330::April Fool's Day (1986)::Comedy|Horror\\n1331::Audrey Rose (1977)::Horror\\n1332::Believers, The (1987)::Horror|Thriller\\n1333::Birds, The (1963)::Horror\\n1334::Blob, The (1958)::Horror|Sci-Fi\\n1335::Blood Beach (1981)::Action|Horror\\n1336::Body Parts (1991)::Horror\\n1337::Body Snatcher, The (1945)::Horror\\n1339::Bram Stoker's Dracula (1992)::Horror|Romance\\n1340::Bride of Frankenstein (1935)::Horror\\n1341::Burnt Offerings (1976)::Horror\\n1342::Candyman (1992)::Horror\\n1343::Cape Fear (1991)::Thriller\\n1344::Cape Fear (1962)::Film-Noir|Thriller\\n1345::Carrie (1976)::Horror\\n1346::Cat People (1982)::Horror\\n1347::Nightmare on Elm Street, A (1984)::Horror\\n1348::Nosferatu (Nosferatu, eine Symphonie des Grauens) (1922)::Horror\\n1349::Nosferatu a Venezia (1986)::Horror\\n1350::Omen, The (1976)::Horror\\n1351::Blood & Wine (1997)::Drama\\n1352::Albino Alligator (1996)::Crime|Thriller\\n1353::Mirror Has Two Faces, The (1996)::Comedy|Romance\\n1354::Breaking the Waves (1996)::Drama\\n1355::Nightwatch (1997)::Horror|Thriller\\n1356::Star Trek: First Contact (1996)::Action|Adventure|Sci-Fi\\n1357::Shine (1996)::Drama|Romance\\n1358::Sling Blade (1996)::Drama|Thriller\\n1359::Jingle All the Way (1996)::Adventure|Children's|Comedy\\n1360::Identification of a Woman (Identificazione di una donna) (1982)::Drama\\n1361::Paradise Lost: The Child Murders at Robin Hood Hills (1996)::Documentary\\n1362::Garden of Finzi-Contini, The (Giardino dei Finzi-Contini, Il) (1970)::Drama\\n1363::Preacher's Wife, The (1996)::Drama\\n1364::Zero Kelvin (Kjærlighetens kjøtere) (1995)::Action\\n1365::Ridicule (1996)::Drama\\n1366::Crucible, The (1996)::Drama\\n1367::101 Dalmatians (1996)::Children's|Comedy\\n1368::Forbidden Christ, The (Cristo proibito, Il) (1950)::Drama\\n1369::I Can't Sleep (J'ai pas sommeil) (1994)::Drama|Thriller\\n1370::Die Hard 2 (1990)::Action|Thriller\\n1371::Star Trek: The Motion Picture (1979)::Action|Adventure|Sci-Fi\\n1372::Star Trek VI: The Undiscovered Country (1991)::Action|Adventure|Sci-Fi\\n1373::Star Trek V: The Final Frontier (1989)::Action|Adventure|Sci-Fi\\n1374::Star Trek: The Wrath of Khan (1982)::Action|Adventure|Sci-Fi\\n1375::Star Trek III: The Search for Spock (1984)::Action|Adventure|Sci-Fi\\n1376::Star Trek IV: The Voyage Home (1986)::Action|Adventure|Sci-Fi\\n1377::Batman Returns (1992)::Action|Adventure|Comedy|Crime\\n1378::Young Guns (1988)::Action|Comedy|Western\\n1379::Young Guns II (1990)::Action|Comedy|Western\\n1380::Grease (1978)::Comedy|Musical|Romance\\n1381::Grease 2 (1982)::Comedy|Musical|Romance\\n1382::Marked for Death (1990)::Action|Drama\\n1383::Adrenalin: Fear the Rush (1996)::Action|Sci-Fi\\n1384::Substance of Fire, The (1996)::Drama\\n1385::Under Siege (1992)::Action\\n1386::Terror in a Texas Town (1958)::Western\\n1387::Jaws (1975)::Action|Horror\\n1388::Jaws 2 (1978)::Action|Horror\\n1389::Jaws 3-D (1983)::Action|Horror\\n1390::My Fellow Americans (1996)::Comedy\\n1391::Mars Attacks! (1996)::Action|Comedy|Sci-Fi|War\\n1392::Citizen Ruth (1996)::Comedy|Drama\\n1393::Jerry Maguire (1996)::Drama|Romance\\n1394::Raising Arizona (1987)::Comedy\\n1395::Tin Men (1987)::Comedy|Drama\\n1396::Sneakers (1992)::Crime|Drama|Sci-Fi\\n1397::Bastard Out of Carolina (1996)::Drama\\n1398::In Love and War (1996)::Romance|War\\n1399::Marvin's Room (1996)::Drama\\n1400::Somebody is Waiting (1996)::Drama\\n1401::Ghosts of Mississippi (1996)::Drama\\n1404::Night Falls on Manhattan (1997)::Crime|Drama\\n1405::Beavis and Butt-head Do America (1996)::Animation|Comedy\\n1406::Cérémonie, La (1995)::Drama\\n1407::Scream (1996)::Horror|Thriller\\n1408::Last of the Mohicans, The (1992)::Action|Romance|War\\n1409::Michael (1996)::Comedy|Romance\\n1410::Evening Star, The (1996)::Comedy|Drama\\n1411::Hamlet (1996)::Drama\\n1412::Some Mother's Son (1996)::Drama\\n1413::Whole Wide World, The (1996)::Drama\\n1414::Mother (1996)::Comedy\\n1415::Thieves (Voleurs, Les) (1996)::Crime|Drama|Romance\\n1416::Evita (1996)::Drama|Musical\\n1417::Portrait of a Lady, The (1996)::Drama\\n1419::Walkabout (1971)::Drama\\n1420::Message to Love: The Isle of Wight Festival (1996)::Documentary\\n1421::Grateful Dead (1995)::Documentary\\n1422::Murder at 1600 (1997)::Mystery|Thriller\\n1423::Hearts and Minds (1996)::Drama\\n1424::Inside (1996)::Action\\n1425::Fierce Creatures (1997)::Comedy\\n1426::Zeus and Roxanne (1997)::Children's\\n1427::Turbulence (1997)::Thriller\\n1428::Angel Baby (1995)::Drama\\n1429::Jackie Chan's First Strike (1996)::Action\\n1430::Underworld (1997)::Thriller\\n1431::Beverly Hills Ninja (1997)::Action|Comedy\\n1432::Metro (1997)::Action\\n1433::Machine, The (1994)::Comedy|Horror\\n1434::Stranger, The (1994)::Action\\n1436::Falling in Love Again (1980)::Comedy\\n1437::Cement Garden, The (1993)::Drama\\n1438::Dante's Peak (1997)::Action|Thriller\\n1439::Meet Wally Sparks (1997)::Comedy\\n1440::Amos & Andrew (1993)::Comedy\\n1441::Benny & Joon (1993)::Comedy|Romance\\n1442::Prefontaine (1997)::Drama\\n1443::Tickle in the Heart, A (1996)::Documentary\\n1444::Guantanamera (1994)::Comedy\\n1445::McHale's Navy (1997)::Comedy|War\\n1446::Kolya (1996)::Comedy\\n1447::Gridlock'd (1997)::Crime\\n1448::Fire on the Mountain (1996)::Documentary\\n1449::Waiting for Guffman (1996)::Comedy\\n1450::Prisoner of the Mountains (Kavkazsky Plennik) (1996)::War\\n1453::Beautician and the Beast, The (1997)::Comedy|Romance\\n1454::SubUrbia (1997)::Comedy\\n1455::Hotel de Love (1996)::Comedy|Romance\\n1456::Pest, The (1997)::Comedy\\n1457::Fools Rush In (1997)::Comedy|Romance\\n1458::Touch (1997)::Romance\\n1459::Absolute Power (1997)::Mystery|Thriller\\n1460::That Darn Cat! (1997)::Children's|Comedy|Mystery\\n1461::Vegas Vacation (1997)::Comedy\\n1462::Unforgotten: Twenty-Five Years After Willowbrook (1996)::Documentary\\n1463::That Old Feeling (1997)::Comedy|Romance\\n1464::Lost Highway (1997)::Mystery\\n1465::Rosewood (1997)::Drama\\n1466::Donnie Brasco (1997)::Crime|Drama\\n1467::Salut cousin! (1996)::Comedy|Drama\\n1468::Booty Call (1997)::Comedy|Romance\\n1470::Rhyme & Reason (1997)::Documentary\\n1471::Boys Life 2 (1997)::Drama\\n1472::City of Industry (1997)::Crime|Thriller\\n1473::Best Men (1997)::Action|Comedy|Crime|Drama\\n1474::Jungle2Jungle (a.k.a. Jungle 2 Jungle) (1997)::Children's|Comedy\\n1475::Kama Sutra: A Tale of Love (1996)::Romance\\n1476::Private Parts (1997)::Comedy|Drama\\n1477::Love Jones (1997)::Romance\\n1479::Saint, The (1997)::Action|Romance|Thriller\\n1480::Smilla's Sense of Snow (1997)::Action|Drama|Thriller\\n1482::Van, The (1996)::Comedy|Drama\\n1483::Crash (1996)::Drama|Thriller\\n1484::Daytrippers, The (1996)::Mystery\\n1485::Liar Liar (1997)::Comedy\\n1486::Quiet Room, The (1996)::Drama\\n1487::Selena (1997)::Drama|Musical\\n1488::Devil's Own, The (1997)::Action|Drama|Thriller|War\\n1489::Cats Don't Dance (1997)::Animation|Children's|Musical\\n1490::B*A*P*S (1997)::Comedy\\n1493::Love and Other Catastrophes (1996)::Romance\\n1494::Sixth Man, The (1997)::Comedy\\n1495::Turbo: A Power Rangers Movie (1997)::Action|Adventure|Children's\\n1496::Anna Karenina (1997)::Drama|Romance\\n1497::Double Team (1997)::Action\\n1498::Inventing the Abbotts (1997)::Drama|Romance\\n1499::Anaconda (1997)::Action|Adventure|Thriller\\n1500::Grosse Pointe Blank (1997)::Comedy|Crime\\n1501::Keys to Tulsa (1997)::Crime\\n1502::Kissed (1996)::Romance\\n1503::8 Heads in a Duffel Bag (1997)::Comedy\\n1504::Hollow Reed (1996)::Drama\\n1507::Paradise Road (1997)::Drama|War\\n1508::Traveller (1997)::Drama\\n1509::All Over Me (1997)::Drama\\n1510::Brother's Kiss, A (1997)::Drama\\n1511::A Chef in Love (1996)::Comedy\\n1513::Romy and Michele's High School Reunion (1997)::Comedy\\n1514::Temptress Moon (Feng Yue) (1996)::Romance\\n1515::Volcano (1997)::Drama|Thriller\\n1516::Children of the Revolution (1996)::Comedy\\n1517::Austin Powers: International Man of Mystery (1997)::Comedy\\n1518::Breakdown (1997)::Action|Thriller\\n1519::Broken English (1996)::Drama\\n1520::Commandments (1997)::Romance\\n1522::Ripe (1996)::Drama\\n1523::Truth or Consequences, N.M. (1997)::Action|Crime|Romance\\n1524::Turning, The (1992)::Drama\\n1525::Warriors of Virtue (1997)::Action|Adventure|Children's|Fantasy\\n1526::Fathers' Day (1997)::Comedy\\n1527::Fifth Element, The (1997)::Action|Sci-Fi\\n1528::Intimate Relations (1996)::Comedy\\n1529::Nowhere (1997)::Drama\\n1531::Losing Chase (1996)::Drama\\n1532::Sprung (1997)::Comedy\\n1533::Promise, The (La Promesse) (1996)::Drama\\n1534::Bonheur, Le (1965)::Drama\\n1535::Love! Valour! Compassion! (1997)::Drama|Romance\\n1537::Shall We Dance? (Shall We Dansu?) (1996)::Comedy\\n1538::Second Jungle Book: Mowgli & Baloo, The (1997)::Adventure|Children's\\n1539::Twin Town (1997)::Comedy|Crime\\n1541::Addicted to Love (1997)::Comedy|Romance\\n1542::Brassed Off (1996)::Comedy|Drama|Romance\\n1543::Designated Mourner, The (1997)::Drama\\n1544::Lost World: Jurassic Park, The (1997)::Action|Adventure|Sci-Fi|Thriller\\n1545::Ponette (1996)::Drama\\n1546::Schizopolis (1996)::Comedy\\n1547::Shiloh (1997)::Children's|Drama\\n1548::War at Home, The (1996)::Drama\\n1549::Rough Magic (1995)::Drama|Romance\\n1550::Trial and Error (1997)::Comedy|Romance\\n1551::Buddy (1997)::Adventure|Children's|Drama\\n1552::Con Air (1997)::Action|Adventure|Thriller\\n1553::Late Bloomers (1996)::Comedy\\n1554::Pillow Book, The (1995)::Drama|Romance\\n1555::To Have, or Not (1995)::Drama\\n1556::Speed 2: Cruise Control (1997)::Action|Romance|Thriller\\n1557::Squeeze (1996)::Drama\\n1558::Sudden Manhattan (1996)::Comedy\\n1559::Next Step, The (1995)::Drama\\n1561::Wedding Bell Blues (1996)::Comedy\\n1562::Batman & Robin (1997)::Action|Adventure|Crime\\n1563::Dream With the Fishes (1997)::Drama\\n1564::Roseanna's Grave (For Roseanna) (1997)::Comedy|Romance\\n1565::Head Above Water (1996)::Comedy|Thriller\\n1566::Hercules (1997)::Adventure|Animation|Children's|Comedy|Musical\\n1567::Last Time I Committed Suicide, The (1997)::Drama\\n1568::MURDER and murder (1996)::Crime|Drama|Mystery\\n1569::My Best Friend's Wedding (1997)::Comedy|Romance\\n1570::Tetsuo II: Body Hammer (1992)::Sci-Fi\\n1571::When the Cats Away (Chacun cherche son chat) (1996)::Comedy|Romance\\n1572::Contempt (Le Mépris) (1963)::Drama\\n1573::Face/Off (1997)::Action|Sci-Fi|Thriller\\n1574::Fall (1997)::Romance\\n1575::Gabbeh (1996)::Drama\\n1577::Mondo (1996)::Drama\\n1578::Innocent Sleep, The (1995)::Crime\\n1579::For Ever Mozart (1996)::Drama\\n1580::Men in Black (1997)::Action|Adventure|Comedy|Sci-Fi\\n1581::Out to Sea (1997)::Comedy\\n1582::Wild America (1997)::Adventure|Children's\\n1583::Simple Wish, A (1997)::Children's|Fantasy\\n1584::Contact (1997)::Drama|Sci-Fi\\n1585::Love Serenade (1996)::Comedy\\n1586::G.I. Jane (1997)::Action|Drama|War\\n1587::Conan the Barbarian (1982)::Action|Adventure\\n1588::George of the Jungle (1997)::Children's|Comedy\\n1589::Cop Land (1997)::Crime|Drama|Mystery\\n1590::Event Horizon (1997)::Action|Mystery|Sci-Fi|Thriller\\n1591::Spawn (1997)::Action|Adventure|Sci-Fi|Thriller\\n1592::Air Bud (1997)::Children's|Comedy\\n1593::Picture Perfect (1997)::Comedy|Romance\\n1594::In the Company of Men (1997)::Drama\\n1595::Free Willy 3: The Rescue (1997)::Adventure|Children's|Drama\\n1596::Career Girls (1997)::Drama\\n1597::Conspiracy Theory (1997)::Action|Mystery|Romance|Thriller\\n1598::Desperate Measures (1998)::Crime|Drama|Thriller\\n1599::Steel (1997)::Action\\n1600::She's So Lovely (1997)::Drama|Romance\\n1601::Hoodlum (1997)::Crime|Drama|Film-Noir\\n1602::Leave It to Beaver (1997)::Comedy\\n1603::Mimic (1997)::Sci-Fi|Thriller\\n1604::Money Talks (1997)::Action|Comedy\\n1605::Excess Baggage (1997)::Adventure|Romance\\n1606::Kull the Conqueror (1997)::Action|Adventure\\n1608::Air Force One (1997)::Action|Thriller\\n1609::187 (1997)::Drama\\n1610::Hunt for Red October, The (1990)::Action|Thriller\\n1611::My Own Private Idaho (1991)::Drama\\n1612::Kiss Me, Guido (1997)::Comedy\\n1613::Star Maps (1997)::Drama\\n1614::In & Out (1997)::Comedy\\n1615::Edge, The (1997)::Adventure|Thriller\\n1616::Peacemaker, The (1997)::Action|Thriller|War\\n1617::L.A. Confidential (1997)::Crime|Film-Noir|Mystery|Thriller\\n1619::Seven Years in Tibet (1997)::Drama|War\\n1620::Kiss the Girls (1997)::Crime|Drama|Thriller\\n1621::Soul Food (1997)::Drama\\n1622::Kicked in the Head (1997)::Comedy|Drama\\n1623::Wishmaster (1997)::Horror\\n1624::Thousand Acres, A (1997)::Drama\\n1625::Game, The (1997)::Mystery|Thriller\\n1626::Fire Down Below (1997)::Action|Drama|Thriller\\n1627::U Turn (1997)::Action|Crime|Mystery\\n1628::Locusts, The (1997)::Drama\\n1629::MatchMaker, The (1997)::Comedy|Romance\\n1630::Lay of the Land, The (1997)::Comedy|Drama\\n1631::Assignment, The (1997)::Thriller\\n1632::Smile Like Yours, A (1997)::Comedy|Romance\\n1633::Ulee's Gold (1997)::Drama\\n1635::Ice Storm, The (1997)::Drama\\n1636::Stag (1997)::Action|Thriller\\n1639::Chasing Amy (1997)::Drama|Romance\\n1640::How to Be a Player (1997)::Comedy\\n1641::Full Monty, The (1997)::Comedy\\n1642::Indian Summer (a.k.a. Alive & Kicking) (1996)::Comedy|Drama\\n1643::Mrs. Brown (Her Majesty, Mrs. Brown) (1997)::Drama|Romance\\n1644::I Know What You Did Last Summer (1997)::Horror|Mystery|Thriller\\n1645::Devil's Advocate, The (1997)::Crime|Horror|Mystery|Thriller\\n1646::Rocket Man (1997)::Comedy\\n1647::Playing God (1997)::Crime|Thriller\\n1648::House of Yes, The (1997)::Comedy|Drama|Thriller\\n1649::Fast, Cheap & Out of Control (1997)::Documentary\\n1650::Washington Square (1997)::Drama\\n1651::Telling Lies in America (1997)::Drama\\n1652::Year of the Horse (1997)::Documentary\\n1653::Gattaca (1997)::Drama|Sci-Fi|Thriller\\n1654::FairyTale: A True Story (1997)::Children's|Drama|Fantasy\\n1655::Phantoms (1998)::Horror\\n1656::Swept from the Sea (1997)::Romance\\n1657::Wonderland (1997)::Documentary\\n1658::Life Less Ordinary, A (1997)::Romance|Thriller\\n1659::Hurricane Streets (1998)::Drama\\n1660::Eve's Bayou (1997)::Drama\\n1661::Switchback (1997)::Thriller\\n1662::Gang Related (1997)::Crime\\n1663::Stripes (1981)::Comedy\\n1664::Nénette et Boni (1996)::Drama\\n1665::Bean (1997)::Comedy\\n1666::Hugo Pool (1997)::Romance\\n1667::Mad City (1997)::Action|Drama\\n1668::One Night Stand (1997)::Drama\\n1669::Tango Lesson, The (1997)::Romance\\n1670::Welcome To Sarajevo (1997)::Drama|War\\n1671::Deceiver (1997)::Crime\\n1672::Rainmaker, The (1997)::Drama\\n1673::Boogie Nights (1997)::Drama\\n1674::Witness (1985)::Drama|Romance|Thriller\\n1675::Incognito (1997)::Crime|Thriller\\n1676::Starship Troopers (1997)::Action|Adventure|Sci-Fi|War\\n1677::Critical Care (1997)::Comedy\\n1678::Joy Luck Club, The (1993)::Drama\\n1679::Chairman of the Board (1998)::Comedy\\n1680::Sliding Doors (1998)::Drama|Romance\\n1681::Mortal Kombat: Annihilation (1997)::Action|Adventure\\n1682::Truman Show, The (1998)::Drama\\n1683::Wings of the Dove, The (1997)::Drama|Romance|Thriller\\n1684::Mrs. Dalloway (1997)::Romance\\n1685::I Love You, I Love You Not (1996)::Romance\\n1686::Red Corner (1997)::Crime|Thriller\\n1687::Jackal, The (1997)::Action|Thriller\\n1688::Anastasia (1997)::Animation|Children's|Musical\\n1689::Man Who Knew Too Little, The (1997)::Comedy|Mystery\\n1690::Alien: Resurrection (1997)::Action|Horror|Sci-Fi\\n1692::Alien Escape (1995)::Horror|Sci-Fi\\n1693::Amistad (1997)::Drama\\n1694::Apostle, The (1997)::Drama\\n1695::Artemisia (1997)::Drama\\n1696::Bent (1997)::Drama|War\\n1697::Big Bang Theory, The (1994)::Crime\\n1698::Boys, Les (1997)::Comedy\\n1699::Butcher Boy, The (1998)::Drama\\n1701::Deconstructing Harry (1997)::Comedy|Drama\\n1702::Flubber (1997)::Children's|Comedy|Fantasy\\n1703::For Richer or Poorer (1997)::Comedy\\n1704::Good Will Hunting (1997)::Drama\\n1705::Guy (1996)::Drama\\n1706::Harlem River Drive (1996)::Drama\\n1707::Home Alone 3 (1997)::Children's|Comedy\\n1708::Ill Gotten Gains (1997)::Drama\\n1709::Legal Deceit (1997)::Thriller\\n1710::Man of Her Dreams (1996)::Drama\\n1711::Midnight in the Garden of Good and Evil (1997)::Comedy|Crime|Drama|Mystery\\n1713::Mouse Hunt (1997)::Children's|Comedy\\n1714::Never Met Picasso (1996)::Romance\\n1715::Office Killer (1997)::Thriller\\n1716::Other Voices, Other Rooms (1997)::Drama\\n1717::Scream 2 (1997)::Horror|Thriller\\n1718::Stranger in the House (1997)::Thriller\\n1719::Sweet Hereafter, The (1997)::Drama\\n1720::Time Tracers (1995)::Action|Adventure|Sci-Fi\\n1721::Titanic (1997)::Drama|Romance\\n1722::Tomorrow Never Dies (1997)::Action|Romance|Thriller\\n1723::Twisted (1996)::Comedy|Drama\\n1724::Full Speed (1996)::Drama\\n1725::Education of Little Tree, The (1997)::Drama\\n1726::Postman, The (1997)::Drama\\n1727::Horse Whisperer, The (1998)::Drama\\n1728::Winter Guest, The (1997)::Drama\\n1729::Jackie Brown (1997)::Crime|Drama\\n1730::Kundun (1997)::Drama\\n1731::Mr. Magoo (1997)::Comedy\\n1732::Big Lebowski, The (1998)::Comedy|Crime|Mystery|Thriller\\n1733::Afterglow (1997)::Drama|Romance\\n1734::My Life in Pink (Ma vie en rose) (1997)::Comedy|Drama\\n1735::Great Expectations (1998)::Drama|Romance\\n1738::Vermin (1998)::Comedy\\n1739::3 Ninjas: High Noon On Mega Mountain (1998)::Action|Children's\\n1740::Men of Means (1998)::Action|Drama\\n1741::Midaq Alley (Callejón de los milagros, El) (1995)::Drama\\n1742::Caught Up (1998)::Crime\\n1743::Arguing the World (1996)::Documentary\\n1744::Firestorm (1998)::Action|Adventure|Thriller\\n1746::Senseless (1998)::Comedy\\n1747::Wag the Dog (1997)::Comedy|Drama\\n1748::Dark City (1998)::Film-Noir|Sci-Fi|Thriller\\n1749::Leading Man, The (1996)::Romance\\n1750::Star Kid (1997)::Adventure|Children's|Fantasy|Sci-Fi\\n1752::Hard Rain (1998)::Action|Thriller\\n1753::Half Baked (1998)::Comedy\\n1754::Fallen (1998)::Action|Mystery|Thriller\\n1755::Shooting Fish (1997)::Romance\\n1756::Prophecy II, The (1998)::Horror\\n1757::Duoluo tianshi (1995)::Drama\\n1758::Dangerous Beauty (1998)::Drama\\n1759::Four Days in September (1997)::Drama\\n1760::Spice World (1997)::Comedy|Musical\\n1762::Deep Rising (1998)::Action|Horror|Sci-Fi\\n1764::Tainted (1998)::Comedy|Thriller\\n1765::Letter From Death Row, A (1998)::Crime|Drama\\n1767::Music From Another Room (1998)::Drama|Romance\\n1768::Mat' i syn (1997)::Drama\\n1769::Replacement Killers, The (1998)::Action|Thriller\\n1770::B. Monkey (1998)::Romance|Thriller\\n1771::Night Flier (1997)::Horror\\n1772::Blues Brothers 2000 (1998)::Action|Comedy|Musical\\n1773::Tokyo Fist (1995)::Action|Drama\\n1774::Mass Transit (1998)::Comedy|Drama\\n1776::Ride (1998)::Drama\\n1777::Wedding Singer, The (1998)::Comedy|Romance\\n1779::Sphere (1998)::Adventure|Sci-Fi|Thriller\\n1780::Ayn Rand: A Sense of Life (1997)::Documentary\\n1781::Further Gesture, A (1996)::Drama\\n1782::Little City (1998)::Comedy|Romance\\n1783::Palmetto (1998)::Film-Noir|Mystery|Thriller\\n1784::As Good As It Gets (1997)::Comedy|Drama\\n1785::King of New York (1990)::Action|Crime\\n1787::Paralyzing Fear: The Story of Polio in America, A (1998)::Documentary\\n1788::Men With Guns (1997)::Action|Drama\\n1789::Sadness of Sex, The (1995)::Drama\\n1791::Twilight (1998)::Crime|Drama\\n1792::U.S. Marshalls (1998)::Action|Thriller\\n1793::Welcome to Woop-Woop (1997)::Comedy\\n1794::Love and Death on Long Island (1997)::Comedy|Drama\\n1795::Callejón de los milagros, El (1995)::Drama\\n1796::In God's Hands (1998)::Action|Drama\\n1797::Everest (1998)::Documentary\\n1798::Hush (1998)::Thriller\\n1799::Suicide Kings (1997)::Crime|Drama\\n1801::Man in the Iron Mask, The (1998)::Action|Drama|Romance\\n1804::Newton Boys, The (1998)::Crime|Drama\\n1805::Wild Things (1998)::Crime|Drama|Mystery|Thriller\\n1806::Paulie (1998)::Adventure|Children's|Comedy\\n1807::Cool Dry Place, A (1998)::Drama\\n1809::Hana-bi (1997)::Comedy|Crime|Drama\\n1810::Primary Colors (1998)::Drama\\n1811::Niagara, Niagara (1997)::Drama\\n1812::Wide Awake (1998)::Children's|Comedy|Drama\\n1814::Price Above Rubies, A (1998)::Drama\\n1815::Eden (1997)::Drama\\n1816::Two Girls and a Guy (1997)::Comedy|Drama\\n1817::No Looking Back (1998)::Comedy|Drama|Romance\\n1819::Storefront Hitchcock (1997)::Drama\\n1820::Proposition, The (1998)::Drama\\n1821::Object of My Affection, The (1998)::Comedy|Romance\\n1822::Meet the Deedles (1998)::Children's|Comedy\\n1824::Homegrown (1998)::Comedy|Thriller\\n1825::Player's Club, The (1998)::Action|Drama\\n1826::Barney's Great Adventure (1998)::Adventure|Children's\\n1827::Big One, The (1997)::Comedy|Documentary\\n1829::Chinese Box (1997)::Drama|Romance\\n1830::Follow the Bitch (1998)::Comedy\\n1831::Lost in Space (1998)::Action|Sci-Fi|Thriller\\n1832::Heaven's Burning (1997)::Action|Drama\\n1833::Mercury Rising (1998)::Action|Drama|Thriller\\n1834::Spanish Prisoner, The (1997)::Drama|Thriller\\n1835::City of Angels (1998)::Romance\\n1836::Last Days of Disco, The (1998)::Drama\\n1837::Odd Couple II, The (1998)::Comedy\\n1839::My Giant (1998)::Comedy\\n1840::He Got Game (1998)::Drama\\n1841::Gingerbread Man, The (1998)::Drama|Thriller\\n1842::Illtown (1996)::Crime|Drama\\n1843::Slappy and the Stinkers (1998)::Children's|Comedy\\n1844::Live Flesh (1997)::Drama\\n1845::Zero Effect (1998)::Comedy|Thriller\\n1846::Nil By Mouth (1997)::Drama\\n1847::Ratchet (1996)::Drama|Thriller\\n1848::Borrowers, The (1997)::Adventure|Children's|Comedy|Fantasy\\n1849::Prince Valiant (1997)::Adventure\\n1850::I Love You, Don't Touch Me! (1998)::Drama|Romance\\n1851::Leather Jacket Love Story (1997)::Drama|Romance\\n1852::Love Walked In (1998)::Drama|Thriller\\n1853::Alan Smithee Film: Burn Hollywood Burn, An (1997)::Comedy\\n1854::Kissing a Fool (1998)::Comedy|Romance\\n1855::Krippendorf's Tribe (1998)::Comedy\\n1856::Kurt & Courtney (1998)::Documentary|Musical\\n1857::Real Blonde, The (1997)::Comedy\\n1858::Mr. Nice Guy (1997)::Action|Comedy\\n1859::Taste of Cherry (1997)::Drama\\n1860::Character (Karakter) (1997)::Drama\\n1861::Junk Mail (1997)::Comedy|Thriller\\n1862::Species II (1998)::Horror|Sci-Fi\\n1863::Major League: Back to the Minors (1998)::Comedy\\n1864::Sour Grapes (1998)::Comedy\\n1865::Wild Man Blues (1998)::Documentary\\n1866::Big Hit, The (1998)::Action|Comedy\\n1867::Tarzan and the Lost City (1998)::Action|Adventure\\n1868::Truce, The (1996)::Drama|War\\n1869::Black Dog (1998)::Action|Thriller\\n1870::Dancer, Texas Pop. 81 (1998)::Comedy|Drama\\n1871::Friend of the Deceased, A (1997)::Comedy|Drama\\n1872::Go Now (1995)::Drama\\n1873::Misérables, Les (1998)::Drama\\n1874::Still Breathing (1997)::Comedy|Romance\\n1875::Clockwatchers (1997)::Comedy\\n1876::Deep Impact (1998)::Action|Drama|Sci-Fi|Thriller\\n1877::Little Men (1998)::Drama\\n1878::Woo (1998)::Comedy|Romance\\n1879::Hanging Garden, The (1997)::Drama\\n1880::Lawn Dogs (1997)::Drama\\n1881::Quest for Camelot (1998)::Adventure|Animation|Children's|Fantasy\\n1882::Godzilla (1998)::Action|Sci-Fi\\n1883::Bulworth (1998)::Comedy\\n1884::Fear and Loathing in Las Vegas (1998)::Comedy|Drama\\n1885::Opposite of Sex, The (1998)::Comedy|Drama\\n1886::I Got the Hook Up (1998)::Comedy\\n1887::Almost Heroes (1998)::Adventure|Comedy\\n1888::Hope Floats (1998)::Comedy|Drama|Romance\\n1889::Insomnia (1997)::Thriller\\n1890::Little Boy Blue (1997)::Drama\\n1891::Ugly, The (1997)::Horror|Thriller\\n1892::Perfect Murder, A (1998)::Mystery|Thriller\\n1893::Beyond Silence (1996)::Drama\\n1894::Six Days Seven Nights (1998)::Adventure|Comedy|Romance\\n1895::Can't Hardly Wait (1998)::Comedy|Drama|Romance\\n1896::Cousin Bette (1998)::Comedy\\n1897::High Art (1998)::Drama|Romance\\n1898::Land Girls, The (1998)::Drama|War\\n1899::Passion in the Desert (1998)::Adventure|Drama\\n1900::Children of Heaven, The (Bacheha-Ye Aseman) (1997)::Drama\\n1901::Dear Jesse (1997)::Documentary\\n1902::Dream for an Insomniac (1996)::Drama|Romance\\n1903::Hav Plenty (1997)::Comedy\\n1904::Henry Fool (1997)::Comedy|Drama\\n1905::Marie Baie Des Anges (1997)::Drama\\n1906::Mr. Jealousy (1997)::Comedy|Romance\\n1907::Mulan (1998)::Animation|Children's\\n1908::Resurrection Man (1998)::Drama|Thriller\\n1909::X-Files: Fight the Future, The (1998)::Mystery|Sci-Fi|Thriller\\n1910::I Went Down (1997)::Action|Comedy|Crime\\n1911::Doctor Dolittle (1998)::Comedy\\n1912::Out of Sight (1998)::Action|Crime|Romance\\n1913::Picnic at Hanging Rock (1975)::Drama|Mystery\\n1914::Smoke Signals (1998)::Comedy|Drama\\n1915::Voyage to the Beginning of the World (1997)::Drama\\n1916::Buffalo 66 (1998)::Action|Comedy|Drama\\n1917::Armageddon (1998)::Action|Adventure|Sci-Fi|Thriller\\n1918::Lethal Weapon 4 (1998)::Action|Comedy|Crime|Drama\\n1919::Madeline (1998)::Children's|Comedy\\n1920::Small Soldiers (1998)::Animation|Children's|Fantasy|War\\n1921::Pi (1998)::Sci-Fi|Thriller\\n1922::Whatever (1998)::Drama\\n1923::There's Something About Mary (1998)::Comedy\\n1924::Plan 9 from Outer Space (1958)::Horror|Sci-Fi\\n1925::Wings (1927)::Drama|Romance|War\\n1926::Broadway Melody, The (1929)::Musical\\n1927::All Quiet on the Western Front (1930)::War\\n1928::Cimarron (1931)::Western\\n1929::Grand Hotel (1932)::Drama\\n1930::Cavalcade (1933)::Drama\\n1931::Mutiny on the Bounty (1935)::Adventure\\n1932::Great Ziegfeld, The (1936)::Musical\\n1933::Life of Émile Zola, The (1937)::Drama\\n1934::You Can't Take It With You (1938)::Comedy\\n1935::How Green Was My Valley (1941)::Drama\\n1936::Mrs. Miniver (1942)::Drama|War\\n1937::Going My Way (1944)::Comedy\\n1938::Lost Weekend, The (1945)::Drama\\n1939::Best Years of Our Lives, The (1946)::Drama|War\\n1940::Gentleman's Agreement (1947)::Drama\\n1941::Hamlet (1948)::Drama\\n1942::All the King's Men (1949)::Drama\\n1943::Greatest Show on Earth, The (1952)::Drama\\n1944::From Here to Eternity (1953)::Drama|Romance|War\\n1945::On the Waterfront (1954)::Crime|Drama\\n1946::Marty (1955)::Drama|Romance\\n1947::West Side Story (1961)::Musical|Romance\\n1948::Tom Jones (1963)::Comedy\\n1949::Man for All Seasons, A (1966)::Drama\\n1950::In the Heat of the Night (1967)::Drama|Mystery\\n1951::Oliver! (1968)::Musical\\n1952::Midnight Cowboy (1969)::Drama\\n1953::French Connection, The (1971)::Action|Crime|Drama|Thriller\\n1954::Rocky (1976)::Action|Drama\\n1955::Kramer Vs. Kramer (1979)::Drama\\n1956::Ordinary People (1980)::Drama\\n1957::Chariots of Fire (1981)::Drama\\n1958::Terms of Endearment (1983)::Comedy|Drama\\n1959::Out of Africa (1985)::Drama|Romance\\n1960::Last Emperor, The (1987)::Drama|War\\n1961::Rain Man (1988)::Drama\\n1962::Driving Miss Daisy (1989)::Drama\\n1963::Take the Money and Run (1969)::Comedy\\n1964::Klute (1971)::Drama|Mystery\\n1965::Repo Man (1984)::Comedy|Sci-Fi\\n1966::Metropolitan (1990)::Comedy\\n1967::Labyrinth (1986)::Adventure|Children's|Fantasy\\n1968::Breakfast Club, The (1985)::Comedy|Drama\\n1969::Nightmare on Elm Street Part 2: Freddy's Revenge, A (1985)::Horror\\n1970::Nightmare on Elm Street 3: Dream Warriors, A (1987)::Horror\\n1971::Nightmare on Elm Street 4: The Dream Master, A (1988)::Horror\\n1972::Nightmare on Elm Street 5: The Dream Child, A (1989)::Horror\\n1973::Freddy's Dead: The Final Nightmare (1991)::Horror\\n1974::Friday the 13th (1980)::Horror\\n1975::Friday the 13th Part 2 (1981)::Horror\\n1976::Friday the 13th Part 3: 3D (1982)::Horror\\n1977::Friday the 13th: The Final Chapter (1984)::Horror\\n1978::Friday the 13th Part V: A New Beginning (1985)::Horror\\n1979::Friday the 13th Part VI: Jason Lives (1986)::Horror\\n1980::Friday the 13th Part VII: The New Blood (1988)::Horror\\n1981::Friday the 13th Part VIII: Jason Takes Manhattan (1989)::Horror\\n1982::Halloween (1978)::Horror\\n1983::Halloween II (1981)::Horror\\n1984::Halloween III: Season of the Witch (1983)::Horror\\n1985::Halloween 4: The Return of Michael Myers (1988)::Horror\\n1986::Halloween 5: The Revenge of Michael Myers (1989)::Horror\\n1987::Prom Night (1980)::Horror\\n1988::Hello Mary Lou: Prom Night II (1987)::Horror\\n1989::Prom Night III: The Last Kiss (1989)::Horror\\n1990::Prom Night IV: Deliver Us From Evil (1992)::Horror\\n1991::Child's Play (1988)::Horror\\n1992::Child's Play 2 (1990)::Horror\\n1993::Child's Play 3 (1992)::Horror\\n1994::Poltergeist (1982)::Horror|Thriller\\n1995::Poltergeist II: The Other Side (1986)::Horror|Thriller\\n1996::Poltergeist III (1988)::Horror|Thriller\\n1997::Exorcist, The (1973)::Horror\\n1998::Exorcist II: The Heretic (1977)::Horror\\n1999::Exorcist III, The (1990)::Horror\\n2000::Lethal Weapon (1987)::Action|Comedy|Crime|Drama\\n2001::Lethal Weapon 2 (1989)::Action|Comedy|Crime|Drama\\n2002::Lethal Weapon 3 (1992)::Action|Comedy|Crime|Drama\\n2003::Gremlins (1984)::Comedy|Horror\\n2004::Gremlins 2: The New Batch (1990)::Comedy|Horror\\n2005::Goonies, The (1985)::Adventure|Children's|Fantasy\\n2006::Mask of Zorro, The (1998)::Action|Adventure|Romance\\n2007::Polish Wedding (1998)::Comedy\\n2008::This World, Then the Fireworks (1996)::Crime|Drama|Film-Noir\\n2009::Soylent Green (1973)::Sci-Fi|Thriller\\n2010::Metropolis (1926)::Sci-Fi\\n2011::Back to the Future Part II (1989)::Comedy|Sci-Fi\\n2012::Back to the Future Part III (1990)::Comedy|Sci-Fi|Western\\n2013::Poseidon Adventure, The (1972)::Action|Adventure\\n2014::Freaky Friday (1977)::Children's|Comedy\\n2015::Absent Minded Professor, The (1961)::Children's|Comedy|Fantasy\\n2016::Apple Dumpling Gang Rides Again, The (1979)::Children's|Comedy|Western\\n2017::Babes in Toyland (1961)::Children's|Fantasy|Musical\\n2018::Bambi (1942)::Animation|Children's\\n2019::Seven Samurai (The Magnificent Seven) (Shichinin no samurai) (1954)::Action|Drama\\n2020::Dangerous Liaisons (1988)::Drama|Romance\\n2021::Dune (1984)::Fantasy|Sci-Fi\\n2022::Last Temptation of Christ, The (1988)::Drama\\n2023::Godfather: Part III, The (1990)::Action|Crime|Drama\\n2024::Rapture, The (1991)::Drama|Mystery\\n2025::Lolita (1997)::Drama|Romance\\n2026::Disturbing Behavior (1998)::Horror|Thriller\\n2027::Mafia! (1998)::Comedy|Crime\\n2028::Saving Private Ryan (1998)::Action|Drama|War\\n2029::Billy's Hollywood Screen Kiss (1997)::Comedy|Romance\\n2030::East Palace West Palace (Dong gong xi gong) (1997)::Drama\\n2031::$1,000,000 Duck (1971)::Children's|Comedy\\n2032::Barefoot Executive, The (1971)::Children's|Comedy\\n2033::Black Cauldron, The (1985)::Animation|Children's\\n2034::Black Hole, The (1979)::Sci-Fi\\n2035::Blackbeard's Ghost (1968)::Children's|Comedy\\n2036::Blank Check (1994)::Children's|Comedy\\n2037::Candleshoe (1977)::Adventure|Children's|Comedy\\n2038::Cat from Outer Space, The (1978)::Children's|Comedy|Sci-Fi\\n2039::Cheetah (1989)::Adventure|Children's\\n2040::Computer Wore Tennis Shoes, The (1970)::Children's|Comedy\\n2041::Condorman (1981)::Action|Adventure|Children's|Comedy\\n2042::D2: The Mighty Ducks (1994)::Children's|Comedy\\n2043::Darby O'Gill and the Little People (1959)::Adventure|Children's|Fantasy\\n2044::Devil and Max Devlin, The (1981)::Comedy\\n2045::Far Off Place, A (1993)::Adventure|Children's|Drama|Romance\\n2046::Flight of the Navigator (1986)::Adventure|Children's|Sci-Fi\\n2047::Gnome-Mobile, The (1967)::Children's\\n2048::Great Mouse Detective, The (1986)::Animation|Children's\\n2049::Happiest Millionaire, The (1967)::Comedy|Musical\\n2050::Herbie Goes Bananas (1980)::Adventure|Children's|Comedy\\n2051::Herbie Goes to Monte Carlo (1977)::Adventure|Children's|Comedy\\n2052::Hocus Pocus (1993)::Children's|Comedy\\n2053::Honey, I Blew Up the Kid (1992)::Children's|Comedy|Sci-Fi\\n2054::Honey, I Shrunk the Kids (1989)::Adventure|Children's|Comedy|Fantasy|Sci-Fi\\n2055::Hot Lead and Cold Feet (1978)::Comedy|Western\\n2056::In Search of the Castaways (1962)::Adventure|Children's\\n2057::Incredible Journey, The (1963)::Adventure|Children's\\n2058::Negotiator, The (1998)::Action|Thriller\\n2059::Parent Trap, The (1998)::Children's|Drama\\n2060::BASEketball (1998)::Comedy\\n2061::Full Tilt Boogie (1997)::Documentary\\n2062::Governess, The (1998)::Drama|Romance\\n2063::Seventh Heaven (Le Septième ciel) (1997)::Drama|Romance\\n2064::Roger & Me (1989)::Comedy|Documentary\\n2065::Purple Rose of Cairo, The (1985)::Comedy|Drama|Romance\\n2066::Out of the Past (1947)::Film-Noir\\n2067::Doctor Zhivago (1965)::Drama|Romance|War\\n2068::Fanny and Alexander (1982)::Drama\\n2069::Trip to Bountiful, The (1985)::Drama\\n2070::Tender Mercies (1983)::Drama\\n2071::And the Band Played On (1993)::Drama\\n2072::'burbs, The (1989)::Comedy\\n2073::Fandango (1985)::Comedy\\n2074::Night Porter, The (Il Portiere di notte) (1974)::Drama\\n2075::Mephisto (1981)::Drama|War\\n2076::Blue Velvet (1986)::Drama|Mystery\\n2077::Journey of Natty Gann, The (1985)::Adventure|Children's\\n2078::Jungle Book, The (1967)::Animation|Children's|Comedy|Musical\\n2079::Kidnapped (1960)::Children's|Drama\\n2080::Lady and the Tramp (1955)::Animation|Children's|Comedy|Musical|Romance\\n2081::Little Mermaid, The (1989)::Animation|Children's|Comedy|Musical|Romance\\n2082::Mighty Ducks, The (1992)::Children's|Comedy\\n2083::Muppet Christmas Carol, The (1992)::Children's|Musical\\n2084::Newsies (1992)::Children's|Musical\\n2085::101 Dalmatians (1961)::Animation|Children's\\n2086::One Magic Christmas (1985)::Drama|Fantasy\\n2087::Peter Pan (1953)::Animation|Children's|Fantasy|Musical\\n2088::Popeye (1980)::Adventure|Comedy|Musical\\n2089::Rescuers Down Under, The (1990)::Animation|Children's\\n2090::Rescuers, The (1977)::Animation|Children's\\n2091::Return from Witch Mountain (1978)::Children's|Sci-Fi\\n2092::Return of Jafar, The (1993)::Animation|Children's|Musical\\n2093::Return to Oz (1985)::Adventure|Children's|Fantasy|Sci-Fi\\n2094::Rocketeer, The (1991)::Action|Adventure|Sci-Fi\\n2095::Shaggy D.A., The (1976)::Children's|Comedy\\n2096::Sleeping Beauty (1959)::Animation|Children's|Musical\\n2097::Something Wicked This Way Comes (1983)::Children's|Horror\\n2098::Son of Flubber (1963)::Children's|Comedy\\n2099::Song of the South (1946)::Adventure|Animation|Children's|Musical\\n2100::Splash (1984)::Comedy|Fantasy|Romance\\n2101::Squanto: A Warrior's Tale (1994)::Adventure|Drama\\n2102::Steamboat Willie (1940)::Animation|Children's|Comedy|Musical\\n2103::Tall Tale (1994)::Adventure|Children's\\n2104::Tex (1982)::Drama\\n2105::Tron (1982)::Action|Adventure|Fantasy|Sci-Fi\\n2106::Swing Kids (1993)::Drama|War\\n2107::Halloween: H20 (1998)::Horror|Thriller\\n2108::L.A. Story (1991)::Comedy|Romance\\n2109::Jerk, The (1979)::Comedy\\n2110::Dead Men Don't Wear Plaid (1982)::Comedy|Crime|Thriller\\n2111::Man with Two Brains, The (1983)::Comedy\\n2112::Grand Canyon (1991)::Crime|Drama\\n2113::Graveyard Shift (1990)::Horror|Thriller\\n2114::Outsiders, The (1983)::Drama\\n2115::Indiana Jones and the Temple of Doom (1984)::Action|Adventure\\n2116::Lord of the Rings, The (1978)::Adventure|Animation|Children's|Sci-Fi\\n2117::Nineteen Eighty-Four (1984)::Drama|Sci-Fi\\n2118::Dead Zone, The (1983)::Horror|Thriller\\n2119::Maximum Overdrive (1986)::Horror\\n2120::Needful Things (1993)::Drama|Horror\\n2121::Cujo (1983)::Horror|Thriller\\n2122::Children of the Corn (1984)::Horror|Thriller\\n2123::All Dogs Go to Heaven (1989)::Animation|Children's\\n2124::Addams Family, The (1991)::Comedy\\n2125::Ever After: A Cinderella Story (1998)::Drama|Romance\\n2126::Snake Eyes (1998)::Action|Crime|Mystery|Thriller\\n2127::First Love, Last Rites (1997)::Drama|Romance\\n2128::Safe Men (1998)::Comedy\\n2129::Saltmen of Tibet, The (1997)::Documentary\\n2130::Atlantic City (1980)::Crime|Drama|Romance\\n2131::Autumn Sonata (Höstsonaten ) (1978)::Drama\\n2132::Who's Afraid of Virginia Woolf? (1966)::Drama\\n2133::Adventures in Babysitting (1987)::Adventure|Comedy\\n2134::Weird Science (1985)::Comedy\\n2135::Doctor Dolittle (1967)::Adventure|Musical\\n2136::Nutty Professor, The (1963)::Comedy\\n2137::Charlotte's Web (1973)::Animation|Children's\\n2138::Watership Down (1978)::Animation|Children's|Drama|Fantasy\\n2139::Secret of NIMH, The (1982)::Animation|Children's\\n2140::Dark Crystal, The (1982)::Children's|Fantasy|Sci-Fi\\n2141::American Tail, An (1986)::Animation|Children's|Comedy\\n2142::American Tail: Fievel Goes West, An (1991)::Animation|Children's|Comedy\\n2143::Legend (1985)::Adventure|Fantasy|Romance\\n2144::Sixteen Candles (1984)::Comedy\\n2145::Pretty in Pink (1986)::Comedy|Drama|Romance\\n2146::St. Elmo's Fire (1985)::Drama|Romance\\n2147::Clan of the Cave Bear, The (1986)::Drama\\n2148::House (1986)::Comedy|Horror\\n2149::House II: The Second Story (1987)::Comedy|Horror\\n2150::Gods Must Be Crazy, The (1980)::Comedy\\n2151::Gods Must Be Crazy II, The (1989)::Comedy\\n2152::Air Bud: Golden Receiver (1998)::Children's|Comedy\\n2153::Avengers, The (1998)::Action|Adventure\\n2154::How Stella Got Her Groove Back (1998)::Drama|Romance\\n2155::Slums of Beverly Hills, The (1998)::Comedy\\n2156::Best Man, The (Il Testimone dello sposo) (1997)::Comedy|Drama\\n2157::Chambermaid on the Titanic, The (1998)::Romance\\n2158::Henry: Portrait of a Serial Killer, Part 2 (1996)::Crime|Horror\\n2159::Henry: Portrait of a Serial Killer (1990)::Crime|Horror\\n2160::Rosemary's Baby (1968)::Horror|Thriller\\n2161::NeverEnding Story, The (1984)::Adventure|Children's|Fantasy\\n2162::NeverEnding Story II: The Next Chapter, The (1990)::Adventure|Children's|Fantasy\\n2163::Attack of the Killer Tomatoes! (1980)::Comedy|Horror\\n2164::Surf Nazis Must Die (1987)::Drama\\n2165::Your Friends and Neighbors (1998)::Drama\\n2166::Return to Paradise (1998)::Drama|Romance\\n2167::Blade (1998)::Action|Adventure|Horror\\n2168::Dance with Me (1998)::Drama|Romance\\n2169::Dead Man on Campus (1998)::Comedy\\n2170::Wrongfully Accused (1998)::Action|Comedy\\n2171::Next Stop, Wonderland (1998)::Comedy|Drama|Romance\\n2172::Strike! (a.k.a. All I Wanna Do, The Hairy Bird) (1998)::Comedy\\n2173::Navigator: A Mediaeval Odyssey, The (1988)::Adventure|Fantasy|Sci-Fi\\n2174::Beetlejuice (1988)::Comedy|Fantasy\\n2175::Déjà Vu (1997)::Drama|Romance\\n2176::Rope (1948)::Thriller\\n2177::Family Plot (1976)::Comedy|Thriller\\n2178::Frenzy (1972)::Thriller\\n2179::Topaz (1969)::Thriller\\n2180::Torn Curtain (1966)::Thriller\\n2181::Marnie (1964)::Thriller\\n2182::Wrong Man, The (1956)::Drama|Film-Noir|Thriller\\n2183::Man Who Knew Too Much, The (1956)::Thriller\\n2184::Trouble with Harry, The (1955)::Mystery|Thriller\\n2185::I Confess (1953)::Thriller\\n2186::Strangers on a Train (1951)::Film-Noir|Thriller\\n2187::Stage Fright (1950)::Mystery|Thriller\\n2188::54 (1998)::Drama\\n2189::I Married A Strange Person (1997)::Animation\\n2190::Why Do Fools Fall In Love? (1998)::Drama\\n2191::Merry War, A (1997)::Comedy\\n2192::See the Sea (Regarde la mer) (1997)::Drama\\n2193::Willow (1988)::Action|Adventure|Fantasy\\n2194::Untouchables, The (1987)::Action|Crime|Drama\\n2195::Dirty Work (1998)::Comedy\\n2196::Knock Off (1998)::Action\\n2197::Firelight (1997)::Drama\\n2198::Modulations (1998)::Documentary\\n2199::Phoenix (1998)::Crime|Drama\\n2200::Under Capricorn (1949)::Drama\\n2201::Paradine Case, The (1947)::Drama\\n2202::Lifeboat (1944)::Drama|Thriller|War\\n2203::Shadow of a Doubt (1943)::Film-Noir|Thriller\\n2204::Saboteur (1942)::Thriller\\n2205::Mr. & Mrs. Smith (1941)::Comedy\\n2206::Suspicion (1941)::Mystery|Thriller\\n2207::Jamaica Inn (1939)::Drama\\n2208::Lady Vanishes, The (1938)::Comedy|Mystery|Romance|Thriller\\n2209::Young and Innocent (1937)::Crime|Thriller\\n2210::Sabotage (1936)::Thriller\\n2211::Secret Agent (1936)::Thriller\\n2212::Man Who Knew Too Much, The (1934)::Thriller\\n2213::Waltzes from Vienna (1933)::Comedy|Musical\\n2214::Number Seventeen (1932)::Thriller\\n2215::Rich and Strange (1932)::Comedy|Romance\\n2216::Skin Game, The (1931)::Drama\\n2217::Elstree Calling (1930)::Comedy|Musical\\n2218::Juno and Paycock (1930)::Drama\\n2219::Murder! (1930)::Mystery|Thriller\\n2220::Manxman, The (1929)::Drama\\n2221::Blackmail (1929)::Thriller\\n2222::Champagne (1928)::Comedy\\n2223::Farmer's Wife, The (1928)::Comedy\\n2224::Downhill (1927)::Drama\\n2225::Easy Virtue (1927)::Drama\\n2226::Ring, The (1927)::Drama\\n2227::Lodger, The (1926)::Thriller\\n2228::Mountain Eagle, The (1926)::Drama\\n2229::Pleasure Garden, The (1925)::Drama\\n2230::Always Tell Your Wife (1923)::Comedy\\n2231::Rounders (1998)::Crime|Drama\\n2232::Cube (1997)::Sci-Fi|Thriller\\n2233::Digging to China (1998)::Drama\\n2234::Let's Talk About Sex (1998)::Drama\\n2235::One Man's Hero (1999)::Drama|War\\n2236::Simon Birch (1998)::Drama\\n2237::Without Limits (1998)::Drama\\n2238::Seven Beauties (Pasqualino Settebellezze) (1976)::Comedy|Drama\\n2239::Swept Away (Travolti da un insolito destino nell'azzurro mare d'Agosto) (1975)::Comedy|Drama\\n2240::My Bodyguard (1980)::Drama\\n2241::Class (1983)::Comedy\\n2242::Grandview, U.S.A. (1984)::Drama\\n2243::Broadcast News (1987)::Comedy|Drama|Romance\\n2244::Allnighter, The (1987)::Comedy|Romance\\n2245::Working Girl (1988)::Comedy|Drama\\n2246::Stars and Bars (1988)::Comedy\\n2247::Married to the Mob (1988)::Comedy\\n2248::Say Anything... (1989)::Comedy|Drama|Romance\\n2249::My Blue Heaven (1990)::Comedy\\n2250::Men Don't Leave (1990)::Drama\\n2251::Cabinet of Dr. Ramirez, The (1991)::Comedy\\n2252::Hero (1992)::Comedy|Drama\\n2253::Toys (1992)::Action|Comedy|Fantasy\\n2254::Choices (1981)::Drama\\n2255::Young Doctors in Love (1982)::Comedy\\n2256::Parasite (1982)::Horror|Sci-Fi\\n2257::No Small Affair (1984)::Comedy|Romance\\n2258::Master Ninja I (1984)::Action\\n2259::Blame It on Rio (1984)::Comedy|Romance\\n2260::Wisdom (1986)::Action|Crime\\n2261::One Crazy Summer (1986)::Comedy\\n2262::About Last Night... (1986)::Comedy|Drama|Romance\\n2263::Seventh Sign, The (1988)::Thriller\\n2264::We're No Angels (1989)::Drama\\n2265::Nothing But Trouble (1991)::Adventure|Comedy\\n2266::Butcher's Wife, The (1991)::Comedy|Romance\\n2267::Mortal Thoughts (1991)::Mystery|Thriller\\n2268::Few Good Men, A (1992)::Crime|Drama\\n2269::Indecent Proposal (1993)::Drama\\n2270::Century of Cinema, A (1994)::Documentary\\n2271::Permanent Midnight (1998)::Drama\\n2272::One True Thing (1998)::Drama\\n2273::Rush Hour (1998)::Action|Thriller\\n2274::Lilian's Story (1995)::Drama\\n2275::Six-String Samurai (1998)::Action|Adventure|Sci-Fi\\n2276::Soldier's Daughter Never Cries, A (1998)::Drama\\n2277::Somewhere in the City (1997)::Drama\\n2278::Ronin (1998)::Action|Crime|Thriller\\n2279::Urban Legend (1998)::Horror|Thriller\\n2280::Clay Pigeons (1998)::Crime\\n2281::Monument Ave. (1998)::Crime\\n2282::Pecker (1998)::Comedy|Drama\\n2283::Sheltering Sky, The (1990)::Drama\\n2284::Bandit Queen (1994)::Drama\\n2285::If.... (1968)::Drama\\n2286::Fiendish Plot of Dr. Fu Manchu, The (1980)::Comedy\\n2287::Them! (1954)::Sci-Fi|Thriller|War\\n2288::Thing, The (1982)::Action|Horror|Sci-Fi|Thriller\\n2289::Player, The (1992)::Comedy|Drama\\n2290::Stardust Memories (1980)::Comedy|Drama\\n2291::Edward Scissorhands (1990)::Drama|Romance\\n2292::Overnight Delivery (1996)::Romance\\n2293::Shadrach (1998)::Drama\\n2294::Antz (1998)::Animation|Children's\\n2295::Impostors, The (1998)::Comedy\\n2296::Night at the Roxbury, A (1998)::Comedy\\n2297::What Dreams May Come (1998)::Drama|Romance\\n2298::Strangeland (1998)::Thriller\\n2299::Battle of the Sexes, The (1959)::Comedy\\n2300::Producers, The (1968)::Comedy|Musical\\n2301::History of the World: Part I (1981)::Comedy\\n2302::My Cousin Vinny (1992)::Comedy\\n2303::Nashville (1975)::Drama|Musical\\n2304::Love Is the Devil (1998)::Drama\\n2305::Slam (1998)::Drama\\n2306::Holy Man (1998)::Comedy\\n2307::One Tough Cop (1998)::Action|Drama\\n2308::Detroit 9000 (1973)::Action|Crime\\n2309::Inheritors, The (Die Siebtelbauern) (1998)::Drama\\n2310::Mighty, The (1998)::Drama\\n2311::2010 (1984)::Mystery|Sci-Fi\\n2312::Children of a Lesser God (1986)::Drama\\n2313::Elephant Man, The (1980)::Drama\\n2314::Beloved (1998)::Drama\\n2315::Bride of Chucky (1998)::Horror|Thriller\\n2316::Practical Magic (1998)::Drama|Romance\\n2317::Alarmist, The (1997)::Comedy\\n2318::Happiness (1998)::Comedy\\n2319::Reach the Rock (1997)::Comedy\\n2320::Apt Pupil (1998)::Drama|Thriller\\n2321::Pleasantville (1998)::Comedy\\n2322::Soldier (1998)::Action|Adventure|Sci-Fi|Thriller|War\\n2323::Cruise, The (1998)::Documentary\\n2324::Life Is Beautiful (La Vita è bella) (1997)::Comedy|Drama\\n2325::Orgazmo (1997)::Comedy\\n2326::Shattered Image (1998)::Drama|Thriller\\n2327::Tales from the Darkside: The Movie (1990)::Horror\\n2328::Vampires (1998)::Horror\\n2329::American History X (1998)::Drama\\n2330::Hands on a Hard Body (1996)::Documentary\\n2331::Living Out Loud (1998)::Comedy|Romance\\n2332::Belly (1998)::Crime|Drama\\n2333::Gods and Monsters (1998)::Drama\\n2334::Siege, The (1998)::Action|Thriller\\n2335::Waterboy, The (1998)::Comedy\\n2336::Elizabeth (1998)::Drama\\n2337::Velvet Goldmine (1998)::Drama\\n2338::I Still Know What You Did Last Summer (1998)::Horror|Mystery|Thriller\\n2339::I'll Be Home For Christmas (1998)::Comedy|Romance\\n2340::Meet Joe Black (1998)::Romance\\n2341::Dancing at Lughnasa (1998)::Drama\\n2342::Hard Core Logo (1996)::Comedy\\n2343::Naked Man, The (1998)::Drama\\n2344::Runaway Train (1985)::Action|Adventure|Drama|Thriller\\n2345::Desert Bloom (1986)::Drama\\n2346::Stepford Wives, The (1975)::Sci-Fi|Thriller\\n2347::Pope of Greenwich Village, The (1984)::Action\\n2348::Sid and Nancy (1986)::Drama\\n2349::Mona Lisa (1986)::Comedy|Thriller\\n2350::Heart Condition (1990)::Comedy\\n2351::Nights of Cabiria (Le Notti di Cabiria) (1957)::Drama\\n2352::Big Chill, The (1983)::Comedy|Drama\\n2353::Enemy of the State (1998)::Action|Thriller\\n2354::Rugrats Movie, The (1998)::Animation|Children's|Comedy\\n2355::Bug's Life, A (1998)::Animation|Children's|Comedy\\n2356::Celebrity (1998)::Comedy\\n2357::Central Station (Central do Brasil) (1998)::Drama\\n2358::Savior (1998)::Drama\\n2359::Waking Ned Devine (1998)::Comedy\\n2360::Celebration, The (Festen) (1998)::Drama\\n2361::Pink Flamingos (1972)::Comedy\\n2362::Glen or Glenda (1953)::Drama\\n2363::Godzilla (Gojira) (1954)::Action|Sci-Fi\\n2364::Godzilla (Gojira) (1984)::Action|Sci-Fi\\n2365::King Kong vs. Godzilla (Kingukongu tai Gojira) (1962)::Action|Sci-Fi\\n2366::King Kong (1933)::Action|Adventure|Horror\\n2367::King Kong (1976)::Action|Adventure|Horror\\n2368::King Kong Lives (1986)::Action|Adventure|Horror\\n2369::Desperately Seeking Susan (1985)::Comedy|Romance\\n2370::Emerald Forest, The (1985)::Action|Adventure|Drama\\n2371::Fletch (1985)::Comedy\\n2372::Fletch Lives (1989)::Comedy\\n2373::Red Sonja (1985)::Action|Adventure\\n2374::Gung Ho (1986)::Comedy|Drama\\n2375::Money Pit, The (1986)::Comedy\\n2376::View to a Kill, A (1985)::Action\\n2377::Lifeforce (1985)::Horror|Sci-Fi\\n2378::Police Academy (1984)::Comedy\\n2379::Police Academy 2: Their First Assignment (1985)::Comedy\\n2380::Police Academy 3: Back in Training (1986)::Comedy\\n2381::Police Academy 4: Citizens on Patrol (1987)::Comedy\\n2382::Police Academy 5: Assignment: Miami Beach (1988)::Comedy\\n2383::Police Academy 6: City Under Siege (1989)::Comedy\\n2384::Babe: Pig in the City (1998)::Children's|Comedy\\n2385::Home Fries (1998)::Comedy|Romance\\n2386::Jerry Springer: Ringmaster (1998)::Drama\\n2387::Very Bad Things (1998)::Comedy|Crime\\n2388::Steam: The Turkish Bath (Hamam) (1997)::Drama|Romance\\n2389::Psycho (1998)::Crime|Horror|Thriller\\n2390::Little Voice (1998)::Comedy\\n2391::Simple Plan, A (1998)::Crime|Thriller\\n2392::Jack Frost (1998)::Comedy|Drama\\n2393::Star Trek: Insurrection (1998)::Action|Sci-Fi\\n2394::Prince of Egypt, The (1998)::Animation|Musical\\n2395::Rushmore (1998)::Comedy\\n2396::Shakespeare in Love (1998)::Comedy|Romance\\n2397::Mass Appeal (1984)::Drama\\n2398::Miracle on 34th Street (1947)::Drama\\n2399::Santa Claus: The Movie (1985)::Adventure|Children's|Fantasy\\n2400::Prancer (1989)::Children's|Drama\\n2401::Pale Rider (1985)::Western\\n2402::Rambo: First Blood Part II (1985)::Action|War\\n2403::First Blood (1982)::Action\\n2404::Rambo III (1988)::Action|War\\n2405::Jewel of the Nile, The (1985)::Action|Adventure|Comedy|Romance\\n2406::Romancing the Stone (1984)::Action|Adventure|Comedy|Romance\\n2407::Cocoon (1985)::Comedy|Sci-Fi\\n2408::Cocoon: The Return (1988)::Comedy|Sci-Fi\\n2409::Rocky II (1979)::Action|Drama\\n2410::Rocky III (1982)::Action|Drama\\n2411::Rocky IV (1985)::Action|Drama\\n2412::Rocky V (1990)::Action|Drama\\n2413::Clue (1985)::Comedy|Mystery\\n2414::Young Sherlock Holmes (1985)::Action|Adventure|Mystery\\n2415::Violets Are Blue... (1986)::Drama|Romance\\n2416::Back to School (1986)::Comedy\\n2417::Heartburn (1986)::Comedy|Drama\\n2418::Nothing in Common (1986)::Comedy\\n2419::Extremities (1986)::Drama|Thriller\\n2420::Karate Kid, The (1984)::Drama\\n2421::Karate Kid, Part II, The (1986)::Action|Adventure|Drama\\n2422::Karate Kid III, The (1989)::Action|Adventure|Drama\\n2423::Christmas Vacation (1989)::Comedy\\n2424::You've Got Mail (1998)::Comedy|Romance\\n2425::General, The (1998)::Crime\\n2426::Theory of Flight, The (1998)::Comedy|Drama|Romance\\n2427::Thin Red Line, The (1998)::Action|Drama|War\\n2428::Faculty, The (1998)::Horror|Sci-Fi\\n2429::Mighty Joe Young (1998)::Adventure|Children's|Drama\\n2430::Mighty Joe Young (1949)::Adventure|Children's|Drama\\n2431::Patch Adams (1998)::Comedy|Drama\\n2432::Stepmom (1998)::Drama\\n2433::Civil Action, A (1998)::Drama\\n2434::Down in the Delta (1998)::Drama\\n2435::Hurlyburly (1998)::Drama\\n2436::Tea with Mussolini (1999)::Comedy\\n2437::Wilde (1997)::Drama\\n2438::Outside Ozona (1998)::Drama|Thriller\\n2439::Affliction (1997)::Drama\\n2440::Another Day in Paradise (1998)::Drama\\n2441::Hi-Lo Country, The (1998)::Drama|Western\\n2442::Hilary and Jackie (1998)::Drama\\n2443::Playing by Heart (1998)::Drama|Romance\\n2444::24 7: Twenty Four Seven (1997)::Comedy|Drama\\n2445::At First Sight (1999)::Drama\\n2446::In Dreams (1999)::Thriller\\n2447::Varsity Blues (1999)::Comedy|Drama\\n2448::Virus (1999)::Horror|Sci-Fi\\n2449::Garbage Pail Kids Movie, The (1987)::Adventure|Children's\\n2450::Howard the Duck (1986)::Adventure|Children's|Sci-Fi\\n2451::Gate, The (1987)::Horror\\n2452::Gate II: Trespassers, The (1990)::Horror\\n2453::Boy Who Could Fly, The (1986)::Drama|Fantasy\\n2454::Fly, The (1958)::Horror|Sci-Fi\\n2455::Fly, The (1986)::Horror|Sci-Fi\\n2456::Fly II, The (1989)::Horror|Sci-Fi\\n2457::Running Scared (1986)::Action|Comedy\\n2458::Armed and Dangerous (1986)::Comedy|Crime\\n2459::Texas Chainsaw Massacre, The (1974)::Horror\\n2460::Texas Chainsaw Massacre 2, The (1986)::Horror\\n2461::Leatherface: Texas Chainsaw Massacre III (1990)::Horror\\n2462::Return of the Texas Chainsaw Massacre, The (1994)::Horror\\n2463::Ruthless People (1986)::Comedy\\n2464::Trick or Treat (1986)::Horror\\n2465::Deadly Friend (1986)::Horror\\n2466::Belizaire the Cajun (1986)::Drama\\n2467::Name of the Rose, The (1986)::Mystery\\n2468::Jumpin' Jack Flash (1986)::Action|Comedy|Romance|Thriller\\n2469::Peggy Sue Got Married (1986)::Comedy|Romance\\n2470::Crocodile Dundee (1986)::Adventure|Comedy\\n2471::Crocodile Dundee II (1988)::Adventure|Comedy\\n2472::Tough Guys (1986)::Comedy\\n2473::Soul Man (1986)::Comedy\\n2474::Color of Money, The (1986)::Drama\\n2475::52 Pick-Up (1986)::Action|Mystery|Thriller\\n2476::Heartbreak Ridge (1986)::Action|War\\n2477::Firewalker (1986)::Adventure\\n2478::Three Amigos! (1986)::Comedy|Western\\n2479::Gloria (1999)::Drama|Thriller\\n2480::Dry Cleaning (Nettoyage à sec) (1997)::Drama\\n2481::My Name Is Joe (1998)::Drama|Romance\\n2482::Still Crazy (1998)::Comedy|Romance\\n2483::Day of the Beast, The (El Día de la bestia) (1995)::Comedy|Horror|Thriller\\n2484::Tinseltown (1998)::Comedy\\n2485::She's All That (1999)::Comedy|Romance\\n2486::24-hour Woman (1998)::Drama\\n2487::Blood, Guts, Bullets and Octane (1998)::Action|Comedy\\n2488::Peeping Tom (1960)::Drama|Horror|Thriller\\n2489::Spanish Fly (1998)::Drama\\n2490::Payback (1999)::Action|Thriller\\n2491::Simply Irresistible (1999)::Comedy|Romance\\n2492::20 Dates (1998)::Comedy\\n2493::Harmonists, The (1997)::Drama\\n2494::Last Days, The (1998)::Documentary\\n2495::Fantastic Planet, The (La Planète sauvage) (1973)::Animation|Sci-Fi\\n2496::Blast from the Past (1999)::Comedy|Romance\\n2497::Message in a Bottle (1999)::Romance\\n2498::My Favorite Martian (1999)::Comedy|Sci-Fi\\n2499::God Said 'Ha!' (1998)::Comedy\\n2500::Jawbreaker (1999)::Comedy\\n2501::October Sky (1999)::Drama\\n2502::Office Space (1999)::Comedy|Romance\\n2503::Apple, The (Sib) (1998)::Drama\\n2504::200 Cigarettes (1999)::Comedy|Drama\\n2505::8MM (1999)::Thriller\\n2506::Other Sister, The (1999)::Comedy|Drama|Romance\\n2507::Breakfast of Champions (1999)::Comedy\\n2508::Breaks, The (1999)::Drama\\n2509::Eight Days a Week (1997)::Comedy\\n2510::Just the Ticket (1999)::Comedy|Romance\\n2511::Long Goodbye, The (1973)::Crime\\n2512::Ballad of Narayama, The (Narayama Bushiko) (1982)::Drama\\n2513::Pet Sematary (1989)::Horror\\n2514::Pet Sematary II (1992)::Horror\\n2515::Children of the Corn II: The Final Sacrifice (1993)::Horror\\n2516::Children of the Corn III (1994)::Horror\\n2517::Christine (1983)::Horror\\n2518::Night Shift (1982)::Comedy\\n2519::House on Haunted Hill (1958)::Horror\\n2520::Airport (1970)::Drama\\n2521::Airport 1975 (1974)::Drama\\n2522::Airport '77 (1977)::Drama\\n2523::Rollercoaster (1977)::Drama|Thriller\\n2524::Towering Inferno, The (1974)::Action|Drama\\n2525::Alligator (1980)::Action|Horror|Sci-Fi\\n2526::Meteor (1979)::Sci-Fi\\n2527::Westworld (1973)::Action|Sci-Fi|Thriller|Western\\n2528::Logan's Run (1976)::Action|Adventure|Sci-Fi\\n2529::Planet of the Apes (1968)::Action|Sci-Fi\\n2530::Beneath the Planet of the Apes (1970)::Action|Sci-Fi\\n2531::Battle for the Planet of the Apes (1973)::Action|Sci-Fi\\n2532::Conquest of the Planet of the Apes (1972)::Action|Sci-Fi\\n2533::Escape from the Planet of the Apes (1971)::Action|Sci-Fi\\n2534::Avalanche (1978)::Action\\n2535::Earthquake (1974)::Action\\n2536::Concorde: Airport '79, The (1979)::Drama\\n2537::Beyond the Poseidon Adventure (1979)::Adventure\\n2538::Dancemaker (1998)::Documentary\\n2539::Analyze This (1999)::Comedy\\n2540::Corruptor, The (1999)::Action|Crime|Drama|Thriller\\n2541::Cruel Intentions (1999)::Drama\\n2542::Lock, Stock & Two Smoking Barrels (1998)::Comedy|Crime|Thriller\\n2543::Six Ways to Sunday (1997)::Comedy\\n2544::School of Flesh, The (L' École de la chair) (1998)::Drama\\n2545::Relax... It's Just Sex (1998)::Comedy\\n2546::Deep End of the Ocean, The (1999)::Drama\\n2547::Harvest (1998)::Drama\\n2548::Rage: Carrie 2, The (1999)::Horror\\n2549::Wing Commander (1999)::Action|Sci-Fi\\n2550::Haunting, The (1963)::Horror|Thriller\\n2551::Dead Ringers (1988)::Drama|Thriller\\n2552::My Boyfriend's Back (1993)::Comedy\\n2553::Village of the Damned (1960)::Horror|Sci-Fi|Thriller\\n2554::Children of the Damned (1963)::Horror|Sci-Fi|Thriller\\n2555::Baby Geniuses (1999)::Comedy\\n2556::Telling You (1998)::Comedy|Drama|Romance\\n2557::I Stand Alone (Seul contre tous) (1998)::Drama\\n2558::Forces of Nature (1999)::Comedy|Romance\\n2559::King and I, The (1999)::Animation|Children's\\n2560::Ravenous (1999)::Drama|Horror\\n2561::True Crime (1999)::Crime|Thriller\\n2562::Bandits (1997)::Drama\\n2563::Beauty (1998)::Drama\\n2564::Empty Mirror, The (1999)::Drama\\n2565::King and I, The (1956)::Musical\\n2566::Doug's 1st Movie (1999)::Animation|Children's\\n2567::EDtv (1999)::Comedy\\n2568::Mod Squad, The (1999)::Action|Crime\\n2569::Among Giants (1998)::Drama|Romance\\n2570::Walk on the Moon, A (1999)::Drama|Romance\\n2571::Matrix, The (1999)::Action|Sci-Fi|Thriller\\n2572::10 Things I Hate About You (1999)::Comedy|Romance\\n2573::Tango (1998)::Drama\\n2574::Out-of-Towners, The (1999)::Comedy\\n2575::Dreamlife of Angels, The (La Vie rêvée des anges) (1998)::Drama\\n2576::Love, etc. (1996)::Drama\\n2577::Metroland (1997)::Comedy|Drama\\n2578::Sticky Fingers of Time, The (1997)::Sci-Fi\\n2579::Following (1998)::Drama\\n2580::Go (1999)::Crime\\n2581::Never Been Kissed (1999)::Comedy|Romance\\n2582::Twin Dragons (Shuang long hui) (1992)::Action|Comedy\\n2583::Cookie's Fortune (1999)::Mystery\\n2584::Foolish (1999)::Comedy\\n2585::Lovers of the Arctic Circle, The (Los Amantes del Círculo Polar) (1998)::Drama|Romance\\n2586::Goodbye, Lover (1999)::Comedy|Crime|Thriller\\n2587::Life (1999)::Comedy\\n2588::Clubland (1998)::Drama\\n2589::Friends & Lovers (1999)::Comedy|Drama|Romance\\n2590::Hideous Kinky (1998)::Drama\\n2591::Jeanne and the Perfect Guy (Jeanne et le garçon formidable) (1998)::Comedy|Romance\\n2592::Joyriders, The (1999)::Drama\\n2593::Monster, The (Il Mostro) (1994)::Comedy\\n2594::Open Your Eyes (Abre los ojos) (1997)::Drama|Romance|Sci-Fi\\n2595::Photographer (Fotoamator) (1998)::Documentary\\n2596::SLC Punk! (1998)::Comedy|Drama\\n2597::Lost & Found (1999)::Comedy|Romance\\n2598::Pushing Tin (1999)::Comedy\\n2599::Election (1999)::Comedy\\n2600::eXistenZ (1999)::Action|Sci-Fi|Thriller\\n2601::Little Bit of Soul, A (1998)::Comedy\\n2602::Mighty Peking Man (Hsing hsing wang) (1977)::Adventure|Sci-Fi\\n2603::Nô (1998)::Drama\\n2604::Let it Come Down: The Life of Paul Bowles (1998)::Documentary\\n2605::Entrapment (1999)::Crime|Thriller\\n2606::Idle Hands (1999)::Comedy|Horror\\n2607::Get Real (1998)::Drama\\n2608::Heaven (1998)::Thriller\\n2609::King of Masks, The (Bian Lian) (1996)::Drama\\n2610::Three Seasons (1999)::Drama\\n2611::Winslow Boy, The (1998)::Drama\\n2612::Mildred Pierce (1945)::Drama\\n2613::Night of the Comet (1984)::Action|Horror|Sci-Fi\\n2614::Chopping Mall (a.k.a. Killbots) (1986)::Action|Horror|Sci-Fi\\n2615::My Science Project (1985)::Adventure|Sci-Fi\\n2616::Dick Tracy (1990)::Action|Crime\\n2617::Mummy, The (1999)::Action|Adventure|Horror|Thriller\\n2618::Castle, The (1997)::Comedy\\n2619::Mascara (1999)::Drama\\n2620::This Is My Father (1998)::Drama|Romance\\n2621::Xiu Xiu: The Sent-Down Girl (Tian yu) (1998)::Drama|Romance\\n2622::Midsummer Night's Dream, A (1999)::Comedy|Fantasy\\n2623::Trippin' (1999)::Comedy\\n2624::After Life (1998)::Drama\\n2625::Black Mask (Hak hap) (1996)::Action\\n2626::Edge of Seventeen (1998)::Comedy|Drama|Romance\\n2627::Endurance (1998)::Documentary|Drama\\n2628::Star Wars: Episode I - The Phantom Menace (1999)::Action|Adventure|Fantasy|Sci-Fi\\n2629::Love Letter, The (1999)::Comedy|Romance\\n2630::Besieged (L' Assedio) (1998)::Drama\\n2631::Frogs for Snakes (1998)::Comedy|Film-Noir|Thriller\\n2632::Saragossa Manuscript, The (Rekopis znaleziony w Saragossie) (1965)::Drama\\n2633::Mummy, The (1932)::Horror|Romance\\n2634::Mummy, The (1959)::Horror\\n2635::Mummy's Curse, The (1944)::Horror\\n2636::Mummy's Ghost, The (1944)::Horror\\n2637::Mummy's Hand, The (1940)::Horror\\n2638::Mummy's Tomb, The (1942)::Horror\\n2639::Mommie Dearest (1981)::Drama\\n2640::Superman (1978)::Action|Adventure|Sci-Fi\\n2641::Superman II (1980)::Action|Adventure|Sci-Fi\\n2642::Superman III (1983)::Action|Adventure|Sci-Fi\\n2643::Superman IV: The Quest for Peace (1987)::Action|Adventure|Sci-Fi\\n2644::Dracula (1931)::Horror\\n2645::Dracula (1958)::Horror\\n2646::House of Dracula (1945)::Horror\\n2647::House of Frankenstein (1944)::Horror\\n2648::Frankenstein (1931)::Horror\\n2649::Son of Frankenstein (1939)::Horror\\n2650::Ghost of Frankenstein, The (1942)::Horror\\n2651::Frankenstein Meets the Wolf Man (1943)::Horror\\n2652::Curse of Frankenstein, The (1957)::Horror\\n2653::Son of Dracula (1943)::Horror\\n2654::Wolf Man, The (1941)::Horror\\n2655::Howling II: Your Sister Is a Werewolf (1985)::Horror\\n2656::Tarantula (1955)::Horror|Sci-Fi\\n2657::Rocky Horror Picture Show, The (1975)::Comedy|Horror|Musical|Sci-Fi\\n2658::Flying Saucer, The (1950)::Sci-Fi\\n2659::It Came from Hollywood (1982)::Comedy|Documentary\\n2660::Thing From Another World, The (1951)::Sci-Fi\\n2661::It Came from Outer Space (1953)::Sci-Fi\\n2662::War of the Worlds, The (1953)::Action|Sci-Fi|War\\n2663::It Came from Beneath the Sea (1955)::Sci-Fi\\n2664::Invasion of the Body Snatchers (1956)::Horror|Sci-Fi\\n2665::Earth Vs. the Flying Saucers (1956)::Sci-Fi\\n2666::It Conquered the World (1956)::Sci-Fi\\n2667::Mole People, The (1956)::Sci-Fi\\n2668::Swamp Thing (1982)::Horror|Sci-Fi\\n2669::Pork Chop Hill (1959)::War\\n2670::Run Silent, Run Deep (1958)::War\\n2671::Notting Hill (1999)::Comedy|Romance\\n2672::Thirteenth Floor, The (1999)::Drama|Sci-Fi|Thriller\\n2673::Eternity and a Day (Mia eoniotita ke mia mera ) (1998)::Drama\\n2674::Loss of Sexual Innocence, The (1999)::Drama\\n2675::Twice Upon a Yesterday (1998)::Comedy|Drama|Romance\\n2676::Instinct (1999)::Drama|Thriller\\n2677::Buena Vista Social Club (1999)::Documentary\\n2678::Desert Blue (1999)::Drama\\n2679::Finding North (1999)::Drama|Romance\\n2680::Floating (1997)::Drama\\n2681::Free Enterprise (1998)::Comedy|Romance|Sci-Fi\\n2682::Limbo (1999)::Drama\\n2683::Austin Powers: The Spy Who Shagged Me (1999)::Comedy\\n2684::Taxman (1999)::Comedy|Drama\\n2685::Red Dwarf, The (Le Nain rouge) (1998)::Comedy|Drama\\n2686::Red Violin, The (Le Violon rouge) (1998)::Drama|Mystery\\n2687::Tarzan (1999)::Animation|Children's\\n2688::General's Daughter, The (1999)::Drama|Thriller\\n2689::Get Bruce (1999)::Documentary\\n2690::Ideal Husband, An (1999)::Comedy\\n2691::Legend of 1900, The (Leggenda del pianista sull'oceano) (1998)::Drama\\n2692::Run Lola Run (Lola rennt) (1998)::Action|Crime|Romance\\n2693::Trekkies (1997)::Documentary\\n2694::Big Daddy (1999)::Comedy\\n2695::Boys, The (1997)::Drama\\n2696::Dinner Game, The (Le Dîner de cons) (1998)::Comedy\\n2697::My Son the Fanatic (1998)::Comedy|Drama|Romance\\n2698::Zone 39 (1997)::Sci-Fi\\n2699::Arachnophobia (1990)::Action|Comedy|Sci-Fi|Thriller\\n2700::South Park: Bigger, Longer and Uncut (1999)::Animation|Comedy\\n2701::Wild Wild West (1999)::Action|Sci-Fi|Western\\n2702::Summer of Sam (1999)::Drama\\n2703::Broken Vessels (1998)::Drama\\n2704::Lovers on the Bridge, The (Les Amants du Pont-Neuf) (1991)::Drama|Romance\\n2705::Late August, Early September (Fin août, début septembre) (1998)::Drama\\n2706::American Pie (1999)::Comedy\\n2707::Arlington Road (1999)::Thriller\\n2708::Autumn Tale, An (Conte d'automne) (1998)::Romance\\n2709::Muppets From Space (1999)::Children's|Comedy\\n2710::Blair Witch Project, The (1999)::Horror\\n2711::My Life So Far (1999)::Drama\\n2712::Eyes Wide Shut (1999)::Drama\\n2713::Lake Placid (1999)::Horror|Thriller\\n2714::Wood, The (1999)::Drama\\n2715::Velocity of Gary, The (1998)::Comedy|Romance\\n2716::Ghostbusters (1984)::Comedy|Horror\\n2717::Ghostbusters II (1989)::Comedy|Horror\\n2718::Drop Dead Gorgeous (1999)::Comedy\\n2719::Haunting, The (1999)::Horror|Thriller\\n2720::Inspector Gadget (1999)::Action|Adventure|Children's|Comedy\\n2721::Trick (1999)::Romance\\n2722::Deep Blue Sea (1999)::Action|Sci-Fi|Thriller\\n2723::Mystery Men (1999)::Action|Adventure|Comedy\\n2724::Runaway Bride (1999)::Comedy|Romance\\n2725::Twin Falls Idaho (1999)::Drama\\n2726::Killing, The (1956)::Crime|Film-Noir\\n2727::Killer's Kiss (1955)::Film-Noir\\n2728::Spartacus (1960)::Drama\\n2729::Lolita (1962)::Drama\\n2730::Barry Lyndon (1975)::Drama\\n2731::400 Blows, The (Les Quatre cents coups) (1959)::Drama\\n2732::Jules and Jim (Jules et Jim) (1961)::Drama\\n2733::Vibes (1988)::Adventure|Comedy\\n2734::Mosquito Coast, The (1986)::Drama\\n2735::Golden Child, The (1986)::Action|Adventure|Comedy\\n2736::Brighton Beach Memoirs (1986)::Comedy\\n2737::Assassination (1987)::Action\\n2738::Crimes of the Heart (1986)::Comedy|Drama\\n2739::Color Purple, The (1985)::Drama\\n2740::Kindred, The (1986)::Horror\\n2741::No Mercy (1986)::Action|Thriller\\n2742::Ménage (Tenue de soirée) (1986)::Comedy|Drama\\n2743::Native Son (1986)::Drama\\n2744::Otello (1986)::Drama\\n2745::Mission, The (1986)::Drama\\n2746::Little Shop of Horrors (1986)::Comedy|Horror|Musical\\n2747::Little Shop of Horrors, The (1960)::Comedy|Horror\\n2748::Allan Quartermain and the Lost City of Gold (1987)::Action|Adventure\\n2749::Morning After, The (1986)::Drama|Mystery\\n2750::Radio Days (1987)::Comedy|Drama\\n2751::From the Hip (1987)::Comedy\\n2752::Outrageous Fortune (1987)::Comedy|Mystery\\n2753::Bedroom Window, The (1987)::Thriller\\n2754::Deadtime Stories (1987)::Horror\\n2755::Light of Day (1987)::Drama\\n2756::Wanted: Dead or Alive (1987)::Action\\n2757::Frances (1982)::Drama\\n2758::Plenty (1985)::Drama\\n2759::Dick (1999)::Comedy\\n2760::Gambler, The (A Játékos) (1997)::Drama\\n2761::Iron Giant, The (1999)::Animation|Children's\\n2762::Sixth Sense, The (1999)::Thriller\\n2763::Thomas Crown Affair, The (1999)::Action|Thriller\\n2764::Thomas Crown Affair, The (1968)::Crime|Drama|Thriller\\n2765::Acid House, The (1998)::Comedy|Drama\\n2766::Adventures of Sebastian Cole, The (1998)::Comedy|Drama\\n2767::Illuminata (1998)::Comedy\\n2768::Stiff Upper Lips (1998)::Comedy\\n2769::Yards, The (1999)::Crime|Mystery\\n2770::Bowfinger (1999)::Comedy\\n2771::Brokedown Palace (1999)::Drama\\n2772::Detroit Rock City (1999)::Comedy\\n2773::Alice and Martin (Alice et Martin) (1998)::Drama\\n2774::Better Than Chocolate (1999)::Comedy|Romance\\n2775::Head On (1998)::Drama\\n2776::Marcello Mastroianni: I Remember Yes, I Remember (1997)::Documentary\\n2777::Cobra (1925)::Drama\\n2778::Never Talk to Strangers (1995)::Thriller\\n2779::Heaven Can Wait (1978)::Comedy\\n2780::Raven, The (1963)::Comedy|Horror\\n2781::Tingler, The (1959)::Horror\\n2782::Pit and the Pendulum (1961)::Horror\\n2783::Tomb of Ligeia, The (1965)::Horror\\n2784::Masque of the Red Death, The (1964)::Horror\\n2785::Tales of Terror (1962)::Horror\\n2786::Haunted Honeymoon (1986)::Comedy\\n2787::Cat's Eye (1985)::Horror\\n2788::And Now for Something Completely Different (1971)::Comedy\\n2789::Damien: Omen II (1978)::Horror\\n2790::Final Conflict, The (a.k.a. Omen III: The Final Conflict) (1981)::Horror\\n2791::Airplane! (1980)::Comedy\\n2792::Airplane II: The Sequel (1982)::Comedy\\n2793::American Werewolf in Paris, An (1997)::Comedy|Horror\\n2794::European Vacation (1985)::Comedy\\n2795::Vacation (1983)::Comedy\\n2796::Funny Farm (1988)::Comedy\\n2797::Big (1988)::Comedy|Fantasy\\n2798::Problem Child (1990)::Comedy\\n2799::Problem Child 2 (1991)::Comedy\\n2800::Little Nemo: Adventures in Slumberland (1992)::Animation|Children's\\n2801::Oscar and Lucinda (a.k.a. Oscar & Lucinda) (1997)::Drama|Romance\\n2802::Tequila Sunrise (1988)::Action|Romance|Thriller\\n2803::Pelican Brief, The (1993)::Thriller\\n2804::Christmas Story, A (1983)::Comedy|Drama\\n2805::Mickey Blue Eyes (1999)::Comedy|Romance\\n2806::Teaching Mrs. Tingle (1999)::Comedy|Thriller\\n2807::Universal Soldier: The Return (1999)::Action|Sci-Fi\\n2808::Universal Soldier (1992)::Action|Sci-Fi\\n2809::Love Stinks (1999)::Comedy\\n2810::Perfect Blue (1997)::Animation|Mystery\\n2811::With Friends Like These... (1998)::Comedy\\n2812::In Too Deep (1999)::Action|Thriller\\n2813::Source, The (1999)::Documentary\\n2814::Bat, The (1959)::Horror\\n2815::Iron Eagle (1986)::Action|War\\n2816::Iron Eagle II (1988)::Action|War\\n2817::Aces: Iron Eagle III (1992)::Action|War\\n2818::Iron Eagle IV (1995)::Action|War\\n2819::Three Days of the Condor (1975)::Thriller\\n2820::Hamlet (1964)::Drama\\n2821::Male and Female (1919)::Adventure|Drama\\n2822::Medicine Man (1992)::Adventure|Romance\\n2823::Spiders, The (Die Spinnen, 1. Teil: Der Goldene See) (1919)::Action|Drama\\n2824::On the Ropes (1999)::Documentary\\n2825::Rosie (1998)::Drama\\n2826::13th Warrior, The (1999)::Action|Horror|Thriller\\n2827::Astronaut's Wife, The (1999)::Sci-Fi|Thriller\\n2828::Dudley Do-Right (1999)::Children's|Comedy\\n2829::Muse, The (1999)::Comedy|Drama\\n2830::Cabaret Balkan (Bure Baruta) (1998)::Drama\\n2831::Dog of Flanders, A (1999)::Drama\\n2832::Lost Son, The (1999)::Drama\\n2833::Lucie Aubrac (1997)::Romance|War\\n2834::Very Thought of You, The (1998)::Comedy|Romance\\n2835::Chill Factor (1999)::Action|Thriller\\n2836::Outside Providence (1999)::Comedy\\n2837::Bedrooms & Hallways (1998)::Comedy|Romance\\n2838::I Woke Up Early the Day I Died (1998)::Comedy\\n2839::West Beirut (West Beyrouth) (1998)::Drama\\n2840::Stigmata (1999)::Thriller\\n2841::Stir of Echoes (1999)::Thriller\\n2842::Best Laid Plans (1999)::Crime|Drama\\n2843::Black Cat, White Cat (Crna macka, beli macor) (1998)::Comedy|Romance\\n2844::Minus Man, The (1999)::Drama|Mystery\\n2845::White Boys (1999)::Drama\\n2846::Adventures of Milo and Otis, The (1986)::Children's\\n2847::Only Angels Have Wings (1939)::Drama\\n2848::Othello (1952)::Drama\\n2849::Queens Logic (1991)::Comedy|Drama\\n2850::Public Access (1993)::Drama|Thriller\\n2851::Saturn 3 (1979)::Adventure|Sci-Fi|Thriller\\n2852::Soldier's Story, A (1984)::Drama\\n2853::Communion (a.k.a. Alice, Sweet Alice/Holy Terror) (1977)::Horror\\n2854::Don't Look in the Basement! (1973)::Horror\\n2855::Nightmares (1983)::Horror\\n2856::I Saw What You Did (1965)::Thriller\\n2857::Yellow Submarine (1968)::Animation|Musical\\n2858::American Beauty (1999)::Comedy|Drama\\n2859::Stop Making Sense (1984)::Documentary\\n2860::Blue Streak (1999)::Comedy\\n2861::For Love of the Game (1999)::Comedy|Drama\\n2862::Caligula (1980)::Drama\\n2863::Hard Day's Night, A (1964)::Comedy|Musical\\n2864::Splendor (1999)::Comedy\\n2865::Sugar Town (1999)::Comedy\\n2866::Buddy Holly Story, The (1978)::Drama\\n2867::Fright Night (1985)::Comedy|Horror\\n2868::Fright Night Part II (1989)::Horror\\n2869::Separation, The (La Séparation) (1994)::Drama\\n2870::Barefoot in the Park (1967)::Comedy\\n2871::Deliverance (1972)::Adventure|Thriller\\n2872::Excalibur (1981)::Action|Drama|Fantasy|Romance\\n2873::Lulu on the Bridge (1998)::Drama|Mystery|Romance\\n2874::Pajama Game, The (1957)::Comedy\\n2875::Sommersby (1993)::Drama|Mystery|Romance\\n2876::Thumbelina (1994)::Animation|Children's\\n2877::Tommy (1975)::Drama|Musical\\n2878::Hell Night (1981)::Horror\\n2879::Operation Condor (Feiying gaiwak) (1990)::Action|Adventure|Comedy\\n2880::Operation Condor 2 (Longxiong hudi) (1990)::Action|Adventure|Comedy\\n2881::Double Jeopardy (1999)::Action|Thriller\\n2882::Jakob the Liar (1999)::Drama\\n2883::Mumford (1999)::Comedy\\n2884::Dog Park (1998)::Comedy|Romance\\n2885::Guinevere (1999)::Drama|Romance\\n2886::Adventures of Elmo in Grouchland, The (1999)::Children's|Comedy\\n2887::Simon Sez (1999)::Drama\\n2888::Drive Me Crazy (1999)::Comedy|Romance\\n2889::Mystery, Alaska (1999)::Comedy\\n2890::Three Kings (1999)::Drama|War\\n2891::Happy, Texas (1999)::Comedy\\n2892::New Rose Hotel (1998)::Action|Drama\\n2893::Plunkett & MaCleane (1999)::Action|Drama\\n2894::Romance (1999)::Drama|Romance\\n2895::Napoleon and Samantha (1972)::Adventure\\n2896::Alvarez Kelly (1966)::Western\\n2897::And the Ship Sails On (E la nave va) (1984)::Comedy|War\\n2898::Dark Half, The (1993)::Horror|Mystery\\n2899::Gulliver's Travels (1939)::Adventure|Animation|Children's\\n2900::Monkey Shines (1988)::Horror|Sci-Fi\\n2901::Phantasm (1979)::Horror|Sci-Fi\\n2902::Psycho II (1983)::Horror|Thriller\\n2903::Psycho III (1986)::Horror|Thriller\\n2904::Rain (1932)::Drama\\n2905::Sanjuro (1962)::Action|Adventure\\n2906::Random Hearts (1999)::Drama|Romance\\n2907::Superstar (1999)::Comedy\\n2908::Boys Don't Cry (1999)::Drama\\n2909::Five Wives, Three Secretaries and Me (1998)::Documentary\\n2910::Ennui, L' (1998)::Drama|Romance\\n2911::Grandfather, The (El Abuelo) (1998)::Drama\\n2912::Limey, The (1999)::Action|Crime|Drama\\n2913::Mating Habits of the Earthbound Human, The (1998)::Comedy\\n2914::Molly (1999)::Comedy|Drama\\n2915::Risky Business (1983)::Comedy\\n2916::Total Recall (1990)::Action|Adventure|Sci-Fi|Thriller\\n2917::Body Heat (1981)::Crime|Thriller\\n2918::Ferris Bueller's Day Off (1986)::Comedy\\n2919::Year of Living Dangerously (1982)::Drama|Romance\\n2920::Children of Paradise (Les enfants du paradis) (1945)::Drama|Romance\\n2921::High Plains Drifter (1972)::Western\\n2922::Hang 'em High (1967)::Western\\n2923::Citizen's Band (a.k.a. Handle with Care) (1977)::Comedy\\n2924::Drunken Master (Zui quan) (1979)::Action|Comedy\\n2925::Conformist, The (Il Conformista) (1970)::Drama\\n2926::Hairspray (1988)::Comedy|Drama\\n2927::Brief Encounter (1946)::Drama|Romance\\n2928::Razor's Edge, The (1984)::Drama\\n2929::Reds (1981)::Drama\\n2930::Return with Honor (1998)::Documentary\\n2931::Time of the Gypsies (Dom za vesanje) (1989)::Drama\\n2932::Days of Heaven (1978)::Drama\\n2933::Fire Within, The (Le Feu Follet) (1963)::Drama\\n2934::Love Bewitched, A (El Amor Brujo) (1986)::Musical\\n2935::Lady Eve, The (1941)::Comedy|Romance\\n2936::Sullivan's Travels (1942)::Comedy\\n2937::Palm Beach Story, The (1942)::Comedy\\n2938::Man Facing Southeast (Hombre Mirando al Sudeste) (1986)::Drama\\n2939::Niagara (1953)::Drama|Thriller\\n2940::Gilda (1946)::Film-Noir\\n2941::South Pacific (1958)::Musical|Romance|War\\n2942::Flashdance (1983)::Drama|Romance\\n2943::Indochine (1992)::Drama|Romance\\n2944::Dirty Dozen, The (1967)::Action|War\\n2945::Mike's Murder (1984)::Mystery\\n2946::Help! (1965)::Comedy|Musical\\n2947::Goldfinger (1964)::Action\\n2948::From Russia with Love (1963)::Action\\n2949::Dr. No (1962)::Action\\n2950::Blue Lagoon, The (1980)::Adventure|Drama|Romance\\n2951::Fistful of Dollars, A (1964)::Action|Western\\n2952::Hard 8 (a.k.a. Sydney, a.k.a. Hard Eight) (1996)::Crime|Thriller\\n2953::Home Alone 2: Lost in New York (1992)::Children's|Comedy\\n2954::Penitentiary (1979)::Drama\\n2955::Penitentiary II (1982)::Drama\\n2956::Someone to Watch Over Me (1987)::Action|Crime|Thriller\\n2957::Sparrows (1926)::Drama\\n2958::Naturally Native (1998)::Drama\\n2959::Fight Club (1999)::Drama\\n2960::Beefcake (1999)::Drama\\n2961::Story of Us, The (1999)::Comedy|Drama\\n2962::Fever Pitch (1997)::Comedy|Romance\\n2963::Joe the King (1999)::Crime|Drama\\n2964::Julien Donkey-Boy (1999)::Drama\\n2965::Omega Code, The (1999)::Action\\n2966::Straight Story, The (1999)::Drama\\n2967::Bad Seed, The (1956)::Drama|Thriller\\n2968::Time Bandits (1981)::Adventure|Fantasy|Sci-Fi\\n2969::Man and a Woman, A (Un Homme et une Femme) (1966)::Drama|Romance\\n2970::Fitzcarraldo (1982)::Adventure|Drama\\n2971::All That Jazz (1979)::Musical\\n2972::Red Sorghum (Hong Gao Liang) (1987)::Drama|War\\n2973::Crimes and Misdemeanors (1989)::Comedy\\n2974::Bats (1999)::Horror|Thriller\\n2975::Best Man, The (1999)::Drama\\n2976::Bringing Out the Dead (1999)::Drama|Horror\\n2977::Crazy in Alabama (1999)::Comedy|Drama\\n2978::Three to Tango (1999)::Comedy|Romance\\n2979::Body Shots (1999)::Drama\\n2980::Men Cry Bullets (1997)::Drama\\n2981::Brother, Can You Spare a Dime? (1975)::Documentary\\n2982::Guardian, The (1990)::Horror|Thriller\\n2983::Ipcress File, The (1965)::Thriller\\n2984::On Any Sunday (1971)::Documentary\\n2985::Robocop (1987)::Action|Crime|Sci-Fi\\n2986::Robocop 2 (1990)::Action|Crime|Sci-Fi\\n2987::Who Framed Roger Rabbit? (1988)::Adventure|Animation|Film-Noir\\n2988::Melvin and Howard (1980)::Drama\\n2989::For Your Eyes Only (1981)::Action\\n2990::Licence to Kill (1989)::Action\\n2991::Live and Let Die (1973)::Action\\n2992::Rawhead Rex (1986)::Horror|Thriller\\n2993::Thunderball (1965)::Action\\n2994::City, The (1998)::Drama\\n2995::House on Haunted Hill, The (1999)::Horror\\n2996::Music of the Heart (1999)::Drama\\n2997::Being John Malkovich (1999)::Comedy\\n2998::Dreaming of Joseph Lees (1998)::Romance\\n2999::Man of the Century (1999)::Comedy\\n3000::Princess Mononoke, The (Mononoke Hime) (1997)::Action|Adventure|Animation\\n3001::Suburbans, The (1999)::Drama\\n3002::My Best Fiend (Mein liebster Feind) (1999)::Documentary\\n3003::Train of Life (Train De Vie) (1998)::Comedy|Drama\\n3004::Bachelor, The (1999)::Comedy|Romance\\n3005::Bone Collector, The (1999)::Thriller\\n3006::Insider, The (1999)::Drama\\n3007::American Movie (1999)::Documentary\\n3008::Last Night (1998)::Thriller\\n3009::Portraits Chinois (1996)::Drama\\n3010::Rosetta (1999)::Drama\\n3011::They Shoot Horses, Don't They? (1969)::Drama\\n3012::Battling Butler (1926)::Comedy\\n3013::Bride of Re-Animator (1990)::Comedy|Horror\\n3014::Bustin' Loose (1981)::Comedy\\n3015::Coma (1978)::Thriller\\n3016::Creepshow (1982)::Horror\\n3017::Creepshow 2 (1987)::Horror\\n3018::Re-Animator (1985)::Horror\\n3019::Drugstore Cowboy (1989)::Crime|Drama\\n3020::Falling Down (1993)::Action|Drama\\n3021::Funhouse, The (1981)::Horror\\n3022::General, The (1927)::Comedy\\n3023::My Best Girl (1927)::Comedy|Romance\\n3024::Piranha (1978)::Horror|Sci-Fi\\n3025::Rough Night in Jericho (1967)::Western\\n3026::Slaughterhouse (1987)::Horror\\n3027::Slaughterhouse 2 (1988)::Horror\\n3028::Taming of the Shrew, The (1967)::Comedy\\n3029::Nighthawks (1981)::Action|Drama\\n3030::Yojimbo (1961)::Comedy|Drama|Western\\n3031::Repossessed (1990)::Comedy\\n3032::Omega Man, The (1971)::Sci-Fi\\n3033::Spaceballs (1987)::Comedy|Sci-Fi\\n3034::Robin Hood (1973)::Animation|Children's\\n3035::Mister Roberts (1955)::Comedy|Drama|War\\n3036::Quest for Fire (1981)::Adventure\\n3037::Little Big Man (1970)::Comedy|Drama|Western\\n3038::Face in the Crowd, A (1957)::Drama\\n3039::Trading Places (1983)::Comedy\\n3040::Meatballs (1979)::Comedy\\n3041::Meatballs Part II (1984)::Comedy\\n3042::Meatballs III (1987)::Comedy\\n3043::Meatballs 4 (1992)::Comedy\\n3044::Dead Again (1991)::Mystery|Romance|Thriller\\n3045::Peter's Friends (1992)::Comedy|Drama\\n3046::Incredibly True Adventure of Two Girls in Love, The (1995)::Comedy|Romance\\n3047::Experience Preferred... But Not Essential (1982)::Drama\\n3048::Under the Rainbow (1981)::Comedy\\n3049::How I Won the War (1967)::Comedy|War\\n3050::Light It Up (1999)::Drama\\n3051::Anywhere But Here (1999)::Drama\\n3052::Dogma (1999)::Comedy\\n3053::Messenger: The Story of Joan of Arc, The (1999)::Drama|War\\n3054::Pokémon: The First Movie (1998)::Animation|Children's\\n3055::Felicia's Journey (1999)::Thriller\\n3056::Oxygen (1999)::Thriller\\n3057::Where's Marlowe? (1999)::Comedy\\n3058::Ape, The (1940)::Horror|Sci-Fi\\n3059::British Intelligence (1940)::Drama\\n3060::Commitments, The (1991)::Comedy|Drama\\n3061::Holiday Inn (1942)::Comedy|Musical\\n3062::Longest Day, The (1962)::Action|Drama|War\\n3063::Poison Ivy (1992)::Thriller\\n3064::Poison Ivy: New Seduction (1997)::Thriller\\n3065::Ten Benny (1997)::Drama\\n3066::Tora! Tora! Tora! (1970)::War\\n3067::Women on the Verge of a Nervous Breakdown (1988)::Comedy|Drama\\n3068::Verdict, The (1982)::Drama\\n3069::Effect of Gamma Rays on Man-in-the-Moon Marigolds, The (1972)::Drama\\n3070::Adventures of Buckaroo Bonzai Across the 8th Dimension, The (1984)::Adventure|Comedy|Sci-Fi\\n3071::Stand and Deliver (1987)::Drama\\n3072::Moonstruck (1987)::Comedy\\n3073::Sandpiper, The (1965)::Drama|Romance\\n3074::Jeremiah Johnson (1972)::Western\\n3075::Repulsion (1965)::Thriller\\n3076::Irma la Douce (1963)::Comedy\\n3077::42 Up (1998)::Documentary\\n3078::Liberty Heights (1999)::Drama\\n3079::Mansfield Park (1999)::Drama\\n3080::Goodbye, 20th Century (Zbogum na dvadesetiot vek) (1998)::Drama|Sci-Fi\\n3081::Sleepy Hollow (1999)::Horror|Romance\\n3082::World Is Not Enough, The (1999)::Action|Thriller\\n3083::All About My Mother (Todo Sobre Mi Madre) (1999)::Comedy|Drama\\n3084::Home Page (1999)::Documentary\\n3085::Living Dead Girl, The (La Morte Vivante) (1982)::Horror\\n3086::March of the Wooden Soldiers (a.k.a. Laurel & Hardy in Toyland) (1934)::Comedy\\n3087::Scrooged (1988)::Comedy\\n3088::Harvey (1950)::Comedy\\n3089::Bicycle Thief, The (Ladri di biciclette) (1948)::Drama\\n3090::Matewan (1987)::Drama\\n3091::Kagemusha (1980)::Drama|War\\n3092::Chushingura (1962)::Drama\\n3093::McCabe & Mrs. Miller (1971)::Drama|Western\\n3094::Maurice (1987)::Drama|Romance\\n3095::Grapes of Wrath, The (1940)::Drama\\n3096::My Man Godfrey (1957)::Comedy\\n3097::Shop Around the Corner, The (1940)::Comedy|Romance\\n3098::Natural, The (1984)::Drama\\n3099::Shampoo (1975)::Comedy|Romance\\n3100::River Runs Through It, A (1992)::Drama\\n3101::Fatal Attraction (1987)::Thriller\\n3102::Jagged Edge (1985)::Thriller\\n3103::Stanley & Iris (1990)::Drama|Romance\\n3104::Midnight Run (1988)::Action|Adventure|Comedy|Crime\\n3105::Awakenings (1990)::Drama\\n3106::Come See the Paradise (1990)::Drama|Romance\\n3107::Backdraft (1991)::Action|Drama\\n3108::Fisher King, The (1991)::Comedy|Drama|Romance\\n3109::River, The (1984)::Drama\\n3110::Country (1984)::Drama\\n3111::Places in the Heart (1984)::Drama\\n3112::'Night Mother (1986)::Drama\\n3113::End of Days (1999)::Action|Thriller\\n3114::Toy Story 2 (1999)::Animation|Children's|Comedy\\n3115::Flawless (1999)::Drama\\n3116::Miss Julie (1999)::Drama\\n3117::Ride with the Devil (1999)::Drama|Romance|War\\n3118::Tumbleweeds (1999)::Drama\\n3119::Bay of Blood (Reazione a catena) (1971)::Horror\\n3120::Distinguished Gentleman, The (1992)::Comedy\\n3121::Hitch-Hiker, The (1953)::Film-Noir\\n3122::Santa Fe Trail (1940)::Drama|Romance|Western\\n3123::Spring Fever USA (a.k.a. Lauderdale) (1989)::Comedy\\n3124::Agnes Browne (1999)::Comedy|Drama\\n3125::End of the Affair, The (1999)::Drama\\n3126::End of the Affair, The (1955)::Drama\\n3127::Holy Smoke (1999)::Drama\\n3128::Map of the World, A (1999)::Drama\\n3129::Sweet and Lowdown (1999)::Comedy|Drama\\n3130::Bonfire of the Vanities (1990)::Comedy\\n3131::Broadway Damage (1997)::Comedy\\n3132::Daddy Long Legs (1919)::Comedy\\n3133::Go West (1925)::Comedy\\n3134::Grand Illusion (Grande illusion, La) (1937)::Drama|War\\n3135::Great Santini, The (1979)::Drama\\n3136::James Dean Story, The (1957)::Documentary\\n3137::Sea Wolves, The (1980)::Action|War\\n3138::Stealing Home (1988)::Drama\\n3139::Tarzan the Fearless (1933)::Action|Adventure\\n3140::Three Ages, The (1923)::Comedy\\n3141::Two Jakes, The (1990)::Drama\\n3142::U2: Rattle and Hum (1988)::Documentary|Musical\\n3143::Hell in the Pacific (1968)::Drama|War\\n3144::Glass Bottom Boat, The (1966)::Comedy|Romance\\n3145::Cradle Will Rock, The (1999)::Drama\\n3146::Deuce Bigalow: Male Gigolo (1999)::Comedy\\n3147::Green Mile, The (1999)::Drama|Thriller\\n3148::Cider House Rules, The (1999)::Drama\\n3149::Diamonds (1999)::Mystery\\n3150::War Zone, The (1999)::Drama\\n3151::Bat Whispers, The (1930)::Crime|Drama|Mystery\\n3152::Last Picture Show, The (1971)::Drama\\n3153::7th Voyage of Sinbad, The (1958)::Action|Adventure|Fantasy\\n3154::Blood on the Sun (1945)::Drama|War\\n3155::Anna and the King (1999)::Drama|Romance\\n3156::Bicentennial Man (1999)::Comedy|Drama|Sci-Fi\\n3157::Stuart Little (1999)::Children's|Comedy\\n3158::Emperor and the Assassin, The (Jing ke ci qin wang) (1999)::Drama\\n3159::Fantasia 2000 (1999)::Animation|Children's|Musical\\n3160::Magnolia (1999)::Drama\\n3161::Onegin (1999)::Drama\\n3162::Simpatico (1999)::Comedy|Drama\\n3163::Topsy-Turvy (1999)::Drama\\n3164::Alley Cats, The (1968)::Drama\\n3165::Boiling Point (1993)::Action|Drama\\n3166::Brenda Starr (1989)::Adventure\\n3167::Carnal Knowledge (1971)::Drama\\n3168::Easy Rider (1969)::Adventure|Drama\\n3169::Falcon and the Snowman, The (1984)::Drama\\n3170::Hi-Yo Silver (1940)::Western\\n3171::Room at the Top (1959)::Drama\\n3172::Ulysses (Ulisse) (1954)::Adventure\\n3173::Any Given Sunday (1999)::Drama\\n3174::Man on the Moon (1999)::Comedy|Drama\\n3175::Galaxy Quest (1999)::Adventure|Comedy|Sci-Fi\\n3176::Talented Mr. Ripley, The (1999)::Drama|Mystery|Thriller\\n3177::Next Friday (1999)::Comedy\\n3178::Hurricane, The (1999)::Drama\\n3179::Angela's Ashes (1999)::Drama\\n3180::Play it to the Bone (1999)::Comedy|Drama\\n3181::Titus (1999)::Drama\\n3182::Mr. Death: The Rise and Fall of Fred A. Leuchter Jr. (1999)::Documentary\\n3183::Third Miracle, The (1999)::Drama\\n3184::Montana (1998)::Action|Comedy|Crime|Drama\\n3185::Snow Falling on Cedars (1999)::Drama\\n3186::Girl, Interrupted (1999)::Drama\\n3187::Trans (1998)::Drama\\n3188::Life and Times of Hank Greenberg, The (1998)::Documentary\\n3189::My Dog Skip (1999)::Comedy\\n3190::Supernova (2000)::Adventure|Sci-Fi\\n3191::Quarry, The (1998)::Drama\\n3192::Terrorist, The (Malli) (1998)::Drama\\n3193::Creature (1999)::Documentary\\n3194::Way We Were, The (1973)::Drama\\n3195::Tess of the Storm Country (1922)::Drama\\n3196::Stalag 17 (1953)::Drama|War\\n3197::Presidio, The (1988)::Action\\n3198::Papillon (1973)::Drama\\n3199::Pal Joey (1957)::Comedy|Musical|Romance\\n3200::Last Detail, The (1973)::Comedy|Drama\\n3201::Five Easy Pieces (1970)::Drama\\n3202::Even Dwarfs Started Small (Auch Zwerge haben klein angefangen) (1971)::Drama\\n3203::Dead Calm (1989)::Thriller\\n3204::Boys from Brazil, The (1978)::Thriller\\n3205::Black Sunday (La Maschera Del Demonio) (1960)::Horror\\n3206::Against All Odds (1984)::Romance\\n3207::Snows of Kilimanjaro, The (1952)::Adventure\\n3208::Loaded Weapon 1 (1993)::Action|Comedy\\n3209::Loves of Carmen, The (1948)::Drama\\n3210::Fast Times at Ridgemont High (1982)::Comedy\\n3211::Cry in the Dark, A (1988)::Drama\\n3212::Born to Win (1971)::Drama\\n3213::Batman: Mask of the Phantasm (1993)::Animation|Children's\\n3214::American Flyers (1985)::Drama\\n3215::Voyage of the Damned (1976)::Drama\\n3216::Vampyros Lesbos (Las Vampiras) (1970)::Horror\\n3217::Star Is Born, A (1937)::Drama\\n3218::Poison (1991)::Drama\\n3219::Pacific Heights (1990)::Thriller\\n3220::Night Tide (1961)::Drama\\n3221::Draughtsman's Contract, The (1982)::Drama\\n3222::Carmen (1984)::Drama\\n3223::Zed & Two Noughts, A (1985)::Drama\\n3224::Woman in the Dunes (Suna no onna) (1964)::Drama\\n3225::Down to You (2000)::Comedy|Romance\\n3226::Hellhounds on My Trail (1999)::Documentary\\n3227::Not Love, Just Frenzy (Más que amor, frenesí) (1996)::Comedy|Drama|Thriller\\n3228::Wirey Spindell (1999)::Comedy\\n3229::Another Man's Poison (1952)::Crime|Drama\\n3230::Odessa File, The (1974)::Thriller\\n3231::Saphead, The (1920)::Comedy\\n3232::Seven Chances (1925)::Comedy\\n3233::Smashing Time (1967)::Comedy\\n3234::Train Ride to Hollywood (1978)::Comedy\\n3235::Where the Buffalo Roam (1980)::Comedy\\n3236::Zachariah (1971)::Western\\n3237::Kestrel's Eye (Falkens öga) (1998)::Documentary\\n3238::Eye of the Beholder (1999)::Thriller\\n3239::Isn't She Great? (2000)::Comedy\\n3240::Big Tease, The (1999)::Comedy\\n3241::Cup, The (Phörpa) (1999)::Comedy\\n3242::Santitos (1997)::Comedy\\n3243::Encino Man (1992)::Comedy\\n3244::Goodbye Girl, The (1977)::Comedy|Romance\\n3245::I Am Cuba (Soy Cuba/Ya Kuba) (1964)::Drama\\n3246::Malcolm X (1992)::Drama\\n3247::Sister Act (1992)::Comedy|Crime\\n3248::Sister Act 2: Back in the Habit (1993)::Comedy\\n3249::Hand That Rocks the Cradle, The (1992)::Thriller\\n3250::Alive (1993)::Drama\\n3251::Agnes of God (1985)::Drama|Mystery\\n3252::Scent of a Woman (1992)::Drama\\n3253::Wayne's World (1992)::Comedy\\n3254::Wayne's World 2 (1993)::Comedy\\n3255::League of Their Own, A (1992)::Comedy|Drama\\n3256::Patriot Games (1992)::Action|Thriller\\n3257::Bodyguard, The (1992)::Action|Drama|Romance|Thriller\\n3258::Death Becomes Her (1992)::Comedy\\n3259::Far and Away (1992)::Drama|Romance\\n3260::Howards End (1992)::Drama\\n3261::Singles (1992)::Comedy|Drama|Romance\\n3262::Twin Peaks: Fire Walk with Me (1992)::Drama|Mystery\\n3263::White Men Can't Jump (1992)::Comedy\\n3264::Buffy the Vampire Slayer (1992)::Comedy|Horror\\n3265::Hard-Boiled (Lashou shentan) (1992)::Action|Crime\\n3266::Man Bites Dog (C'est arrivé près de chez vous) (1992)::Action|Comedy|Crime|Drama\\n3267::Mariachi, El (1992)::Action|Thriller\\n3268::Stop! Or My Mom Will Shoot (1992)::Action|Comedy\\n3269::Forever Young (1992)::Adventure|Romance|Sci-Fi\\n3270::Cutting Edge, The (1992)::Drama\\n3271::Of Mice and Men (1992)::Drama\\n3272::Bad Lieutenant (1992)::Crime|Drama\\n3273::Scream 3 (2000)::Horror|Mystery|Thriller\\n3274::Single White Female (1992)::Action\\n3275::Boondock Saints, The (1999)::Action|Comedy\\n3276::Gun Shy (2000)::Comedy\\n3277::Beloved/Friend (Amigo/Amado) (1999)::Drama\\n3278::Gendernauts (1999)::Documentary\\n3279::Knockout (1999)::Action|Adventure\\n3280::Baby, The (1973)::Horror\\n3281::Brandon Teena Story, The (1998)::Documentary\\n3282::Different for Girls (1996)::Comedy\\n3283::Minnie and Moskowitz (1971)::Action\\n3284::They Might Be Giants (1971)::Comedy|Romance\\n3285::Beach, The (2000)::Adventure|Drama\\n3286::Snow Day (2000)::Comedy\\n3287::Tigger Movie, The (2000)::Animation|Children's\\n3288::Cotton Mary (1999)::Drama\\n3289::Not One Less (Yi ge dou bu neng shao) (1999)::Drama\\n3290::Soft Toilet Seats (1999)::Comedy\\n3291::Trois (2000)::Thriller\\n3292::Big Combo, The (1955)::Film-Noir\\n3293::Conceiving Ada (1997)::Drama|Sci-Fi\\n3294::Eaten Alive (1976)::Horror\\n3295::Raining Stones (1993)::Drama\\n3296::To Sir with Love (1967)::Drama\\n3297::With Byrd at the South Pole (1930)::Documentary\\n3298::Boiler Room (2000)::Drama\\n3299::Hanging Up (2000)::Comedy|Drama\\n3300::Pitch Black (2000)::Action|Sci-Fi\\n3301::Whole Nine Yards, The (2000)::Comedy|Crime\\n3302::Beautiful People (1999)::Comedy\\n3303::Black Tar Heroin: The Dark End of the Street (1999)::Documentary\\n3304::Blue Collar (1978)::Crime|Drama\\n3305::Bluebeard (1944)::Film-Noir|Horror\\n3306::Circus, The (1928)::Comedy\\n3307::City Lights (1931)::Comedy|Drama|Romance\\n3308::Flamingo Kid, The (1984)::Comedy|Drama\\n3309::Dog's Life, A (1920)::Comedy\\n3310::Kid, The (1921)::Action\\n3311::Man from Laramie, The (1955)::Western\\n3312::McCullochs, The (1975)::Drama\\n3313::Class Reunion (1982)::Comedy\\n3314::Big Trees, The (1952)::Action|Drama\\n3315::Happy Go Lovely (1951)::Musical\\n3316::Reindeer Games (2000)::Action|Thriller\\n3317::Wonder Boys (2000)::Comedy|Drama\\n3318::Deterrence (1998)::Thriller\\n3319::Judy Berlin (1999)::Drama\\n3320::Mifune (Mifunes sidste sang) (1999)::Comedy|Romance\\n3321::Waiting Game, The (2000)::Comedy\\n3322::3 Strikes (2000)::Comedy\\n3323::Chain of Fools (2000)::Comedy|Crime\\n3324::Drowning Mona (2000)::Comedy\\n3325::Next Best Thing, The (2000)::Comedy|Drama\\n3326::What Planet Are You From? (2000)::Comedy|Sci-Fi\\n3327::Beyond the Mat (2000)::Documentary\\n3328::Ghost Dog: The Way of the Samurai (1999)::Crime|Drama\\n3329::Year My Voice Broke, The (1987)::Drama\\n3330::Splendor in the Grass (1961)::Drama\\n3331::My Tutor (1983)::Drama\\n3332::Legend of Lobo, The (1962)::Adventure|Children's\\n3333::Killing of Sister George, The (1968)::Drama\\n3334::Key Largo (1948)::Crime|Drama|Film-Noir|Thriller\\n3335::Jail Bait (1954)::Crime|Drama\\n3336::It Happened Here (1961)::Drama\\n3337::I'll Never Forget What's 'is Name (1967)::Comedy|Drama\\n3338::For All Mankind (1989)::Documentary\\n3339::Cross of Iron (1977)::War\\n3340::Bride of the Monster (1956)::Horror|Sci-Fi\\n3341::Born Yesterday (1950)::Comedy\\n3342::Birdy (1984)::Drama|War\\n3343::And God Created Woman (1988)::Comedy|Drama|Romance\\n3344::Blood Feast (1963)::Horror\\n3345::Charlie, the Lonesome Cougar (1967)::Adventure|Children's\\n3346::Color Me Blood Red (1965)::Horror\\n3347::Never Cry Wolf (1983)::Drama\\n3348::Night Visitor, The (1970)::Crime|Thriller\\n3349::Perils of Pauline, The (1947)::Comedy\\n3350::Raisin in the Sun, A (1961)::Drama\\n3351::Two Thousand Maniacs! (1964)::Horror\\n3352::Brown's Requiem (1998)::Drama\\n3353::Closer You Get, The (2000)::Comedy|Romance\\n3354::Mission to Mars (2000)::Sci-Fi\\n3355::Ninth Gate, The (2000)::Thriller\\n3356::Condo Painting (2000)::Documentary\\n3357::East-West (Est-ouest) (1999)::Drama|Romance\\n3358::Defending Your Life (1991)::Comedy|Romance\\n3359::Breaking Away (1979)::Drama\\n3360::Hoosiers (1986)::Drama\\n3361::Bull Durham (1988)::Comedy\\n3362::Dog Day Afternoon (1975)::Comedy|Crime|Drama\\n3363::American Graffiti (1973)::Comedy|Drama\\n3364::Asphalt Jungle, The (1950)::Crime|Film-Noir\\n3365::Searchers, The (1956)::Western\\n3366::Where Eagles Dare (1969)::Action|Adventure|War\\n3367::Devil's Brigade, The (1968)::War\\n3368::Big Country, The (1958)::Romance|Western\\n3369::Any Number Can Win (Mélodie en sous-sol ) (1963)::Crime\\n3370::Betrayed (1988)::Drama|Thriller\\n3371::Bound for Glory (1976)::Drama\\n3372::Bridge at Remagen, The (1969)::Action|War\\n3373::Buck and the Preacher (1972)::Western\\n3374::Daughters of the Dust (1992)::Drama\\n3375::Destination Moon (1950)::Sci-Fi\\n3376::Fantastic Night, The (La Nuit Fantastique) (1949)::Romance\\n3377::Hangmen Also Die (1943)::Drama|War\\n3378::Ogre, The (Der Unhold) (1996)::Drama\\n3379::On the Beach (1959)::Drama\\n3380::Railroaded! (1947)::Film-Noir\\n3381::Slaves to the Underground (1997)::Comedy|Drama\\n3382::Song of Freedom (1936)::Drama\\n3383::Big Fella (1937)::Drama|Musical\\n3384::Taking of Pelham One Two Three, The (1974)::Action\\n3385::Volunteers (1985)::Comedy\\n3386::JFK (1991)::Drama|Mystery\\n3387::Who's Harry Crumb? (1989)::Comedy\\n3388::Harry and the Hendersons (1987)::Comedy\\n3389::Let's Get Harry (1986)::Action|Adventure\\n3390::Shanghai Surprise (1986)::Adventure\\n3391::Who's That Girl? (1987)::Comedy\\n3392::She-Devil (1989)::Comedy\\n3393::Date with an Angel (1987)::Comedy|Fantasy\\n3394::Blind Date (1987)::Comedy|Romance\\n3395::Nadine (1987)::Comedy\\n3396::Muppet Movie, The (1979)::Children's|Comedy\\n3397::Great Muppet Caper, The (1981)::Children's|Comedy\\n3398::Muppets Take Manhattan, The (1984)::Children's|Comedy\\n3399::Sesame Street Presents Follow That Bird (1985)::Children's|Comedy\\n3400::We're Back! A Dinosaur's Story (1993)::Animation|Children's\\n3401::Baby... Secret of the Lost Legend (1985)::Adventure|Sci-Fi\\n3402::Turtle Diary (1985)::Drama\\n3403::Raise the Titanic (1980)::Drama|Thriller\\n3404::Titanic (1953)::Action|Drama\\n3405::Night to Remember, A (1958)::Action|Drama\\n3406::Captain Horatio Hornblower (1951)::Action|Adventure|War\\n3407::Carriers Are Waiting, The (Les Convoyeurs Attendent) (1999)::Comedy|Drama\\n3408::Erin Brockovich (2000)::Drama\\n3409::Final Destination (2000)::Drama|Thriller\\n3410::Soft Fruit (1999)::Comedy|Drama\\n3411::Babymother (1998)::Drama\\n3412::Bear, The (1988)::Adventure\\n3413::Impact (1949)::Crime|Drama\\n3414::Love Is a Many-Splendored Thing (1955)::Romance\\n3415::Mirror, The (Zerkalo) (1975)::Drama\\n3416::Trial, The (Le Procès) (1963)::Drama\\n3417::Crimson Pirate, The (1952)::Adventure|Comedy|Sci-Fi\\n3418::Thelma & Louise (1991)::Action|Drama\\n3419::Something for Everyone (1970)::Comedy|Crime\\n3420::...And Justice for All (1979)::Drama|Thriller\\n3421::Animal House (1978)::Comedy\\n3422::She's Gotta Have It (1986)::Comedy|Romance\\n3423::School Daze (1988)::Drama\\n3424::Do the Right Thing (1989)::Comedy|Drama\\n3425::Mo' Better Blues (1990)::Drama\\n3426::Jungle Fever (1991)::Drama|Romance\\n3427::Coogan's Bluff (1968)::Crime\\n3428::Champ, The (1979)::Drama\\n3429::Creature Comforts (1990)::Animation|Comedy\\n3430::Death Wish (1974)::Action|Drama\\n3431::Death Wish II (1982)::Action|Drama\\n3432::Death Wish 3 (1985)::Action|Drama\\n3433::Death Wish 4: The Crackdown (1987)::Action|Drama\\n3434::Death Wish V: The Face of Death (1994)::Action|Drama\\n3435::Double Indemnity (1944)::Crime|Film-Noir\\n3436::Dying Young (1991)::Drama|Romance\\n3437::Cool as Ice (1991)::Drama\\n3438::Teenage Mutant Ninja Turtles (1990)::Action|Children's|Fantasy\\n3439::Teenage Mutant Ninja Turtles II: The Secret of the Ooze (1991)::Action|Children's|Fantasy\\n3440::Teenage Mutant Ninja Turtles III (1993)::Action|Children's|Fantasy\\n3441::Red Dawn (1984)::Action|War\\n3442::Band of the Hand (1986)::Action\\n3443::Born American (1986)::Action|Drama|Thriller\\n3444::Bloodsport (1988)::Action\\n3445::Eyes of Laura Mars (1978)::Mystery|Thriller\\n3446::Funny Bones (1995)::Comedy\\n3447::Good Earth, The (1937)::Drama\\n3448::Good Morning, Vietnam (1987)::Comedy|Drama|War\\n3449::Good Mother, The (1988)::Drama\\n3450::Grumpy Old Men (1993)::Comedy\\n3451::Guess Who's Coming to Dinner (1967)::Comedy|Drama\\n3452::Romeo Must Die (2000)::Action|Romance\\n3453::Here on Earth (2000)::Drama|Romance\\n3454::Whatever It Takes (2000)::Comedy|Romance\\n3455::Buddy Boy (1999)::Drama|Thriller\\n3456::Color of Paradise, The (Rang-e Khoda) (1999)::Drama\\n3457::Waking the Dead (1999)::Drama\\n3458::Blood and Sand (Sangre y Arena) (1989)::Drama|Romance\\n3459::Gothic (1986)::Drama|Horror\\n3460::Hillbillys in a Haunted House (1967)::Comedy\\n3461::Lord of the Flies (1963)::Adventure|Drama|Thriller\\n3462::Modern Times (1936)::Comedy\\n3463::Last Resort (1994)::Comedy\\n3464::Solar Crisis (1993)::Sci-Fi|Thriller\\n3465::That's Life! (1986)::Drama\\n3466::Heart and Souls (1993)::Comedy|Fantasy\\n3467::Hud (1963)::Drama|Western\\n3468::Hustler, The (1961)::Drama\\n3469::Inherit the Wind (1960)::Drama\\n3470::Dersu Uzala (1974)::Adventure|Drama\\n3471::Close Encounters of the Third Kind (1977)::Drama|Sci-Fi\\n3472::Horror Hotel (a.k.a. The City of the Dead) (1960)::Horror\\n3473::Jonah Who Will Be 25 in the Year 2000 (1976)::Comedy\\n3474::Retroactive (1997)::Sci-Fi|Thriller\\n3475::Place in the Sun, A (1951)::Drama|Romance\\n3476::Jacob's Ladder (1990)::Horror|Mystery|Thriller\\n3477::Empire Records (1995)::Comedy|Drama\\n3478::Bamba, La (1987)::Drama\\n3479::Ladyhawke (1985)::Adventure|Fantasy|Romance\\n3480::Lucas (1986)::Drama\\n3481::High Fidelity (2000)::Comedy\\n3482::Price of Glory (2000)::Drama\\n3483::Road to El Dorado, The (2000)::Animation|Children's\\n3484::Skulls, The (2000)::Thriller\\n3485::Autopsy (Macchie Solari) (1975)::Horror\\n3486::Devil Girl From Mars (1954)::Sci-Fi\\n3487::Dorado, El (1967)::Western\\n3488::Hideous Sun Demon, The (1959)::Horror|Sci-Fi\\n3489::Hook (1991)::Adventure|Fantasy\\n3490::Horror Express (1972)::Horror\\n3491::My Chauffeur (1986)::Comedy\\n3492::Son of the Sheik, The (1926)::Adventure\\n3493::Torso (Corpi Presentano Tracce di Violenza Carnale) (1973)::Horror\\n3494::True Grit (1969)::Adventure|Western\\n3495::Roadside Prophets (1992)::Comedy|Drama\\n3496::Madame Sousatzka (1988)::Drama\\n3497::Max Dugan Returns (1983)::Comedy\\n3498::Midnight Express (1978)::Drama\\n3499::Misery (1990)::Horror\\n3500::Mr. Saturday Night (1992)::Comedy|Drama\\n3501::Murphy's Romance (1985)::Comedy|Romance\\n3502::My Life (1993)::Drama\\n3503::Solaris (Solyaris) (1972)::Drama|Sci-Fi\\n3504::Network (1976)::Comedy|Drama\\n3505::No Way Out (1987)::Thriller\\n3506::North Dallas Forty (1979)::Comedy|Drama\\n3507::Odd Couple, The (1968)::Comedy\\n3508::Outlaw Josey Wales, The (1976)::Western\\n3509::Black and White (1999)::Drama\\n3510::Frequency (2000)::Drama|Thriller\\n3511::Ready to Rumble (2000)::Comedy\\n3512::Return to Me (2000)::Drama|Romance\\n3513::Rules of Engagement (2000)::Drama|Thriller\\n3514::Joe Gould's Secret (2000)::Drama\\n3515::Me Myself I (2000)::Comedy\\n3516::Bell, Book and Candle (1958)::Comedy|Romance\\n3517::Bells, The (1926)::Crime|Drama\\n3518::End of Violence, The (1997)::Drama|Thriller\\n3519::Force 10 from Navarone (1978)::Action|War\\n3520::How to Stuff a Wild Bikini (1965)::Comedy\\n3521::Mystery Train (1989)::Comedy|Crime|Drama\\n3522::Sacco and Vanzetti (Sacco e Vanzetti) (1971)::Drama\\n3523::Taffin (1988)::Action|Thriller\\n3524::Arthur (1981)::Comedy|Romance\\n3525::Bachelor Party (1984)::Comedy\\n3526::Parenthood (1989)::Comedy|Drama\\n3527::Predator (1987)::Action|Sci-Fi|Thriller\\n3528::Prince of Tides, The (1991)::Drama|Romance\\n3529::Postman Always Rings Twice, The (1981)::Crime|Thriller\\n3530::Smoking/No Smoking (1993)::Comedy\\n3531::All the Vermeers in New York (1990)::Comedy|Drama|Romance\\n3532::Freedom for Us (À nous la liberté ) (1931)::Comedy\\n3533::Actor's Revenge, An (Yukinojo Henge) (1963)::Drama\\n3534::28 Days (2000)::Comedy\\n3535::American Psycho (2000)::Comedy|Horror|Thriller\\n3536::Keeping the Faith (2000)::Comedy|Romance\\n3537::Where the Money Is (2000)::Comedy|Drama\\n3538::East is East (1999)::Comedy\\n3539::Filth and the Fury, The (2000)::Documentary\\n3540::Passion of Mind (1999)::Romance|Thriller\\n3541::Third World Cop (1999)::Action\\n3542::Coming Apart (1969)::Drama\\n3543::Diner (1982)::Comedy|Drama\\n3544::Shakes the Clown (1991)::Comedy\\n3545::Cabaret (1972)::Musical|War\\n3546::What Ever Happened to Baby Jane? (1962)::Drama|Thriller\\n3547::Prick Up Your Ears (1987)::Drama\\n3548::Auntie Mame (1958)::Comedy|Drama\\n3549::Guys and Dolls (1955)::Musical\\n3550::Hunger, The (1983)::Horror\\n3551::Marathon Man (1976)::Thriller\\n3552::Caddyshack (1980)::Comedy\\n3553::Gossip (2000)::Drama|Thriller\\n3554::Love and Basketball (2000)::Drama|Romance\\n3555::U-571 (2000)::Action|Thriller\\n3556::Virgin Suicides, The (1999)::Comedy|Drama\\n3557::Jennifer 8 (1992)::Thriller\\n3558::Law, The (Le Legge) (1958)::Drama\\n3559::Limelight (1952)::Drama\\n3560::Phantom Love (Ai No Borei) (1978)::Drama\\n3561::Stacy's Knights (1982)::Drama\\n3562::Committed (2000)::Comedy|Drama\\n3563::Crow: Salvation, The (2000)::Action|Horror\\n3564::Flintstones in Viva Rock Vegas, The (2000)::Children's|Comedy\\n3565::Where the Heart Is (2000)::Comedy|Drama\\n3566::Big Kahuna, The (2000)::Comedy|Drama\\n3567::Bossa Nova (1999)::Comedy\\n3568::Smiling Fish and Goat on Fire (1999)::Drama\\n3569::Idiots, The (Idioterne) (1998)::Comedy|Drama\\n3570::Last September, The (1999)::Drama\\n3571::Time Code (2000)::Drama\\n3572::Carnosaur (1993)::Horror|Sci-Fi\\n3573::Carnosaur 2 (1995)::Horror|Sci-Fi\\n3574::Carnosaur 3: Primal Species (1996)::Horror|Sci-Fi\\n3575::Defying Gravity (1997)::Drama\\n3576::Hidden, The (1987)::Action|Horror|Sci-Fi\\n3577::Two Moon Juction (1988)::Drama\\n3578::Gladiator (2000)::Action|Drama\\n3579::I Dreamed of Africa (2000)::Drama\\n3580::Up at the Villa (2000)::Drama\\n3581::Human Traffic (1999)::Drama\\n3582::Jails, Hospitals & Hip-Hop (2000)::Drama\\n3583::Black Tights (Les Collants Noirs) (1960)::Drama\\n3584::Breathless (1983)::Action|Drama|Romance|Thriller\\n3585::Great Locomotive Chase, The (1956)::Adventure|War\\n3586::Idolmaker, The (1980)::Drama\\n3587::Inferno (1980)::Horror\\n3588::King of Marvin Gardens, The (1972)::Crime|Drama\\n3589::Kill, Baby... Kill! (Operazione Paura) (1966)::Horror\\n3590::Lords of Flatbush, The (1974)::Comedy\\n3591::Mr. Mom (1983)::Comedy|Drama\\n3592::Time Masters (Les Maîtres du Temps) (1982)::Animation|Sci-Fi\\n3593::Battlefield Earth (2000)::Action|Sci-Fi\\n3594::Center Stage (2000)::Drama\\n3595::Held Up (2000)::Comedy\\n3596::Screwed (2000)::Comedy\\n3597::Whipped (2000)::Comedy\\n3598::Hamlet (2000)::Drama\\n3599::Anchors Aweigh (1945)::Comedy|Musical\\n3600::Blue Hawaii (1961)::Comedy|Musical\\n3601::Castaway Cowboy, The (1974)::Comedy|Western\\n3602::G. I. Blues (1960)::Musical\\n3603::Gay Deceivers, The (1969)::Comedy\\n3604::Gypsy (1962)::Musical\\n3605::King Creole (1958)::Drama|Musical\\n3606::On the Town (1949)::Musical\\n3607::One Little Indian (1973)::Comedy|Drama|Western\\n3608::Pee-wee's Big Adventure (1985)::Comedy\\n3609::Regret to Inform (1998)::Documentary\\n3610::Roustabout (1964)::Musical\\n3611::Saludos Amigos (1943)::Animation|Children's|Comedy\\n3612::Slipper and the Rose, The (1976)::Adventure|Musical|Romance\\n3613::Things Change (1988)::Comedy\\n3614::Honeymoon in Vegas (1992)::Comedy|Romance\\n3615::Dinosaur (2000)::Animation|Children's\\n3616::Loser (2000)::Comedy|Romance\\n3617::Road Trip (2000)::Comedy\\n3618::Small Time Crooks (2000)::Comedy\\n3619::Hollywood Knights, The (1980)::Comedy\\n3620::Myth of Fingerprints, The (1997)::Comedy|Drama\\n3621::Possession (1981)::Drama|Horror\\n3622::Twelve Chairs, The (1970)::Comedy\\n3623::Mission: Impossible 2 (2000)::Action|Thriller\\n3624::Shanghai Noon (2000)::Action\\n3625::Better Living Through Circuitry (1999)::Documentary\\n3626::8 1/2 Women (1999)::Comedy\\n3627::Carnival of Souls (1962)::Horror|Thriller\\n3628::Flying Tigers (1942)::Action|Drama|War\\n3629::Gold Rush, The (1925)::Comedy\\n3630::House of Exorcism, The (La Casa dell'esorcismo) (1974)::Horror\\n3631::It's in the Water (1998)::Comedy\\n3632::Monsieur Verdoux (1947)::Comedy\\n3633::On Her Majesty's Secret Service (1969)::Action\\n3634::Seven Days in May (1964)::Thriller\\n3635::Spy Who Loved Me, The (1977)::Action\\n3636::Those Who Love Me Can Take the Train (Ceux qui m'aiment prendront le train) (1998)::Drama\\n3637::Vagabond (Sans toit ni loi) (1985)::Drama\\n3638::Moonraker (1979)::Action|Romance|Sci-Fi\\n3639::Man with the Golden Gun, The (1974)::Action\\n3640::King in New York, A (1957)::Comedy|Drama\\n3641::Woman of Paris, A (1923)::Drama\\n3642::In Old California (1942)::Western\\n3643::Fighting Seabees, The (1944)::Action|Drama|War\\n3644::Dark Command (1940)::Western\\n3645::Cleo From 5 to 7 (Cléo de 5 à 7) (1962)::Drama\\n3646::Big Momma's House (2000)::Comedy\\n3647::Running Free (2000)::Drama\\n3648::Abominable Snowman, The (1957)::Horror|Sci-Fi\\n3649::American Gigolo (1980)::Drama\\n3650::Anguish (Angustia) (1986)::Horror\\n3651::Blood Spattered Bride, The (La Novia Ensangrentada) (1972)::Horror\\n3652::City of the Living Dead (Paura nella città dei morti viventi) (1980)::Horror\\n3653::Endless Summer, The (1966)::Documentary\\n3654::Guns of Navarone, The (1961)::Action|Drama|War\\n3655::Blow-Out (La Grande Bouffe) (1973)::Drama\\n3656::Lured (1947)::Crime\\n3657::Pandora and the Flying Dutchman (1951)::Drama\\n3658::Quatermass and the Pit (1967)::Sci-Fi\\n3659::Quatermass II (1957)::Sci-Fi|Thriller\\n3660::Puppet Master (1989)::Horror|Sci-Fi|Thriller\\n3661::Puppet Master II (1990)::Horror|Sci-Fi|Thriller\\n3662::Puppet Master III: Toulon's Revenge (1991)::Horror|Sci-Fi|Thriller\\n3663::Puppet Master 4 (1993)::Horror|Sci-Fi|Thriller\\n3664::Puppet Master 5: The Final Chapter (1994)::Horror|Sci-Fi|Thriller\\n3665::Curse of the Puppet Master (1998)::Horror|Sci-Fi|Thriller\\n3666::Retro Puppetmaster (1999)::Horror|Sci-Fi|Thriller\\n3667::Rent-A-Cop (1988)::Action|Comedy\\n3668::Romeo and Juliet (1968)::Drama|Romance\\n3669::Stay Tuned (1992)::Comedy\\n3670::Story of G.I. Joe, The (1945)::War\\n3671::Blazing Saddles (1974)::Comedy|Western\\n3672::Benji (1974)::Adventure|Children's\\n3673::Benji the Hunted (1987)::Adventure|Children's\\n3674::For the Love of Benji (1977)::Adventure|Children's\\n3675::White Christmas (1954)::Musical\\n3676::Eraserhead (1977)::Drama|Horror\\n3677::Baraka (1992)::Documentary\\n3678::Man with the Golden Arm, The (1955)::Drama\\n3679::Decline of Western Civilization, The (1981)::Documentary\\n3680::Decline of Western Civilization Part II: The Metal Years, The (1988)::Documentary\\n3681::For a Few Dollars More (1965)::Western\\n3682::Magnum Force (1973)::Western\\n3683::Blood Simple (1984)::Drama|Film-Noir\\n3684::Fabulous Baker Boys, The (1989)::Drama|Romance\\n3685::Prizzi's Honor (1985)::Comedy|Drama|Romance\\n3686::Flatliners (1990)::Thriller\\n3687::Light Years (1988)::Sci-Fi\\n3688::Porky's (1981)::Comedy\\n3689::Porky's II: The Next Day (1983)::Comedy\\n3690::Porky's Revenge (1985)::Comedy\\n3691::Private School (1983)::Comedy\\n3692::Class of Nuke 'Em High (1986)::Comedy|Horror\\n3693::Toxic Avenger, The (1985)::Comedy|Horror\\n3694::Toxic Avenger, Part II, The (1989)::Comedy|Horror\\n3695::Toxic Avenger Part III: The Last Temptation of Toxie, The (1989)::Comedy|Horror\\n3696::Night of the Creeps (1986)::Comedy|Horror|Sci-Fi\\n3697::Predator 2 (1990)::Action|Sci-Fi|Thriller\\n3698::Running Man, The (1987)::Action|Adventure|Sci-Fi\\n3699::Starman (1984)::Adventure|Drama|Romance|Sci-Fi\\n3700::Brother from Another Planet, The (1984)::Drama|Sci-Fi\\n3701::Alien Nation (1988)::Crime|Drama|Sci-Fi\\n3702::Mad Max (1979)::Action|Sci-Fi\\n3703::Mad Max 2 (a.k.a. The Road Warrior) (1981)::Action|Sci-Fi\\n3704::Mad Max Beyond Thunderdome (1985)::Action|Sci-Fi\\n3705::Bird on a Wire (1990)::Action|Adventure|Romance|Thriller\\n3706::Angel Heart (1987)::Film-Noir|Mystery|Thriller\\n3707::Nine 1/2 Weeks (1986)::Drama\\n3708::Firestarter (1984)::Horror|Thriller\\n3709::Sleepwalkers (1992)::Horror\\n3710::Action Jackson (1988)::Action|Comedy\\n3711::Sarafina! (1992)::Drama\\n3712::Soapdish (1991)::Comedy\\n3713::Long Walk Home, The (1990)::Drama\\n3714::Clara's Heart (1988)::Drama\\n3715::Burglar (1987)::Comedy\\n3716::Fatal Beauty (1987)::Action|Crime\\n3717::Gone in 60 Seconds (2000)::Action|Crime\\n3718::American Pimp (1999)::Documentary\\n3719::Love's Labour's Lost (2000)::Comedy|Romance\\n3720::Sunshine (1999)::Drama\\n3721::Trixie (1999)::Comedy\\n3722::Live Virgin (1999)::Comedy\\n3723::Hamlet (1990)::Drama\\n3724::Coming Home (1978)::Drama|War\\n3725::American Pop (1981)::Animation|Musical\\n3726::Assault on Precinct 13 (1976)::Action|Thriller\\n3727::Near Dark (1987)::Comedy|Horror\\n3728::One False Move (1991)::Thriller\\n3729::Shaft (1971)::Action|Crime\\n3730::Conversation, The (1974)::Drama|Mystery\\n3731::Cutter's Way (1981)::Drama|Thriller\\n3732::Fury, The (1978)::Horror\\n3733::Paper Chase, The (1973)::Drama\\n3734::Prince of the City (1981)::Drama\\n3735::Serpico (1973)::Crime|Drama\\n3736::Big Carnival, The (1951)::Drama\\n3737::Lonely Are the Brave (1962)::Drama|Western\\n3738::Sugarland Express, The (1974)::Drama\\n3739::Trouble in Paradise (1932)::Comedy|Romance\\n3740::Big Trouble in Little China (1986)::Action|Comedy\\n3741::Badlands (1973)::Crime|Drama\\n3742::Battleship Potemkin, The (Bronenosets Potyomkin) (1925)::Drama|War\\n3743::Boys and Girls (2000)::Comedy|Romance\\n3744::Shaft (2000)::Action|Crime\\n3745::Titan A.E. (2000)::Adventure|Animation|Sci-Fi\\n3746::Butterfly (La Lengua de las Mariposas) (2000)::Drama|War\\n3747::Jesus' Son (1999)::Drama\\n3748::Match, The (1999)::Comedy|Romance\\n3749::Time Regained (Le Temps Retrouvé) (1999)::Drama\\n3750::Boricua's Bond (2000)::Drama\\n3751::Chicken Run (2000)::Animation|Children's|Comedy\\n3752::Me, Myself and Irene (2000)::Comedy\\n3753::Patriot, The (2000)::Action|Drama|War\\n3754::Adventures of Rocky and Bullwinkle, The (2000)::Animation|Children's|Comedy\\n3755::Perfect Storm, The (2000)::Action|Adventure|Thriller\\n3756::Golden Bowl, The (2000)::Drama\\n3757::Asylum (1972)::Horror\\n3758::Communion (1989)::Drama|Sci-Fi|Thriller\\n3759::Fun and Fancy Free (1947)::Animation|Children's|Musical\\n3760::Kentucky Fried Movie, The (1977)::Comedy\\n3761::Blood In, Blood Out (a.k.a. Bound by Honor) (1993)::Crime|Drama\\n3762::Daughter of Dr. Jeckyll (1957)::Horror\\n3763::F/X (1986)::Action|Crime|Thriller\\n3764::F/X 2 (1992)::Action|Crime|Thriller\\n3765::Hot Spot, The (1990)::Drama|Romance\\n3766::Missing in Action (1984)::Action|War\\n3767::Missing in Action 2: The Beginning (1985)::Action|War\\n3768::Braddock: Missing in Action III (1988)::Action|War\\n3769::Thunderbolt and Lightfoot (1974)::Action\\n3770::Dreamscape (1984)::Adventure|Crime|Sci-Fi|Thriller\\n3771::Golden Voyage of Sinbad, The (1974)::Action|Adventure\\n3772::Hatchet For the Honeymoon (Rosso Segno Della Follia) (1969)::Horror\\n3773::House Party (1990)::Comedy\\n3774::House Party 2 (1991)::Comedy\\n3775::Make Mine Music (1946)::Animation|Children's|Musical\\n3776::Melody Time (1948)::Animation|Children's|Musical\\n3777::Nekromantik (1987)::Comedy|Horror\\n3778::On Our Merry Way (1948)::Comedy|Drama\\n3779::Project Moon Base (1953)::Sci-Fi\\n3780::Rocketship X-M (1950)::Sci-Fi\\n3781::Shaft in Africa (1973)::Action|Crime\\n3782::Shaft's Big Score! (1972)::Action|Crime\\n3783::Croupier (1998)::Crime|Drama\\n3784::Kid, The (2000)::Comedy\\n3785::Scary Movie (2000)::Comedy|Horror\\n3786::But I'm a Cheerleader (1999)::Comedy\\n3787::Shower (Xizhao) (1999)::Comedy\\n3788::Blowup (1966)::Drama|Mystery\\n3789::Pawnbroker, The (1965)::Drama\\n3790::Groove (2000)::Drama\\n3791::Footloose (1984)::Drama\\n3792::Duel in the Sun (1946)::Western\\n3793::X-Men (2000)::Action|Sci-Fi\\n3794::Chuck & Buck (2000)::Comedy|Drama\\n3795::Five Senses, The (1999)::Drama\\n3796::Wisdom of Crocodiles, The (a.k.a. Immortality) (2000)::Romance|Thriller\\n3797::In Crowd, The (2000)::Thriller\\n3798::What Lies Beneath (2000)::Thriller\\n3799::Pokémon the Movie 2000 (2000)::Animation|Children's\\n3800::Criminal Lovers (Les Amants Criminels) (1999)::Drama|Romance\\n3801::Anatomy of a Murder (1959)::Drama|Mystery\\n3802::Freejack (1992)::Action|Sci-Fi\\n3803::Greaser's Palace (1972)::Drama\\n3804::H.O.T.S. (1979)::Comedy\\n3805::Knightriders (1981)::Action|Adventure|Drama\\n3806::MacKenna's Gold (1969)::Western\\n3807::Sinbad and the Eye of the Tiger (1977)::Action|Adventure\\n3808::Two Women (La Ciociara) (1961)::Drama|War\\n3809::What About Bob? (1991)::Comedy\\n3810::White Sands (1992)::Drama|Thriller\\n3811::Breaker Morant (1980)::Drama|War\\n3812::Everything You Always Wanted to Know About Sex (1972)::Comedy\\n3813::Interiors (1978)::Drama\\n3814::Love and Death (1975)::Comedy\\n3816::Official Story, The (La Historia Oficial) (1985)::Drama\\n3817::Other Side of Sunday, The (Søndagsengler) (1996)::Comedy|Drama\\n3818::Pot O' Gold (1941)::Comedy|Musical\\n3819::Tampopo (1986)::Comedy\\n3820::Thomas and the Magic Railroad (2000)::Children's\\n3821::Nutty Professor II: The Klumps (2000)::Comedy\\n3822::Girl on the Bridge, The (La Fille sur le Pont) (1999)::Drama|Romance\\n3823::Wonderland (1999)::Drama\\n3824::Autumn in New York (2000)::Drama|Romance\\n3825::Coyote Ugly (2000)::Drama\\n3826::Hollow Man (2000)::Horror|Sci-Fi|Thriller\\n3827::Space Cowboys (2000)::Action|Sci-Fi\\n3828::Better Living (1998)::Comedy\\n3829::Mad About Mambo (2000)::Comedy|Romance\\n3830::Psycho Beach Party (2000)::Comedy|Horror|Thriller\\n3831::Saving Grace (2000)::Comedy\\n3832::Black Sabbath (Tre Volti Della Paura, I) (1963)::Horror\\n3833::Brain That Wouldn't Die, The (1962)::Horror|Sci-Fi\\n3834::Bronco Billy (1980)::Adventure|Drama|Romance\\n3835::Crush, The (1993)::Thriller\\n3836::Kelly's Heroes (1970)::Action|Comedy|War\\n3837::Phantasm II (1988)::Horror\\n3838::Phantasm III: Lord of the Dead (1994)::Horror\\n3839::Phantasm IV: Oblivion (1998)::Horror\\n3840::Pumpkinhead (1988)::Horror\\n3841::Air America (1990)::Action|Comedy\\n3842::Make Them Die Slowly (Cannibal Ferox) (1980)::Horror\\n3843::Sleepaway Camp (1983)::Horror\\n3844::Steel Magnolias (1989)::Drama\\n3845::And God Created Woman (Et Dieu&#8230;Créa la Femme) (1956)::Drama\\n3846::Easy Money (1983)::Comedy\\n3847::Ilsa, She Wolf of the SS (1974)::Horror\\n3848::Silent Fall (1994)::Drama|Thriller\\n3849::Spiral Staircase, The (1946)::Thriller\\n3850::Whatever Happened to Aunt Alice? (1969)::Crime|Thriller\\n3851::I'm the One That I Want (2000)::Comedy\\n3852::Tao of Steve, The (2000)::Comedy\\n3853::Tic Code, The (1998)::Drama\\n3854::Aimée & Jaguar (1999)::Drama|Romance\\n3855::Affair of Love, An (Une Liaison Pornographique) (1999)::Drama|Romance\\n3856::Autumn Heart (1999)::Drama\\n3857::Bless the Child (2000)::Thriller\\n3858::Cecil B. Demented (2000)::Comedy\\n3859::Eyes of Tammy Faye, The (2000)::Documentary\\n3860::Opportunists, The (1999)::Crime\\n3861::Replacements, The (2000)::Comedy\\n3862::About Adam (2000)::Comedy\\n3863::Cell, The (2000)::Sci-Fi|Thriller\\n3864::Godzilla 2000 (Gojira ni-sen mireniamu) (1999)::Action|Adventure|Sci-Fi\\n3865::Original Kings of Comedy, The (2000)::Comedy|Documentary\\n3866::Sunset Strip (2000)::Comedy\\n3867::All the Rage (a.k.a. It's the Rage) (1999)::Drama\\n3868::Naked Gun: From the Files of Police Squad!, The (1988)::Comedy\\n3869::Naked Gun 2 1/2: The Smell of Fear, The (1991)::Comedy\\n3870::Our Town (1940)::Drama\\n3871::Shane (1953)::Drama|Western\\n3872::Suddenly, Last Summer (1959)::Drama\\n3873::Cat Ballou (1965)::Comedy|Western\\n3874::Couch in New York, A (1996)::Comedy|Romance\\n3875::Devil Rides Out, The (1968)::Horror\\n3876::Jerry & Tom (1998)::Drama\\n3877::Supergirl (1984)::Action|Adventure|Fantasy\\n3878::X: The Unknown (1956)::Sci-Fi\\n3879::Art of War, The (2000)::Action\\n3880::Ballad of Ramblin' Jack, The (2000)::Documentary\\n3881::Bittersweet Motel (2000)::Documentary\\n3882::Bring It On (2000)::Comedy\\n3883::Catfish in Black Bean Sauce (2000)::Comedy|Drama\\n3884::Crew, The (2000)::Comedy\\n3885::Love & Sex (2000)::Comedy|Romance\\n3886::Steal This Movie! (2000)::Drama\\n3887::Went to Coney Island on a Mission From God... Be Back by Five (1998)::Drama\\n3888::Skipped Parts (2000)::Drama|Romance\\n3889::Highlander: Endgame (2000)::Action|Adventure|Fantasy\\n3890::Back Stage (2000)::Documentary\\n3891::Turn It Up (2000)::Crime|Drama\\n3892::Anatomy (Anatomie) (2000)::Horror\\n3893::Nurse Betty (2000)::Comedy|Thriller\\n3894::Solas (1999)::Drama\\n3895::Watcher, The (2000)::Crime|Thriller\\n3896::Way of the Gun, The (2000)::Crime|Thriller\\n3897::Almost Famous (2000)::Comedy|Drama\\n3898::Bait (2000)::Action|Comedy\\n3899::Circus (2000)::Comedy\\n3900::Crime and Punishment in Suburbia (2000)::Comedy|Drama\\n3901::Duets (2000)::Comedy|Drama\\n3902::Goya in Bordeaux (Goya en Bodeos) (1999)::Drama\\n3903::Urbania (2000)::Drama\\n3904::Uninvited Guest, An (2000)::Drama\\n3905::Specials, The (2000)::Comedy\\n3906::Under Suspicion (2000)::Crime\\n3907::Prince of Central Park, The (1999)::Drama\\n3908::Urban Legends: Final Cut (2000)::Horror\\n3909::Woman on Top (2000)::Comedy|Romance\\n3910::Dancer in the Dark (2000)::Drama|Musical\\n3911::Best in Show (2000)::Comedy\\n3912::Beautiful (2000)::Comedy|Drama\\n3913::Barenaked in America (1999)::Documentary\\n3914::Broken Hearts Club, The (2000)::Drama\\n3915::Girlfight (2000)::Drama\\n3916::Remember the Titans (2000)::Drama\\n3917::Hellraiser (1987)::Horror\\n3918::Hellbound: Hellraiser II (1988)::Horror\\n3919::Hellraiser III: Hell on Earth (1992)::Horror\\n3920::Faraway, So Close (In Weiter Ferne, So Nah!) (1993)::Drama|Fantasy\\n3921::Beach Party (1963)::Comedy\\n3922::Bikini Beach (1964)::Comedy\\n3923::Return of the Fly (1959)::Horror|Sci-Fi\\n3924::Pajama Party (1964)::Comedy\\n3925::Stranger Than Paradise (1984)::Comedy\\n3926::Voyage to the Bottom of the Sea (1961)::Adventure|Sci-Fi\\n3927::Fantastic Voyage (1966)::Adventure|Sci-Fi\\n3928::Abbott and Costello Meet Frankenstein (1948)::Comedy|Horror\\n3929::Bank Dick, The (1940)::Comedy\\n3930::Creature From the Black Lagoon, The (1954)::Horror\\n3931::Giant Gila Monster, The (1959)::Horror|Sci-Fi\\n3932::Invisible Man, The (1933)::Horror|Sci-Fi\\n3933::Killer Shrews, The (1959)::Horror|Sci-Fi\\n3934::Kronos (1957)::Sci-Fi\\n3935::Kronos (1973)::Horror\\n3936::Phantom of the Opera, The (1943)::Drama|Thriller\\n3937::Runaway (1984)::Sci-Fi|Thriller\\n3938::Slumber Party Massacre, The (1982)::Horror\\n3939::Slumber Party Massacre II, The (1987)::Horror\\n3940::Slumber Party Massacre III, The (1990)::Horror\\n3941::Sorority House Massacre (1986)::Horror\\n3942::Sorority House Massacre II (1990)::Horror\\n3943::Bamboozled (2000)::Comedy\\n3944::Bootmen (2000)::Comedy|Drama\\n3945::Digimon: The Movie (2000)::Adventure|Animation|Children's\\n3946::Get Carter (2000)::Action|Drama|Thriller\\n3947::Get Carter (1971)::Thriller\\n3948::Meet the Parents (2000)::Comedy\\n3949::Requiem for a Dream (2000)::Drama\\n3950::Tigerland (2000)::Drama\\n3951::Two Family House (2000)::Drama\\n3952::Contender, The (2000)::Drama|Thriller\\n\""
      ]
     },
     "execution_count": 23,
     "metadata": {},
     "output_type": "execute_result"
    }
   ],
   "source": [
    "movies.seek(0) ## torno a posar l'apuntador a l'inici del fitxer. A cada operació l'apuntador queda on queda . ALERTA\n",
    "movies.read()"
   ]
  },
  {
   "cell_type": "code",
   "execution_count": 24,
   "metadata": {
    "scrolled": true
   },
   "outputs": [
    {
     "data": {
      "text/plain": [
       "[\"1::Toy Story (1995)::Animation|Children's|Comedy\\n\",\n",
       " \"2::Jumanji (1995)::Adventure|Children's|Fantasy\\n\",\n",
       " '3::Grumpier Old Men (1995)::Comedy|Romance\\n',\n",
       " '4::Waiting to Exhale (1995)::Comedy|Drama\\n',\n",
       " '5::Father of the Bride Part II (1995)::Comedy\\n',\n",
       " '6::Heat (1995)::Action|Crime|Thriller\\n',\n",
       " '7::Sabrina (1995)::Comedy|Romance\\n',\n",
       " \"8::Tom and Huck (1995)::Adventure|Children's\\n\",\n",
       " '9::Sudden Death (1995)::Action\\n',\n",
       " '10::GoldenEye (1995)::Action|Adventure|Thriller\\n',\n",
       " '11::American President, The (1995)::Comedy|Drama|Romance\\n',\n",
       " '12::Dracula: Dead and Loving It (1995)::Comedy|Horror\\n',\n",
       " \"13::Balto (1995)::Animation|Children's\\n\",\n",
       " '14::Nixon (1995)::Drama\\n',\n",
       " '15::Cutthroat Island (1995)::Action|Adventure|Romance\\n',\n",
       " '16::Casino (1995)::Drama|Thriller\\n',\n",
       " '17::Sense and Sensibility (1995)::Drama|Romance\\n',\n",
       " '18::Four Rooms (1995)::Thriller\\n',\n",
       " '19::Ace Ventura: When Nature Calls (1995)::Comedy\\n',\n",
       " '20::Money Train (1995)::Action\\n',\n",
       " '21::Get Shorty (1995)::Action|Comedy|Drama\\n',\n",
       " '22::Copycat (1995)::Crime|Drama|Thriller\\n',\n",
       " '23::Assassins (1995)::Thriller\\n',\n",
       " '24::Powder (1995)::Drama|Sci-Fi\\n',\n",
       " '25::Leaving Las Vegas (1995)::Drama|Romance\\n',\n",
       " '26::Othello (1995)::Drama\\n',\n",
       " '27::Now and Then (1995)::Drama\\n',\n",
       " '28::Persuasion (1995)::Romance\\n',\n",
       " '29::City of Lost Children, The (1995)::Adventure|Sci-Fi\\n',\n",
       " '30::Shanghai Triad (Yao a yao yao dao waipo qiao) (1995)::Drama\\n',\n",
       " '31::Dangerous Minds (1995)::Drama\\n',\n",
       " '32::Twelve Monkeys (1995)::Drama|Sci-Fi\\n',\n",
       " '33::Wings of Courage (1995)::Adventure|Romance\\n',\n",
       " \"34::Babe (1995)::Children's|Comedy|Drama\\n\",\n",
       " '35::Carrington (1995)::Drama|Romance\\n',\n",
       " '36::Dead Man Walking (1995)::Drama\\n',\n",
       " '37::Across the Sea of Time (1995)::Documentary\\n',\n",
       " '38::It Takes Two (1995)::Comedy\\n',\n",
       " '39::Clueless (1995)::Comedy|Romance\\n',\n",
       " '40::Cry, the Beloved Country (1995)::Drama\\n',\n",
       " '41::Richard III (1995)::Drama|War\\n',\n",
       " '42::Dead Presidents (1995)::Action|Crime|Drama\\n',\n",
       " '43::Restoration (1995)::Drama\\n',\n",
       " '44::Mortal Kombat (1995)::Action|Adventure\\n',\n",
       " '45::To Die For (1995)::Comedy|Drama\\n',\n",
       " '46::How to Make an American Quilt (1995)::Drama|Romance\\n',\n",
       " '47::Seven (Se7en) (1995)::Crime|Thriller\\n',\n",
       " \"48::Pocahontas (1995)::Animation|Children's|Musical|Romance\\n\",\n",
       " '49::When Night Is Falling (1995)::Drama|Romance\\n',\n",
       " '50::Usual Suspects, The (1995)::Crime|Thriller\\n',\n",
       " '51::Guardian Angel (1994)::Action|Drama|Thriller\\n',\n",
       " '52::Mighty Aphrodite (1995)::Comedy\\n',\n",
       " '53::Lamerica (1994)::Drama\\n',\n",
       " \"54::Big Green, The (1995)::Children's|Comedy\\n\",\n",
       " '55::Georgia (1995)::Drama\\n',\n",
       " \"56::Kids of the Round Table (1995)::Adventure|Children's|Fantasy\\n\",\n",
       " '57::Home for the Holidays (1995)::Drama\\n',\n",
       " '58::Postino, Il (The Postman) (1994)::Drama|Romance\\n',\n",
       " '59::Confessional, The (Le Confessionnal) (1995)::Drama|Mystery\\n',\n",
       " \"60::Indian in the Cupboard, The (1995)::Adventure|Children's|Fantasy\\n\",\n",
       " '61::Eye for an Eye (1996)::Drama|Thriller\\n',\n",
       " \"62::Mr. Holland's Opus (1995)::Drama\\n\",\n",
       " \"63::Don't Be a Menace to South Central While Drinking Your Juice in the Hood (1996)::Comedy\\n\",\n",
       " '64::Two if by Sea (1996)::Comedy|Romance\\n',\n",
       " '65::Bio-Dome (1996)::Comedy\\n',\n",
       " '66::Lawnmower Man 2: Beyond Cyberspace (1996)::Sci-Fi|Thriller\\n',\n",
       " '67::Two Bits (1995)::Drama\\n',\n",
       " '68::French Twist (Gazon maudit) (1995)::Comedy|Romance\\n',\n",
       " '69::Friday (1995)::Comedy\\n',\n",
       " '70::From Dusk Till Dawn (1996)::Action|Comedy|Crime|Horror|Thriller\\n',\n",
       " '71::Fair Game (1995)::Action\\n',\n",
       " '72::Kicking and Screaming (1995)::Comedy|Drama\\n',\n",
       " '73::Misérables, Les (1995)::Drama|Musical\\n',\n",
       " '74::Bed of Roses (1996)::Drama|Romance\\n',\n",
       " '75::Big Bully (1996)::Comedy|Drama\\n',\n",
       " '76::Screamers (1995)::Sci-Fi|Thriller\\n',\n",
       " '77::Nico Icon (1995)::Documentary\\n',\n",
       " '78::Crossing Guard, The (1995)::Drama\\n',\n",
       " '79::Juror, The (1996)::Drama|Thriller\\n',\n",
       " '80::White Balloon, The (Badkonake Sefid ) (1995)::Drama\\n',\n",
       " \"81::Things to Do in Denver when You're Dead (1995)::Crime|Drama|Romance\\n\",\n",
       " \"82::Antonia's Line (Antonia) (1995)::Drama\\n\",\n",
       " '83::Once Upon a Time... When We Were Colored (1995)::Drama\\n',\n",
       " '84::Last Summer in the Hamptons (1995)::Comedy|Drama\\n',\n",
       " '85::Angels and Insects (1995)::Drama|Romance\\n',\n",
       " '86::White Squall (1996)::Adventure|Drama\\n',\n",
       " \"87::Dunston Checks In (1996)::Children's|Comedy\\n\",\n",
       " '88::Black Sheep (1996)::Comedy\\n',\n",
       " '89::Nick of Time (1995)::Action|Thriller\\n',\n",
       " '90::Journey of August King, The (1995)::Drama\\n',\n",
       " '92::Mary Reilly (1996)::Drama|Thriller\\n',\n",
       " '93::Vampire in Brooklyn (1995)::Comedy|Romance\\n',\n",
       " '94::Beautiful Girls (1996)::Drama\\n',\n",
       " '95::Broken Arrow (1996)::Action|Thriller\\n',\n",
       " '96::In the Bleak Midwinter (1995)::Comedy\\n',\n",
       " '97::Hate (Haine, La) (1995)::Drama\\n',\n",
       " '98::Shopping (1994)::Action|Thriller\\n',\n",
       " '99::Heidi Fleiss: Hollywood Madam (1995)::Documentary\\n',\n",
       " '100::City Hall (1996)::Drama|Thriller\\n',\n",
       " '101::Bottle Rocket (1996)::Comedy\\n',\n",
       " '102::Mr. Wrong (1996)::Comedy\\n',\n",
       " '103::Unforgettable (1996)::Thriller\\n',\n",
       " '104::Happy Gilmore (1996)::Comedy\\n',\n",
       " '105::Bridges of Madison County, The (1995)::Drama|Romance\\n',\n",
       " '106::Nobody Loves Me (Keiner liebt mich) (1994)::Comedy|Drama\\n',\n",
       " \"107::Muppet Treasure Island (1996)::Adventure|Children's|Comedy|Musical\\n\",\n",
       " '108::Catwalk (1995)::Documentary\\n',\n",
       " '109::Headless Body in Topless Bar (1995)::Comedy\\n',\n",
       " '110::Braveheart (1995)::Action|Drama|War\\n',\n",
       " '111::Taxi Driver (1976)::Drama|Thriller\\n',\n",
       " '112::Rumble in the Bronx (1995)::Action|Adventure|Crime\\n',\n",
       " '113::Before and After (1996)::Drama|Mystery\\n',\n",
       " \"114::Margaret's Museum (1995)::Drama\\n\",\n",
       " '115::Happiness Is in the Field (1995)::Comedy\\n',\n",
       " '116::Anne Frank Remembered (1995)::Documentary\\n',\n",
       " \"117::Young Poisoner's Handbook, The (1995)::Crime\\n\",\n",
       " '118::If Lucy Fell (1996)::Comedy|Romance\\n',\n",
       " '119::Steal Big, Steal Little (1995)::Comedy\\n',\n",
       " '120::Race the Sun (1996)::Drama\\n',\n",
       " '121::Boys of St. Vincent, The (1993)::Drama\\n',\n",
       " '122::Boomerang (1992)::Comedy|Romance\\n',\n",
       " '123::Chungking Express (1994)::Drama|Mystery|Romance\\n',\n",
       " \"124::Star Maker, The (Uomo delle stelle, L') (1995)::Drama\\n\",\n",
       " '125::Flirting With Disaster (1996)::Comedy\\n',\n",
       " \"126::NeverEnding Story III, The (1994)::Adventure|Children's|Fantasy\\n\",\n",
       " '127::Silence of the Palace, The (Saimt el Qusur) (1994)::Drama\\n',\n",
       " \"128::Jupiter's Wife (1994)::Documentary\\n\",\n",
       " '129::Pie in the Sky (1995)::Comedy|Romance\\n',\n",
       " '130::Angela (1995)::Drama\\n',\n",
       " '131::Frankie Starlight (1995)::Drama|Romance\\n',\n",
       " '132::Jade (1995)::Thriller\\n',\n",
       " '133::Nueba Yol (1995)::Comedy|Drama\\n',\n",
       " '134::Sonic Outlaws (1995)::Documentary\\n',\n",
       " '135::Down Periscope (1996)::Comedy\\n',\n",
       " '136::From the Journals of Jean Seberg (1995)::Documentary\\n',\n",
       " '137::Man of the Year (1995)::Documentary\\n',\n",
       " '138::Neon Bible, The (1995)::Drama\\n',\n",
       " '139::Target (1995)::Action|Drama\\n',\n",
       " '140::Up Close and Personal (1996)::Drama|Romance\\n',\n",
       " '141::Birdcage, The (1996)::Comedy\\n',\n",
       " '142::Shadows (Cienie) (1988)::Drama\\n',\n",
       " '143::Gospa (1995)::Drama\\n',\n",
       " '144::Brothers McMullen, The (1995)::Comedy\\n',\n",
       " '145::Bad Boys (1995)::Action\\n',\n",
       " \"146::Amazing Panda Adventure, The (1995)::Adventure|Children's\\n\",\n",
       " '147::Basketball Diaries, The (1995)::Drama\\n',\n",
       " '148::Awfully Big Adventure, An (1995)::Drama\\n',\n",
       " '149::Amateur (1994)::Crime|Drama|Thriller\\n',\n",
       " '150::Apollo 13 (1995)::Drama\\n',\n",
       " '151::Rob Roy (1995)::Drama|Romance|War\\n',\n",
       " '152::Addiction, The (1995)::Horror\\n',\n",
       " '153::Batman Forever (1995)::Action|Adventure|Comedy|Crime\\n',\n",
       " '154::Belle de jour (1967)::Drama\\n',\n",
       " '155::Beyond Rangoon (1995)::Drama|War\\n',\n",
       " '156::Blue in the Face (1995)::Comedy\\n',\n",
       " '157::Canadian Bacon (1994)::Comedy|War\\n',\n",
       " \"158::Casper (1995)::Adventure|Children's\\n\",\n",
       " '159::Clockers (1995)::Drama\\n',\n",
       " '160::Congo (1995)::Action|Adventure|Mystery|Sci-Fi\\n',\n",
       " '161::Crimson Tide (1995)::Drama|Thriller|War\\n',\n",
       " '162::Crumb (1994)::Documentary\\n',\n",
       " '163::Desperado (1995)::Action|Romance|Thriller\\n',\n",
       " '164::Devil in a Blue Dress (1995)::Crime|Film-Noir|Mystery|Thriller\\n',\n",
       " '165::Die Hard: With a Vengeance (1995)::Action|Thriller\\n',\n",
       " '166::Doom Generation, The (1995)::Comedy|Drama\\n',\n",
       " '167::Feast of July (1995)::Drama\\n',\n",
       " '168::First Knight (1995)::Action|Adventure|Drama|Romance\\n',\n",
       " \"169::Free Willy 2: The Adventure Home (1995)::Adventure|Children's|Drama\\n\",\n",
       " '170::Hackers (1995)::Action|Crime|Thriller\\n',\n",
       " '171::Jeffrey (1995)::Comedy\\n',\n",
       " '172::Johnny Mnemonic (1995)::Action|Sci-Fi|Thriller\\n',\n",
       " '173::Judge Dredd (1995)::Action|Adventure|Sci-Fi\\n',\n",
       " '174::Jury Duty (1995)::Comedy\\n',\n",
       " '175::Kids (1995)::Drama\\n',\n",
       " '176::Living in Oblivion (1995)::Comedy\\n',\n",
       " '177::Lord of Illusions (1995)::Horror\\n',\n",
       " '178::Love & Human Remains (1993)::Comedy\\n',\n",
       " '179::Mad Love (1995)::Drama|Romance\\n',\n",
       " '180::Mallrats (1995)::Comedy\\n',\n",
       " \"181::Mighty Morphin Power Rangers: The Movie (1995)::Action|Children's\\n\",\n",
       " '182::Moonlight and Valentino (1995)::Drama|Romance\\n',\n",
       " '183::Mute Witness (1994)::Thriller\\n',\n",
       " '184::Nadja (1994)::Drama\\n',\n",
       " '185::Net, The (1995)::Sci-Fi|Thriller\\n',\n",
       " '186::Nine Months (1995)::Comedy\\n',\n",
       " '187::Party Girl (1995)::Comedy\\n',\n",
       " '188::Prophecy, The (1995)::Horror\\n',\n",
       " '189::Reckless (1995)::Comedy\\n',\n",
       " '190::Safe (1995)::Thriller\\n',\n",
       " '191::Scarlet Letter, The (1995)::Drama\\n',\n",
       " '192::Show, The (1995)::Documentary\\n',\n",
       " '193::Showgirls (1995)::Drama\\n',\n",
       " '194::Smoke (1995)::Drama\\n',\n",
       " '195::Something to Talk About (1995)::Comedy|Drama|Romance\\n',\n",
       " '196::Species (1995)::Horror|Sci-Fi\\n',\n",
       " '197::Stars Fell on Henrietta, The (1995)::Drama\\n',\n",
       " '198::Strange Days (1995)::Action|Crime|Sci-Fi\\n',\n",
       " '199::Umbrellas of Cherbourg, The (Parapluies de Cherbourg, Les) (1964)::Drama|Musical\\n',\n",
       " '200::Tie That Binds, The (1995)::Thriller\\n',\n",
       " '201::Three Wishes (1995)::Drama\\n',\n",
       " '202::Total Eclipse (1995)::Drama|Romance\\n',\n",
       " '203::To Wong Foo, Thanks for Everything! Julie Newmar (1995)::Comedy\\n',\n",
       " '204::Under Siege 2: Dark Territory (1995)::Action\\n',\n",
       " '205::Unstrung Heroes (1995)::Comedy|Drama\\n',\n",
       " '206::Unzipped (1995)::Documentary\\n',\n",
       " '207::Walk in the Clouds, A (1995)::Drama|Romance\\n',\n",
       " '208::Waterworld (1995)::Action|Adventure\\n',\n",
       " \"209::White Man's Burden (1995)::Drama\\n\",\n",
       " '210::Wild Bill (1995)::Western\\n',\n",
       " '211::Browning Version, The (1994)::Drama\\n',\n",
       " '212::Bushwhacked (1995)::Comedy\\n',\n",
       " '213::Burnt By the Sun (Utomlyonnye solntsem) (1994)::Drama\\n',\n",
       " '214::Before the Rain (Pred dozhdot) (1994)::Drama\\n',\n",
       " '215::Before Sunrise (1995)::Drama|Romance\\n',\n",
       " '216::Billy Madison (1995)::Comedy\\n',\n",
       " '217::Babysitter, The (1995)::Drama|Thriller\\n',\n",
       " '218::Boys on the Side (1995)::Comedy|Drama\\n',\n",
       " '219::Cure, The (1995)::Drama\\n',\n",
       " '220::Castle Freak (1995)::Horror\\n',\n",
       " '222::Circle of Friends (1995)::Drama|Romance\\n',\n",
       " '223::Clerks (1994)::Comedy\\n',\n",
       " '224::Don Juan DeMarco (1995)::Comedy|Drama|Romance\\n',\n",
       " '225::Disclosure (1994)::Drama|Thriller\\n',\n",
       " '226::Dream Man (1995)::Thriller\\n',\n",
       " '227::Drop Zone (1994)::Action\\n',\n",
       " '228::Destiny Turns on the Radio (1995)::Comedy\\n',\n",
       " '229::Death and the Maiden (1994)::Drama|Thriller\\n',\n",
       " '230::Dolores Claiborne (1994)::Drama|Thriller\\n',\n",
       " '231::Dumb & Dumber (1994)::Comedy\\n',\n",
       " '232::Eat Drink Man Woman (1994)::Comedy|Drama\\n',\n",
       " '233::Exotica (1994)::Drama\\n',\n",
       " '234::Exit to Eden (1994)::Comedy\\n',\n",
       " '235::Ed Wood (1994)::Comedy|Drama\\n',\n",
       " '236::French Kiss (1995)::Comedy|Romance\\n',\n",
       " '237::Forget Paris (1995)::Comedy|Romance\\n',\n",
       " \"238::Far From Home: The Adventures of Yellow Dog (1995)::Adventure|Children's\\n\",\n",
       " \"239::Goofy Movie, A (1995)::Animation|Children's|Comedy|Romance\\n\",\n",
       " '240::Hideaway (1995)::Thriller\\n',\n",
       " \"241::Fluke (1995)::Children's|Drama\\n\",\n",
       " '242::Farinelli: il castrato (1994)::Drama|Musical\\n',\n",
       " '243::Gordy (1995)::Comedy\\n',\n",
       " \"244::Gumby: The Movie (1995)::Animation|Children's\\n\",\n",
       " '245::Glass Shield, The (1994)::Crime|Drama\\n',\n",
       " '246::Hoop Dreams (1994)::Documentary\\n',\n",
       " '247::Heavenly Creatures (1994)::Drama|Fantasy|Romance|Thriller\\n',\n",
       " '248::Houseguest (1994)::Comedy\\n',\n",
       " '249::Immortal Beloved (1994)::Drama|Romance\\n',\n",
       " \"250::Heavyweights (1994)::Children's|Comedy\\n\",\n",
       " '251::Hunted, The (1995)::Action\\n',\n",
       " '252::I.Q. (1994)::Comedy|Romance\\n',\n",
       " '253::Interview with the Vampire (1994)::Drama|Horror\\n',\n",
       " '254::Jefferson in Paris (1995)::Drama\\n',\n",
       " '255::Jerky Boys, The (1994)::Comedy\\n',\n",
       " '256::Junior (1994)::Comedy|Sci-Fi\\n',\n",
       " '257::Just Cause (1995)::Mystery|Thriller\\n',\n",
       " \"258::Kid in King Arthur's Court, A (1995)::Adventure|Children's|Comedy|Fantasy|Romance\\n\",\n",
       " '259::Kiss of Death (1995)::Crime|Drama|Thriller\\n',\n",
       " '260::Star Wars: Episode IV - A New Hope (1977)::Action|Adventure|Fantasy|Sci-Fi\\n',\n",
       " '261::Little Women (1994)::Drama\\n',\n",
       " \"262::Little Princess, A (1995)::Children's|Drama\\n\",\n",
       " '263::Ladybird Ladybird (1994)::Drama\\n',\n",
       " \"264::Enfer, L' (1994)::Drama\\n\",\n",
       " '265::Like Water for Chocolate (Como agua para chocolate) (1992)::Drama|Romance\\n',\n",
       " '266::Legends of the Fall (1994)::Drama|Romance|War|Western\\n',\n",
       " '267::Major Payne (1994)::Comedy\\n',\n",
       " '268::Little Odessa (1994)::Drama\\n',\n",
       " '269::My Crazy Life (Mi vida loca) (1993)::Drama\\n',\n",
       " '270::Love Affair (1994)::Drama|Romance\\n',\n",
       " '271::Losing Isaiah (1995)::Drama\\n',\n",
       " '272::Madness of King George, The (1994)::Drama\\n',\n",
       " \"273::Mary Shelley's Frankenstein (1994)::Drama|Horror\\n\",\n",
       " '274::Man of the House (1995)::Comedy\\n',\n",
       " '275::Mixed Nuts (1994)::Comedy\\n',\n",
       " '276::Milk Money (1994)::Comedy|Romance\\n',\n",
       " '277::Miracle on 34th Street (1994)::Drama\\n',\n",
       " '278::Miami Rhapsody (1995)::Comedy\\n',\n",
       " '279::My Family (1995)::Drama\\n',\n",
       " '280::Murder in the First (1995)::Drama|Thriller\\n',\n",
       " \"281::Nobody's Fool (1994)::Drama\\n\",\n",
       " '282::Nell (1994)::Drama\\n',\n",
       " '283::New Jersey Drive (1995)::Crime|Drama\\n',\n",
       " '284::New York Cop (1996)::Action|Crime\\n',\n",
       " '285::Beyond Bedlam (1993)::Drama|Horror\\n',\n",
       " '286::Nemesis 2: Nebula (1995)::Action|Sci-Fi|Thriller\\n',\n",
       " '287::Nina Takes a Lover (1994)::Comedy|Romance\\n',\n",
       " '288::Natural Born Killers (1994)::Action|Thriller\\n',\n",
       " '289::Only You (1994)::Comedy|Romance\\n',\n",
       " '290::Once Were Warriors (1994)::Crime|Drama\\n',\n",
       " '291::Poison Ivy II (1995)::Thriller\\n',\n",
       " '292::Outbreak (1995)::Action|Drama|Thriller\\n',\n",
       " '293::Professional, The (a.k.a. Leon: The Professional) (1994)::Crime|Drama|Romance|Thriller\\n',\n",
       " '294::Perez Family, The (1995)::Comedy|Romance\\n',\n",
       " \"295::Pyromaniac's Love Story, A (1995)::Comedy|Romance\\n\",\n",
       " '296::Pulp Fiction (1994)::Crime|Drama\\n',\n",
       " '297::Panther (1995)::Drama\\n',\n",
       " '298::Pushing Hands (1992)::Comedy\\n',\n",
       " '299::Priest (1994)::Drama\\n',\n",
       " '300::Quiz Show (1994)::Drama\\n',\n",
       " '301::Picture Bride (1995)::Drama|Romance\\n',\n",
       " '302::Queen Margot (La Reine Margot) (1994)::Drama|Romance\\n',\n",
       " '303::Quick and the Dead, The (1995)::Action|Adventure|Western\\n',\n",
       " '304::Roommates (1995)::Comedy|Drama\\n',\n",
       " '305::Ready to Wear (Pret-A-Porter) (1994)::Comedy\\n',\n",
       " '306::Three Colors: Red (1994)::Drama\\n',\n",
       " '307::Three Colors: Blue (1993)::Drama\\n',\n",
       " '308::Three Colors: White (1994)::Drama\\n',\n",
       " '309::Red Firecracker, Green Firecracker (1994)::Drama\\n',\n",
       " '310::Rent-a-Kid (1995)::Comedy\\n',\n",
       " '311::Relative Fear (1994)::Horror|Thriller\\n',\n",
       " '312::Stuart Saves His Family (1995)::Comedy\\n',\n",
       " \"313::Swan Princess, The (1994)::Animation|Children's\\n\",\n",
       " '314::Secret of Roan Inish, The (1994)::Drama\\n',\n",
       " '315::Specialist, The (1994)::Action\\n',\n",
       " '316::Stargate (1994)::Action|Adventure|Sci-Fi\\n',\n",
       " \"317::Santa Clause, The (1994)::Children's|Comedy|Fantasy\\n\",\n",
       " '318::Shawshank Redemption, The (1994)::Drama\\n',\n",
       " '319::Shallow Grave (1994)::Thriller\\n',\n",
       " '320::Suture (1993)::Film-Noir|Thriller\\n',\n",
       " '321::Strawberry and Chocolate (Fresa y chocolate) (1993)::Drama\\n',\n",
       " '322::Swimming with Sharks (1995)::Comedy|Drama\\n',\n",
       " '324::Sum of Us, The (1994)::Comedy\\n',\n",
       " \"325::National Lampoon's Senior Trip (1995)::Comedy\\n\",\n",
       " '326::To Live (Huozhe) (1994)::Drama\\n',\n",
       " '327::Tank Girl (1995)::Action|Comedy|Musical|Sci-Fi\\n',\n",
       " '328::Tales From the Crypt Presents: Demon Knight (1995)::Horror\\n',\n",
       " '329::Star Trek: Generations (1994)::Action|Adventure|Sci-Fi\\n',\n",
       " '330::Tales from the Hood (1995)::Comedy|Horror\\n',\n",
       " '331::Tom & Viv (1994)::Drama\\n',\n",
       " '332::Village of the Damned (1995)::Horror|Sci-Fi\\n',\n",
       " '333::Tommy Boy (1995)::Comedy\\n',\n",
       " '334::Vanya on 42nd Street (1994)::Drama\\n',\n",
       " '335::Underneath, The (1995)::Mystery|Thriller\\n',\n",
       " '336::Walking Dead, The (1995)::Drama|War\\n',\n",
       " \"337::What's Eating Gilbert Grape (1993)::Drama\\n\",\n",
       " '338::Virtuosity (1995)::Sci-Fi|Thriller\\n',\n",
       " '339::While You Were Sleeping (1995)::Comedy|Romance\\n',\n",
       " '340::War, The (1994)::Adventure|Drama\\n',\n",
       " '341::Double Happiness (1994)::Drama\\n',\n",
       " \"342::Muriel's Wedding (1994)::Comedy|Romance\\n\",\n",
       " \"343::Baby-Sitters Club, The (1995)::Children's\\n\",\n",
       " '344::Ace Ventura: Pet Detective (1994)::Comedy\\n',\n",
       " '345::Adventures of Priscilla, Queen of the Desert, The (1994)::Comedy|Drama\\n',\n",
       " '346::Backbeat (1993)::Drama|Musical\\n',\n",
       " '347::Bitter Moon (1992)::Drama\\n',\n",
       " '348::Bullets Over Broadway (1994)::Comedy\\n',\n",
       " '349::Clear and Present Danger (1994)::Action|Adventure|Thriller\\n',\n",
       " '350::Client, The (1994)::Drama|Mystery|Thriller\\n',\n",
       " '351::Corrina, Corrina (1994)::Comedy|Drama|Romance\\n',\n",
       " '352::Crooklyn (1994)::Comedy\\n',\n",
       " '353::Crow, The (1994)::Action|Romance|Thriller\\n',\n",
       " '354::Cobb (1994)::Drama\\n',\n",
       " \"355::Flintstones, The (1994)::Children's|Comedy\\n\",\n",
       " '356::Forrest Gump (1994)::Comedy|Romance|War\\n',\n",
       " '357::Four Weddings and a Funeral (1994)::Comedy|Romance\\n',\n",
       " '358::Higher Learning (1995)::Drama\\n',\n",
       " '359::I Like It Like That (1994)::Comedy|Drama|Romance\\n',\n",
       " '360::I Love Trouble (1994)::Action|Comedy\\n',\n",
       " '361::It Could Happen to You (1994)::Drama|Romance\\n',\n",
       " \"362::Jungle Book, The (1994)::Adventure|Children's|Romance\\n\",\n",
       " '363::Wonderful, Horrible Life of Leni Riefenstahl, The (Die Macht der Bilder) (1993)::Documentary\\n',\n",
       " \"364::Lion King, The (1994)::Animation|Children's|Musical\\n\",\n",
       " '365::Little Buddha (1993)::Drama\\n',\n",
       " \"366::Wes Craven's New Nightmare (1994)::Horror\\n\",\n",
       " '367::Mask, The (1994)::Comedy|Crime|Fantasy\\n',\n",
       " '368::Maverick (1994)::Action|Comedy|Western\\n',\n",
       " '369::Mrs. Parker and the Vicious Circle (1994)::Drama\\n',\n",
       " '370::Naked Gun 33 1/3: The Final Insult (1994)::Comedy\\n',\n",
       " '371::Paper, The (1994)::Comedy|Drama\\n',\n",
       " '372::Reality Bites (1994)::Comedy|Drama\\n',\n",
       " '373::Red Rock West (1992)::Thriller\\n',\n",
       " \"374::Richie Rich (1994)::Children's|Comedy\\n\",\n",
       " '375::Safe Passage (1994)::Drama\\n',\n",
       " '376::River Wild, The (1994)::Action|Thriller\\n',\n",
       " '377::Speed (1994)::Action|Romance|Thriller\\n',\n",
       " '378::Speechless (1994)::Comedy|Romance\\n',\n",
       " '379::Timecop (1994)::Action|Sci-Fi\\n',\n",
       " '380::True Lies (1994)::Action|Adventure|Comedy|Romance\\n',\n",
       " '381::When a Man Loves a Woman (1994)::Drama\\n',\n",
       " '382::Wolf (1994)::Drama|Horror\\n',\n",
       " '383::Wyatt Earp (1994)::Western\\n',\n",
       " '384::Bad Company (1995)::Action\\n',\n",
       " '385::Man of No Importance, A (1994)::Drama\\n',\n",
       " '386::S.F.W. (1994)::Drama\\n',\n",
       " '387::Low Down Dirty Shame, A (1994)::Action|Comedy\\n',\n",
       " '388::Boys Life (1995)::Drama\\n',\n",
       " '389::Colonel Chabert, Le (1994)::Drama|Romance|War\\n',\n",
       " '390::Faster Pussycat! Kill! Kill! (1965)::Action|Comedy|Drama\\n',\n",
       " \"391::Jason's Lyric (1994)::Crime|Drama\\n\",\n",
       " \"392::Secret Adventures of Tom Thumb, The (1993)::Adventure|Children's\\n\",\n",
       " '393::Street Fighter (1994)::Action\\n',\n",
       " '394::Coldblooded (1995)::Action\\n',\n",
       " '395::Desert Winds (1995)::Drama\\n',\n",
       " '396::Fall Time (1995)::Drama\\n',\n",
       " '397::Fear, The (1995)::Horror\\n',\n",
       " '398::Frank and Ollie (1995)::Documentary\\n',\n",
       " '399::Girl in the Cadillac (1995)::Drama\\n',\n",
       " '400::Homage (1995)::Drama\\n',\n",
       " '401::Mirage (1995)::Action|Thriller\\n',\n",
       " '402::Open Season (1996)::Comedy\\n',\n",
       " '403::Two Crimes (1995)::Comedy|Crime|Drama\\n',\n",
       " '404::Brother Minister: The Assassination of Malcolm X (1994)::Documentary\\n',\n",
       " '405::Highlander III: The Sorcerer (1994)::Action|Sci-Fi\\n',\n",
       " '406::Federal Hill (1994)::Drama\\n',\n",
       " '407::In the Mouth of Madness (1995)::Horror|Thriller\\n',\n",
       " '408::8 Seconds (1994)::Drama\\n',\n",
       " '409::Above the Rim (1994)::Drama\\n',\n",
       " '410::Addams Family Values (1993)::Comedy\\n',\n",
       " '411::You So Crazy (1994)::Comedy\\n',\n",
       " '412::Age of Innocence, The (1993)::Drama\\n',\n",
       " '413::Airheads (1994)::Comedy\\n',\n",
       " '414::Air Up There, The (1994)::Comedy\\n',\n",
       " '415::Another Stakeout (1993)::Comedy|Thriller\\n',\n",
       " '416::Bad Girls (1994)::Western\\n',\n",
       " '417::Barcelona (1994)::Comedy|Romance\\n',\n",
       " '418::Being Human (1993)::Drama\\n',\n",
       " '419::Beverly Hillbillies, The (1993)::Comedy\\n',\n",
       " '420::Beverly Hills Cop III (1994)::Action|Comedy\\n',\n",
       " \"421::Black Beauty (1994)::Adventure|Children's\\n\",\n",
       " '422::Blink (1994)::Thriller\\n',\n",
       " '423::Blown Away (1994)::Action|Thriller\\n',\n",
       " '424::Blue Chips (1994)::Drama\\n',\n",
       " '425::Blue Sky (1994)::Drama|Romance\\n',\n",
       " '426::Body Snatchers (1993)::Horror|Sci-Fi|Thriller\\n',\n",
       " '427::Boxing Helena (1993)::Mystery|Romance|Thriller\\n',\n",
       " '428::Bronx Tale, A (1993)::Drama\\n',\n",
       " '429::Cabin Boy (1994)::Comedy\\n',\n",
       " '430::Calendar Girl (1993)::Drama\\n',\n",
       " \"431::Carlito's Way (1993)::Crime|Drama\\n\",\n",
       " \"432::City Slickers II: The Legend of Curly's Gold (1994)::Comedy|Western\\n\",\n",
       " '433::Clean Slate (1994)::Comedy\\n',\n",
       " '434::Cliffhanger (1993)::Action|Adventure|Crime\\n',\n",
       " '435::Coneheads (1993)::Comedy|Sci-Fi\\n',\n",
       " '436::Color of Night (1994)::Drama|Thriller\\n',\n",
       " '437::Cops and Robbersons (1994)::Comedy\\n',\n",
       " '438::Cowboy Way, The (1994)::Action|Comedy\\n',\n",
       " '439::Dangerous Game (1993)::Drama\\n',\n",
       " '440::Dave (1993)::Comedy|Romance\\n',\n",
       " '441::Dazed and Confused (1993)::Comedy\\n',\n",
       " '442::Demolition Man (1993)::Action|Sci-Fi\\n',\n",
       " '443::Endless Summer 2, The (1994)::Documentary\\n',\n",
       " '444::Even Cowgirls Get the Blues (1993)::Comedy|Romance\\n',\n",
       " '445::Fatal Instinct (1993)::Comedy\\n',\n",
       " '446::Farewell My Concubine (1993)::Drama|Romance\\n',\n",
       " '447::Favor, The (1994)::Comedy|Romance\\n',\n",
       " '448::Fearless (1993)::Drama\\n',\n",
       " '449::Fear of a Black Hat (1993)::Comedy\\n',\n",
       " '450::With Honors (1994)::Comedy|Drama\\n',\n",
       " '451::Flesh and Bone (1993)::Drama|Mystery|Romance\\n',\n",
       " \"452::Widows' Peak (1994)::Drama\\n\",\n",
       " '453::For Love or Money (1993)::Comedy\\n',\n",
       " '454::Firm, The (1993)::Drama|Thriller\\n',\n",
       " \"455::Free Willy (1993)::Adventure|Children's|Drama\\n\",\n",
       " '456::Fresh (1994)::Drama\\n',\n",
       " '457::Fugitive, The (1993)::Action|Thriller\\n',\n",
       " '458::Geronimo: An American Legend (1993)::Drama|Western\\n',\n",
       " '459::Getaway, The (1994)::Action\\n',\n",
       " '460::Getting Even with Dad (1994)::Comedy\\n',\n",
       " '461::Go Fish (1994)::Drama|Romance\\n',\n",
       " '462::Good Man in Africa, A (1994)::Action|Adventure\\n',\n",
       " '463::Guilty as Sin (1993)::Crime|Drama|Thriller\\n',\n",
       " '464::Hard Target (1993)::Action|Adventure|Crime|Thriller\\n',\n",
       " '465::Heaven & Earth (1993)::Action|Drama|War\\n',\n",
       " '466::Hot Shots! Part Deux (1993)::Action|Comedy|War\\n',\n",
       " '467::Live Nude Girls (1995)::Comedy\\n',\n",
       " '468::Englishman Who Went Up a Hill, But Came Down a Mountain, The (1995)::Comedy|Romance\\n',\n",
       " '469::House of the Spirits, The (1993)::Drama|Romance\\n',\n",
       " '470::House Party 3 (1994)::Comedy\\n',\n",
       " '471::Hudsucker Proxy, The (1994)::Comedy|Romance\\n',\n",
       " \"472::I'll Do Anything (1994)::Comedy|Drama\\n\",\n",
       " '473::In the Army Now (1994)::Comedy|War\\n',\n",
       " '474::In the Line of Fire (1993)::Action|Thriller\\n',\n",
       " '475::In the Name of the Father (1993)::Drama\\n',\n",
       " '476::Inkwell, The (1994)::Comedy|Drama\\n',\n",
       " \"477::What's Love Got to Do with It? (1993)::Drama\\n\",\n",
       " '478::Jimmy Hollywood (1994)::Comedy\\n',\n",
       " '479::Judgment Night (1993)::Action\\n',\n",
       " '480::Jurassic Park (1993)::Action|Adventure|Sci-Fi\\n',\n",
       " '481::Kalifornia (1993)::Drama|Thriller\\n',\n",
       " '482::Killing Zoe (1994)::Thriller\\n',\n",
       " '483::King of the Hill (1993)::Drama\\n',\n",
       " \"484::Lassie (1994)::Adventure|Children's\\n\",\n",
       " '485::Last Action Hero (1993)::Action|Comedy\\n',\n",
       " '486::Life with Mikey (1993)::Comedy\\n',\n",
       " '487::Lightning Jack (1994)::Comedy|Western\\n',\n",
       " '488::M. Butterfly (1993)::Drama\\n',\n",
       " '489::Made in America (1993)::Comedy\\n',\n",
       " '490::Malice (1993)::Thriller\\n',\n",
       " '491::Man Without a Face, The (1993)::Drama\\n',\n",
       " '492::Manhattan Murder Mystery (1993)::Comedy|Mystery\\n',\n",
       " '493::Menace II Society (1993)::Action|Crime|Drama\\n',\n",
       " '494::Executive Decision (1996)::Action|Thriller\\n',\n",
       " '495::In the Realm of the Senses (Ai no corrida) (1976)::Drama\\n',\n",
       " '496::What Happened Was... (1994)::Comedy|Drama|Romance\\n',\n",
       " '497::Much Ado About Nothing (1993)::Comedy|Romance\\n',\n",
       " '498::Mr. Jones (1993)::Drama|Romance\\n',\n",
       " '499::Mr. Wonderful (1993)::Comedy|Romance\\n',\n",
       " '500::Mrs. Doubtfire (1993)::Comedy\\n',\n",
       " '501::Naked (1993)::Drama\\n',\n",
       " \"502::Next Karate Kid, The (1994)::Action|Children's\\n\",\n",
       " '503::New Age, The (1994)::Drama\\n',\n",
       " '504::No Escape (1994)::Action|Sci-Fi\\n',\n",
       " '505::North (1994)::Comedy\\n',\n",
       " '506::Orlando (1993)::Drama\\n',\n",
       " '507::Perfect World, A (1993)::Action|Drama\\n',\n",
       " '508::Philadelphia (1993)::Drama\\n',\n",
       " '509::Piano, The (1993)::Drama|Romance\\n',\n",
       " '510::Poetic Justice (1993)::Drama\\n',\n",
       " '511::Program, The (1993)::Action|Drama\\n',\n",
       " \"512::Robert A. Heinlein's The Puppet Masters (1994)::Horror|Sci-Fi\\n\",\n",
       " '513::Radioland Murders (1994)::Comedy|Mystery|Romance\\n',\n",
       " '514::Ref, The (1994)::Comedy\\n',\n",
       " '515::Remains of the Day, The (1993)::Drama\\n',\n",
       " '516::Renaissance Man (1994)::Comedy|Drama|War\\n',\n",
       " '517::Rising Sun (1993)::Action|Drama|Mystery\\n',\n",
       " '518::Road to Wellville, The (1994)::Comedy\\n',\n",
       " '519::Robocop 3 (1993)::Sci-Fi|Thriller\\n',\n",
       " '520::Robin Hood: Men in Tights (1993)::Comedy\\n',\n",
       " '521::Romeo Is Bleeding (1993)::Crime|Thriller\\n',\n",
       " '522::Romper Stomper (1992)::Action|Drama\\n',\n",
       " '523::Ruby in Paradise (1993)::Drama\\n',\n",
       " '524::Rudy (1993)::Drama\\n',\n",
       " '525::Saint of Fort Washington, The (1993)::Drama\\n',\n",
       " '526::Savage Nights (Nuits fauves, Les) (1992)::Drama\\n',\n",
       " \"527::Schindler's List (1993)::Drama|War\\n\",\n",
       " '528::Scout, The (1994)::Drama\\n',\n",
       " '529::Searching for Bobby Fischer (1993)::Drama\\n',\n",
       " '530::Second Best (1994)::Drama\\n',\n",
       " \"531::Secret Garden, The (1993)::Children's|Drama\\n\",\n",
       " '532::Serial Mom (1994)::Comedy|Crime|Horror\\n',\n",
       " '533::Shadow, The (1994)::Action\\n',\n",
       " '534::Shadowlands (1993)::Drama|Romance\\n',\n",
       " '535::Short Cuts (1993)::Drama\\n',\n",
       " '536::Simple Twist of Fate, A (1994)::Drama\\n',\n",
       " '537::Sirens (1994)::Comedy|Drama\\n',\n",
       " '538::Six Degrees of Separation (1993)::Drama\\n',\n",
       " '539::Sleepless in Seattle (1993)::Comedy|Romance\\n',\n",
       " '540::Sliver (1993)::Thriller\\n',\n",
       " '541::Blade Runner (1982)::Film-Noir|Sci-Fi\\n',\n",
       " '542::Son in Law (1993)::Comedy\\n',\n",
       " '543::So I Married an Axe Murderer (1993)::Comedy|Romance|Thriller\\n',\n",
       " '544::Striking Distance (1993)::Action\\n',\n",
       " '545::Harlem (1993)::Drama\\n',\n",
       " \"546::Super Mario Bros. (1993)::Action|Adventure|Children's|Sci-Fi\\n\",\n",
       " '547::Surviving the Game (1994)::Action|Adventure|Thriller\\n',\n",
       " '548::Terminal Velocity (1994)::Action\\n',\n",
       " '549::Thirty-Two Short Films About Glenn Gould (1993)::Documentary\\n',\n",
       " '550::Threesome (1994)::Comedy|Romance\\n',\n",
       " \"551::Nightmare Before Christmas, The (1993)::Children's|Comedy|Musical\\n\",\n",
       " '552::Three Musketeers, The (1993)::Action|Adventure|Comedy\\n',\n",
       " '553::Tombstone (1993)::Western\\n',\n",
       " '554::Trial by Jury (1994)::Thriller\\n',\n",
       " '555::True Romance (1993)::Action|Crime|Romance\\n',\n",
       " '556::War Room, The (1993)::Documentary\\n',\n",
       " '557::Mamma Roma (1962)::Drama\\n',\n",
       " \"558::Pagemaster, The (1994)::Action|Adventure|Animation|Children's|Fantasy\\n\",\n",
       " '559::Paris, France (1993)::Comedy\\n',\n",
       " '560::Beans of Egypt, Maine, The (1994)::Drama\\n',\n",
       " '561::Killer (Bulletproof Heart) (1994)::Thriller\\n',\n",
       " '562::Welcome to the Dollhouse (1995)::Comedy|Drama\\n',\n",
       " '563::Germinal (1993)::Drama\\n',\n",
       " '564::Chasers (1994)::Comedy\\n',\n",
       " '565::Cronos (1992)::Horror\\n',\n",
       " '566::Naked in New York (1994)::Comedy|Romance\\n',\n",
       " '567::Kika (1993)::Drama\\n',\n",
       " '568::Bhaji on the Beach (1993)::Comedy|Drama\\n',\n",
       " \"569::Little Big League (1994)::Children's|Comedy\\n\",\n",
       " '570::Slingshot, The (Kådisbellan ) (1993)::Comedy|Drama\\n',\n",
       " '571::Wedding Gift, The (1994)::Drama\\n',\n",
       " '572::Foreign Student (1994)::Drama\\n',\n",
       " '573::Ciao, Professore! (Io speriamo che me la cavo ) (1993)::Drama\\n',\n",
       " '574::Spanking the Monkey (1994)::Comedy|Drama\\n',\n",
       " \"575::Little Rascals, The (1994)::Children's|Comedy\\n\",\n",
       " '576::Fausto (1993)::Comedy\\n',\n",
       " \"577::Andre (1994)::Adventure|Children's\\n\",\n",
       " '578::Hour of the Pig, The (1993)::Drama|Mystery\\n',\n",
       " '579::Scorta, La (1993)::Thriller\\n',\n",
       " '580::Princess Caraboo (1994)::Drama\\n',\n",
       " '581::Celluloid Closet, The (1995)::Documentary\\n',\n",
       " '582::Metisse (Café au Lait) (1993)::Comedy\\n',\n",
       " '583::Dear Diary (Caro Diario) (1994)::Comedy|Drama\\n',\n",
       " \"584::I Don't Want to Talk About It (De eso no se habla) (1993)::Drama\\n\",\n",
       " '585::Brady Bunch Movie, The (1995)::Comedy\\n',\n",
       " \"586::Home Alone (1990)::Children's|Comedy\\n\",\n",
       " '587::Ghost (1990)::Comedy|Romance|Thriller\\n',\n",
       " \"588::Aladdin (1992)::Animation|Children's|Comedy|Musical\\n\",\n",
       " '589::Terminator 2: Judgment Day (1991)::Action|Sci-Fi|Thriller\\n',\n",
       " '590::Dances with Wolves (1990)::Adventure|Drama|Western\\n',\n",
       " '591::Tough and Deadly (1995)::Action|Drama|Thriller\\n',\n",
       " '592::Batman (1989)::Action|Adventure|Crime|Drama\\n',\n",
       " '593::Silence of the Lambs, The (1991)::Drama|Thriller\\n',\n",
       " \"594::Snow White and the Seven Dwarfs (1937)::Animation|Children's|Musical\\n\",\n",
       " \"595::Beauty and the Beast (1991)::Animation|Children's|Musical\\n\",\n",
       " \"596::Pinocchio (1940)::Animation|Children's\\n\",\n",
       " '597::Pretty Woman (1990)::Comedy|Romance\\n',\n",
       " '598::Window to Paris (1994)::Comedy\\n',\n",
       " '599::Wild Bunch, The (1969)::Western\\n',\n",
       " '600::Love and a .45 (1994)::Thriller\\n',\n",
       " \"601::Wooden Man's Bride, The (Wu Kui) (1994)::Drama\\n\",\n",
       " '602::Great Day in Harlem, A (1994)::Documentary\\n',\n",
       " '603::Bye Bye, Love (1995)::Comedy\\n',\n",
       " '604::Criminals (1996)::Documentary\\n',\n",
       " '605::One Fine Day (1996)::Drama|Romance\\n',\n",
       " '606::Candyman: Farewell to the Flesh (1995)::Horror\\n',\n",
       " '607::Century (1993)::Drama\\n',\n",
       " '608::Fargo (1996)::Crime|Drama|Thriller\\n',\n",
       " \"609::Homeward Bound II: Lost in San Francisco (1996)::Adventure|Children's\\n\",\n",
       " '610::Heavy Metal (1981)::Action|Adventure|Animation|Horror|Sci-Fi\\n',\n",
       " '611::Hellraiser: Bloodline (1996)::Action|Horror|Sci-Fi\\n',\n",
       " '612::Pallbearer, The (1996)::Comedy\\n',\n",
       " '613::Jane Eyre (1996)::Drama|Romance\\n',\n",
       " '614::Loaded (1994)::Drama|Thriller\\n',\n",
       " '615::Bread and Chocolate (Pane e cioccolata) (1973)::Drama\\n',\n",
       " \"616::Aristocats, The (1970)::Animation|Children's\\n\",\n",
       " '617::Flower of My Secret, The (La Flor de Mi Secreto) (1995)::Drama\\n',\n",
       " '618::Two Much (1996)::Comedy|Romance\\n',\n",
       " '619::Ed (1996)::Comedy\\n',\n",
       " '620::Scream of Stone (Schrei aus Stein) (1991)::Drama\\n',\n",
       " '621::My Favorite Season (1993)::Drama\\n',\n",
       " '623::Modern Affair, A (1995)::Romance\\n',\n",
       " '624::Condition Red (1995)::Action|Drama|Thriller\\n',\n",
       " '625::Asfour Stah (1990)::Drama\\n',\n",
       " '626::Thin Line Between Love and Hate, A (1996)::Comedy\\n',\n",
       " '627::Last Supper, The (1995)::Drama|Thriller\\n',\n",
       " '628::Primal Fear (1996)::Drama|Thriller\\n',\n",
       " '629::Rude (1995)::Drama\\n',\n",
       " '630::Carried Away (1996)::Drama|Romance\\n',\n",
       " \"631::All Dogs Go to Heaven 2 (1996)::Animation|Children's|Musical\\n\",\n",
       " '632::Land and Freedom (Tierra y libertad) (1995)::War\\n',\n",
       " '633::Denise Calls Up (1995)::Comedy\\n',\n",
       " '634::Theodore Rex (1995)::Comedy\\n',\n",
       " '635::Family Thing, A (1996)::Comedy|Drama\\n',\n",
       " '636::Frisk (1995)::Drama\\n',\n",
       " '637::Sgt. Bilko (1996)::Comedy\\n',\n",
       " '638::Jack and Sarah (1995)::Romance\\n',\n",
       " '639::Girl 6 (1996)::Comedy\\n',\n",
       " '640::Diabolique (1996)::Drama|Thriller\\n',\n",
       " '641::Little Indian, Big City (Un indien dans la ville) (1994)::Comedy\\n',\n",
       " '642::Roula (1995)::Drama\\n',\n",
       " '643::Peanuts - Die Bank zahlt alles (1996)::Comedy\\n',\n",
       " '644::Happy Weekend (1996)::Comedy\\n',\n",
       " '645::Nelly & Monsieur Arnaud (1995)::Drama\\n',\n",
       " '647::Courage Under Fire (1996)::Drama|War\\n',\n",
       " '648::Mission: Impossible (1996)::Action|Adventure|Mystery\\n',\n",
       " '649::Cold Fever (Á köldum klaka) (1994)::Comedy|Drama\\n',\n",
       " '650::Moll Flanders (1996)::Drama\\n',\n",
       " '651::Superweib, Das (1996)::Comedy\\n',\n",
       " '652::301, 302 (1995)::Mystery\\n',\n",
       " '653::Dragonheart (1996)::Action|Adventure|Fantasy\\n',\n",
       " '654::Und keiner weint mir nach (1996)::Drama|Romance\\n',\n",
       " '655::Mutters Courage (1995)::Comedy\\n',\n",
       " '656::Eddie (1996)::Comedy\\n',\n",
       " '657::Yankee Zulu (1994)::Comedy|Drama\\n',\n",
       " \"658::Billy's Holiday (1995)::Drama\\n\",\n",
       " '659::Purple Noon (1960)::Crime|Thriller\\n',\n",
       " '660::August (1996)::Drama\\n',\n",
       " \"661::James and the Giant Peach (1996)::Animation|Children's|Musical\\n\",\n",
       " '662::Fear (1996)::Thriller\\n',\n",
       " '663::Kids in the Hall: Brain Candy (1996)::Comedy\\n',\n",
       " '664::Faithful (1996)::Comedy\\n',\n",
       " '665::Underground (1995)::War\\n',\n",
       " '666::All Things Fair (1996)::Drama\\n',\n",
       " '667::Bloodsport 2 (1995)::Action\\n',\n",
       " '668::Pather Panchali (1955)::Drama\\n',\n",
       " '669::Aparajito (1956)::Drama\\n',\n",
       " '670::World of Apu, The (Apur Sansar) (1959)::Drama\\n',\n",
       " '671::Mystery Science Theater 3000: The Movie (1996)::Comedy|Sci-Fi\\n',\n",
       " '672::Tarantella (1995)::Drama\\n',\n",
       " \"673::Space Jam (1996)::Adventure|Animation|Children's|Comedy|Fantasy\\n\",\n",
       " '674::Barbarella (1968)::Adventure|Sci-Fi\\n',\n",
       " '675::Hostile Intentions (1994)::Action|Drama|Thriller\\n',\n",
       " '676::They Bite (1996)::Drama\\n',\n",
       " '678::Some Folks Call It a Sling Blade (1993)::Drama|Thriller\\n',\n",
       " '679::Run of the Country, The (1995)::Drama\\n',\n",
       " '680::Alphaville (1965)::Sci-Fi\\n',\n",
       " '681::Clean Slate (Coup de Torchon) (1981)::Crime\\n',\n",
       " '682::Tigrero: A Film That Was Never Made (1994)::Documentary|Drama\\n',\n",
       " \"683::Eye of Vichy, The (Oeil de Vichy, L') (1993)::Documentary\\n\",\n",
       " '684::Windows (1980)::Drama\\n',\n",
       " \"685::It's My Party (1995)::Drama\\n\",\n",
       " '687::Country Life (1994)::Drama|Romance\\n',\n",
       " '688::Operation Dumbo Drop (1995)::Action|Adventure|Comedy|War\\n',\n",
       " '690::Promise, The (Versprechen, Das) (1994)::Romance\\n',\n",
       " '691::Mrs. Winterbourne (1996)::Comedy|Romance\\n',\n",
       " '692::Solo (1996)::Action|Sci-Fi|Thriller\\n',\n",
       " '693::Under the Domin Tree (Etz Hadomim Tafus) (1994)::Drama\\n',\n",
       " '694::Substitute, The (1996)::Action\\n',\n",
       " '695::True Crime (1995)::Mystery|Thriller\\n',\n",
       " '696::Butterfly Kiss (1995)::Thriller\\n',\n",
       " '697::Feeling Minnesota (1996)::Drama|Romance\\n',\n",
       " '698::Delta of Venus (1994)::Drama\\n',\n",
       " '699::To Cross the Rubicon (1991)::Drama\\n',\n",
       " '700::Angus (1995)::Comedy\\n',\n",
       " '701::Daens (1992)::Drama\\n',\n",
       " '702::Faces (1968)::Drama\\n',\n",
       " '703::Boys (1996)::Drama\\n',\n",
       " '704::Quest, The (1996)::Action|Adventure\\n',\n",
       " '705::Cosi (1996)::Comedy\\n',\n",
       " '706::Sunset Park (1996)::Drama\\n',\n",
       " '707::Mulholland Falls (1996)::Crime|Film-Noir|Thriller\\n',\n",
       " '708::Truth About Cats & Dogs, The (1996)::Comedy|Romance\\n',\n",
       " \"709::Oliver & Company (1988)::Animation|Children's\\n\",\n",
       " '710::Celtic Pride (1996)::Comedy\\n',\n",
       " \"711::Flipper (1996)::Adventure|Children's\\n\",\n",
       " '712::Captives (1994)::Drama\\n',\n",
       " '713::Of Love and Shadows (1994)::Drama\\n',\n",
       " '714::Dead Man (1995)::Western\\n',\n",
       " '715::Horseman on the Roof, The (Hussard sur le toit, Le) (1995)::Drama\\n',\n",
       " '716::Switchblade Sisters (1975)::Crime\\n',\n",
       " '717::Mouth to Mouth (Boca a boca) (1995)::Comedy\\n',\n",
       " '718::Visitors, The (Les Visiteurs) (1993)::Comedy|Sci-Fi\\n',\n",
       " '719::Multiplicity (1996)::Comedy\\n',\n",
       " '720::Wallace & Gromit: The Best of Aardman Animation (1996)::Animation\\n',\n",
       " '721::Halfmoon (Paul Bowles - Halbmond) (1995)::Drama\\n',\n",
       " '722::Haunted World of Edward D. Wood Jr., The (1995)::Documentary\\n',\n",
       " '723::Two Friends (1986)::Drama\\n',\n",
       " '724::Craft, The (1996)::Drama|Horror\\n',\n",
       " '725::Great White Hype, The (1996)::Comedy\\n',\n",
       " '726::Last Dance (1996)::Drama\\n',\n",
       " '727::War Stories (1995)::Documentary\\n',\n",
       " '728::Cold Comfort Farm (1995)::Comedy\\n',\n",
       " '729::Institute Benjamenta, or This Dream People Call Human Life (1995)::Drama\\n',\n",
       " '730::Low Life, The (1994)::Drama\\n',\n",
       " \"731::Heaven's Prisoners (1996)::Mystery|Thriller\\n\",\n",
       " '732::Original Gangstas (1996)::Crime\\n',\n",
       " '733::Rock, The (1996)::Action|Adventure|Thriller\\n',\n",
       " '734::Getting Away With Murder (1996)::Comedy\\n',\n",
       " '735::Cemetery Man (Dellamorte Dellamore) (1994)::Comedy|Horror\\n',\n",
       " '736::Twister (1996)::Action|Adventure|Romance|Thriller\\n',\n",
       " '737::Barb Wire (1996)::Action|Sci-Fi\\n',\n",
       " '738::Garcu, Le (1995)::Drama\\n',\n",
       " '739::Honigmond (1996)::Comedy\\n',\n",
       " '741::Ghost in the Shell (Kokaku kidotai) (1995)::Animation|Sci-Fi\\n',\n",
       " '742::Thinner (1996)::Horror|Thriller\\n',\n",
       " '743::Spy Hard (1996)::Comedy\\n',\n",
       " '744::Brothers in Trouble (1995)::Drama\\n',\n",
       " '745::Close Shave, A (1995)::Animation|Comedy|Thriller\\n',\n",
       " '746::Force of Evil (1948)::Film-Noir\\n',\n",
       " '747::Stupids, The (1996)::Comedy\\n',\n",
       " '748::Arrival, The (1996)::Action|Sci-Fi|Thriller\\n',\n",
       " '749::Man from Down Under, The (1943)::Drama\\n',\n",
       " '750::Dr. Strangelove or: How I Learned to Stop Worrying and Love the Bomb (1963)::Sci-Fi|War\\n',\n",
       " '751::Careful (1992)::Comedy\\n',\n",
       " '752::Vermont Is For Lovers (1992)::Comedy|Romance\\n',\n",
       " '753::Month by the Lake, A (1995)::Comedy|Drama\\n',\n",
       " \"754::Gold Diggers: The Secret of Bear Mountain (1995)::Adventure|Children's\\n\",\n",
       " \"755::Kim (1950)::Children's|Drama\\n\",\n",
       " '756::Carmen Miranda: Bananas Is My Business (1994)::Documentary\\n',\n",
       " '757::Ashes of Time (1994)::Drama\\n',\n",
       " '758::Jar, The (Khomreh) (1992)::Drama\\n',\n",
       " '759::Maya Lin: A Strong Clear Vision (1994)::Documentary\\n',\n",
       " '760::Stalingrad (1993)::War\\n',\n",
       " '761::Phantom, The (1996)::Adventure\\n',\n",
       " '762::Striptease (1996)::Comedy|Crime\\n',\n",
       " '763::Last of the High Kings, The (a.k.a. Summer Fling) (1996)::Drama\\n',\n",
       " '764::Heavy (1995)::Drama|Romance\\n',\n",
       " '765::Jack (1996)::Comedy|Drama\\n',\n",
       " '766::I Shot Andy Warhol (1996)::Drama\\n',\n",
       " '767::Grass Harp, The (1995)::Drama\\n',\n",
       " \"768::Someone Else's America (1995)::Drama\\n\",\n",
       " '769::Marlene Dietrich: Shadow and Light (1996)::Documentary\\n',\n",
       " '770::Costa Brava (1946)::Drama\\n',\n",
       " '771::Vie est belle, La (Life is Rosey) (1987)::Comedy|Drama\\n',\n",
       " '772::Quartier Mozart (1992)::Comedy\\n',\n",
       " '773::Touki Bouki (Journey of the Hyena) (1973)::Drama\\n',\n",
       " \"774::Wend Kuuni (God's Gift) (1982)::Drama\\n\",\n",
       " '775::Spirits of the Dead (Tre Passi nel Delirio) (1968)::Horror\\n',\n",
       " '776::Babyfever (1994)::Comedy|Drama\\n',\n",
       " \"777::Pharaoh's Army (1995)::War\\n\",\n",
       " '778::Trainspotting (1996)::Drama\\n',\n",
       " \"779::'Til There Was You (1997)::Drama|Romance\\n\",\n",
       " '780::Independence Day (ID4) (1996)::Action|Sci-Fi|War\\n',\n",
       " '781::Stealing Beauty (1996)::Drama\\n',\n",
       " '782::Fan, The (1996)::Thriller\\n',\n",
       " \"783::Hunchback of Notre Dame, The (1996)::Animation|Children's|Musical\\n\",\n",
       " '784::Cable Guy, The (1996)::Comedy\\n',\n",
       " '785::Kingpin (1996)::Comedy\\n',\n",
       " '786::Eraser (1996)::Action|Thriller\\n',\n",
       " '787::Gate of Heavenly Peace, The (1995)::Documentary\\n',\n",
       " '788::Nutty Professor, The (1996)::Comedy|Fantasy|Romance|Sci-Fi\\n',\n",
       " '789::I, Worst of All (Yo, la peor de todas) (1990)::Drama\\n',\n",
       " '790::An Unforgettable Summer (1994)::Drama\\n',\n",
       " '791::Last Klezmer: Leopold Kozlowski, His Life and Music, The (1995)::Documentary\\n',\n",
       " '792::Hungarian Fairy Tale, A (1987)::Fantasy\\n',\n",
       " \"793::My Life and Times With Antonin Artaud (En compagnie d'Antonin Artaud) (1993)::Drama\\n\",\n",
       " '794::Midnight Dancers (Sibak) (1994)::Comedy|Drama\\n',\n",
       " '795::Somebody to Love (1994)::Drama\\n',\n",
       " '796::Very Natural Thing, A (1974)::Drama\\n',\n",
       " '797::Old Lady Who Walked in the Sea, The (Vieille qui marchait dans la mer, La) (1991)::Comedy\\n',\n",
       " '798::Daylight (1996)::Action|Adventure|Thriller\\n',\n",
       " '799::Frighteners, The (1996)::Comedy|Horror\\n',\n",
       " '800::Lone Star (1996)::Drama|Mystery\\n',\n",
       " \"801::Harriet the Spy (1996)::Children's|Comedy\\n\",\n",
       " '802::Phenomenon (1996)::Drama|Romance\\n',\n",
       " '803::Walking and Talking (1996)::Romance\\n',\n",
       " \"804::She's the One (1996)::Comedy|Romance\\n\",\n",
       " '805::Time to Kill, A (1996)::Drama\\n',\n",
       " '806::American Buffalo (1996)::Drama\\n',\n",
       " '807::Rendezvous in Paris (Rendez-vous de Paris, Les) (1995)::Comedy|Romance\\n',\n",
       " \"808::Alaska (1996)::Adventure|Children's\\n\",\n",
       " '809::Fled (1996)::Action|Adventure\\n',\n",
       " \"810::Kazaam (1996)::Children's|Comedy|Fantasy\\n\",\n",
       " '811::Bewegte Mann, Der (1994)::Comedy\\n',\n",
       " '812::Magic Hunter (1994)::Drama\\n',\n",
       " '813::Larger Than Life (1996)::Comedy\\n',\n",
       " '814::Boy Called Hate, A (1995)::Drama\\n',\n",
       " '815::Power 98 (1995)::Action|Mystery|Thriller\\n',\n",
       " '816::Two Deaths (1995)::Drama\\n',\n",
       " '818::Very Brady Sequel, A (1996)::Comedy\\n',\n",
       " '819::Stefano Quantestorie (1993)::Comedy|Drama\\n',\n",
       " '820::Death in the Garden (Mort en ce jardin, La) (1956)::Drama\\n',\n",
       " '821::Crude Oasis, The (1995)::Romance\\n',\n",
       " '822::Hedd Wyn (1992)::Drama\\n',\n",
       " '823::Collectionneuse, La (1967)::Drama\\n',\n",
       " '824::Kaspar Hauser (1993)::Drama\\n',\n",
       " '825::Echte Kerle (1996)::Comedy|Romance\\n',\n",
       " '826::Diebinnen (1995)::Drama\\n',\n",
       " '827::Convent, The (Convento, O) (1995)::Drama\\n',\n",
       " \"828::Adventures of Pinocchio, The (1996)::Adventure|Children's\\n\",\n",
       " \"829::Joe's Apartment (1996)::Comedy|Musical\\n\",\n",
       " '830::First Wives Club, The (1996)::Comedy\\n',\n",
       " '831::Stonewall (1995)::Drama\\n',\n",
       " '832::Ransom (1996)::Drama|Thriller\\n',\n",
       " '833::High School High (1996)::Comedy\\n',\n",
       " '834::Phat Beach (1996)::Comedy\\n',\n",
       " '835::Foxfire (1996)::Drama\\n',\n",
       " '836::Chain Reaction (1996)::Action|Adventure|Thriller\\n',\n",
       " \"837::Matilda (1996)::Children's|Comedy\\n\",\n",
       " '838::Emma (1996)::Comedy|Drama|Romance\\n',\n",
       " '839::Crow: City of Angels, The (1996)::Action|Thriller\\n',\n",
       " '840::House Arrest (1996)::Comedy\\n',\n",
       " '841::Eyes Without a Face (1959)::Horror\\n',\n",
       " '842::Tales from the Crypt Presents: Bordello of Blood (1996)::Horror\\n',\n",
       " '843::Lotto Land (1995)::Drama\\n',\n",
       " '844::Story of Xinghua, The (1993)::Drama\\n',\n",
       " '845::Day the Sun Turned Cold, The (Tianguo niezi) (1994)::Drama\\n',\n",
       " '846::Flirt (1995)::Drama\\n',\n",
       " '847::Big Squeeze, The (1996)::Comedy|Drama\\n',\n",
       " '848::Spitfire Grill, The (1996)::Drama\\n',\n",
       " '849::Escape from L.A. (1996)::Action|Adventure|Sci-Fi|Thriller\\n',\n",
       " '850::Cyclo (1995)::Crime|Drama\\n',\n",
       " '851::Basquiat (1996)::Drama\\n',\n",
       " '852::Tin Cup (1996)::Comedy|Romance\\n',\n",
       " '853::Dingo (1992)::Drama\\n',\n",
       " '854::Ballad of Narayama, The (Narayama Bushiko) (1958)::Drama\\n',\n",
       " '855::Every Other Weekend (1990)::Drama\\n',\n",
       " '856::Mille bolle blu (1993)::Comedy\\n',\n",
       " '857::Crows and Sparrows (1949)::Drama\\n',\n",
       " '858::Godfather, The (1972)::Action|Crime|Drama\\n',\n",
       " '859::Hippie Revolution, The (1996)::Documentary\\n',\n",
       " '860::Maybe, Maybe Not (Bewegte Mann, Der) (1994)::Comedy\\n',\n",
       " '861::Supercop (1992)::Action|Thriller\\n',\n",
       " '862::Manny & Lo (1996)::Drama\\n',\n",
       " '863::Celestial Clockwork (1994)::Comedy\\n',\n",
       " '864::Wife, The (1995)::Comedy|Drama\\n',\n",
       " '865::Small Faces (1995)::Drama\\n',\n",
       " '866::Bound (1996)::Crime|Drama|Romance|Thriller\\n',\n",
       " '867::Carpool (1996)::Comedy|Crime\\n',\n",
       " '868::Death in Brunswick (1991)::Comedy\\n',\n",
       " '869::Kansas City (1996)::Crime\\n',\n",
       " \"870::Gone Fishin' (1997)::Comedy\\n\",\n",
       " \"871::Lover's Knot (1996)::Comedy\\n\",\n",
       " '872::Aiqing wansui (1994)::Drama\\n',\n",
       " '873::Shadow of Angels (Schatten der Engel) (1976)::Drama\\n',\n",
       " '874::Killer: A Journal of Murder (1995)::Crime|Drama\\n',\n",
       " '875::Nothing to Lose (1994)::Drama\\n',\n",
       " '876::Police Story 4: Project S (Chao ji ji hua) (1993)::Action\\n',\n",
       " '877::Girls Town (1996)::Drama\\n',\n",
       " '878::Bye-Bye (1995)::Drama\\n',\n",
       " '879::Relic, The (1997)::Horror\\n',\n",
       " '880::Island of Dr. Moreau, The (1996)::Sci-Fi|Thriller\\n',\n",
       " \"881::First Kid (1996)::Children's|Comedy\\n\",\n",
       " '882::Trigger Effect, The (1996)::Drama|Thriller\\n',\n",
       " '884::Sweet Nothing (1995)::Drama\\n',\n",
       " \"885::Bogus (1996)::Children's|Drama|Fantasy\\n\",\n",
       " '886::Bulletproof (1996)::Action\\n',\n",
       " '887::Talk of Angels (1998)::Drama\\n',\n",
       " \"888::Land Before Time III: The Time of the Great Giving (1995)::Animation|Children's\\n\",\n",
       " '889::1-900 (1994)::Romance\\n',\n",
       " '890::Baton Rouge (1988)::Thriller\\n',\n",
       " '891::Halloween: The Curse of Michael Myers (1995)::Horror|Thriller\\n',\n",
       " '892::Twelfth Night (1996)::Comedy|Drama|Romance\\n',\n",
       " '893::Mother Night (1996)::Drama\\n',\n",
       " '894::Liebelei (1933)::Romance\\n',\n",
       " '895::Venice/Venice (1992)::Drama\\n',\n",
       " '896::Wild Reeds (1994)::Drama\\n',\n",
       " '897::For Whom the Bell Tolls (1943)::Adventure|War\\n',\n",
       " '898::Philadelphia Story, The (1940)::Comedy|Romance\\n',\n",
       " \"899::Singin' in the Rain (1952)::Musical|Romance\\n\",\n",
       " '900::American in Paris, An (1951)::Musical|Romance\\n',\n",
       " '901::Funny Face (1957)::Comedy|Musical\\n',\n",
       " \"902::Breakfast at Tiffany's (1961)::Drama|Romance\\n\",\n",
       " '903::Vertigo (1958)::Mystery|Thriller\\n',\n",
       " '904::Rear Window (1954)::Mystery|Thriller\\n',\n",
       " '905::It Happened One Night (1934)::Comedy\\n',\n",
       " '906::Gaslight (1944)::Mystery|Thriller\\n',\n",
       " '907::Gay Divorcee, The (1934)::Comedy|Musical|Romance\\n',\n",
       " '908::North by Northwest (1959)::Drama|Thriller\\n',\n",
       " '909::Apartment, The (1960)::Comedy|Drama\\n',\n",
       " '910::Some Like It Hot (1959)::Comedy|Crime\\n',\n",
       " '911::Charade (1963)::Comedy|Mystery|Romance|Thriller\\n',\n",
       " '912::Casablanca (1942)::Drama|Romance|War\\n',\n",
       " '913::Maltese Falcon, The (1941)::Film-Noir|Mystery\\n',\n",
       " '914::My Fair Lady (1964)::Musical|Romance\\n',\n",
       " '915::Sabrina (1954)::Comedy|Romance\\n',\n",
       " '916::Roman Holiday (1953)::Comedy|Romance\\n',\n",
       " \"917::Little Princess, The (1939)::Children's|Drama\\n\",\n",
       " '918::Meet Me in St. Louis (1944)::Musical\\n',\n",
       " \"919::Wizard of Oz, The (1939)::Adventure|Children's|Drama|Musical\\n\",\n",
       " '920::Gone with the Wind (1939)::Drama|Romance|War\\n',\n",
       " '921::My Favorite Year (1982)::Comedy\\n',\n",
       " '922::Sunset Blvd. (a.k.a. Sunset Boulevard) (1950)::Film-Noir\\n',\n",
       " '923::Citizen Kane (1941)::Drama\\n',\n",
       " '924::2001: A Space Odyssey (1968)::Drama|Mystery|Sci-Fi|Thriller\\n',\n",
       " '925::Golden Earrings (1947)::Adventure|Romance\\n',\n",
       " '926::All About Eve (1950)::Drama\\n',\n",
       " '927::Women, The (1939)::Comedy\\n',\n",
       " '928::Rebecca (1940)::Romance|Thriller\\n',\n",
       " '929::Foreign Correspondent (1940)::Thriller\\n',\n",
       " '930::Notorious (1946)::Film-Noir|Romance|Thriller\\n',\n",
       " '931::Spellbound (1945)::Mystery|Romance|Thriller\\n',\n",
       " '932::Affair to Remember, An (1957)::Romance\\n',\n",
       " '933::To Catch a Thief (1955)::Comedy|Romance|Thriller\\n',\n",
       " '934::Father of the Bride (1950)::Comedy\\n',\n",
       " '935::Band Wagon, The (1953)::Comedy|Musical\\n',\n",
       " '936::Ninotchka (1939)::Comedy|Romance\\n',\n",
       " '937::Love in the Afternoon (1957)::Comedy|Romance\\n',\n",
       " '938::Gigi (1958)::Musical\\n',\n",
       " '939::Reluctant Debutante, The (1958)::Comedy|Drama\\n',\n",
       " '940::Adventures of Robin Hood, The (1938)::Action|Adventure\\n',\n",
       " '941::Mark of Zorro, The (1940)::Adventure\\n',\n",
       " '942::Laura (1944)::Crime|Film-Noir|Mystery\\n',\n",
       " '943::Ghost and Mrs. Muir, The (1947)::Drama|Romance\\n',\n",
       " '944::Lost Horizon (1937)::Drama\\n',\n",
       " '945::Top Hat (1935)::Comedy|Musical|Romance\\n',\n",
       " '946::To Be or Not to Be (1942)::Comedy|Drama|War\\n',\n",
       " '947::My Man Godfrey (1936)::Comedy\\n',\n",
       " '948::Giant (1956)::Drama\\n',\n",
       " '949::East of Eden (1955)::Drama\\n',\n",
       " '950::Thin Man, The (1934)::Mystery\\n',\n",
       " '951::His Girl Friday (1940)::Comedy\\n',\n",
       " '952::Around the World in 80 Days (1956)::Adventure|Comedy\\n',\n",
       " \"953::It's a Wonderful Life (1946)::Drama\\n\",\n",
       " '954::Mr. Smith Goes to Washington (1939)::Drama\\n',\n",
       " '955::Bringing Up Baby (1938)::Comedy\\n',\n",
       " '956::Penny Serenade (1941)::Drama|Romance\\n',\n",
       " '957::Scarlet Letter, The (1926)::Drama\\n',\n",
       " '958::Lady of Burlesque (1943)::Comedy|Mystery\\n',\n",
       " '959::Of Human Bondage (1934)::Drama\\n',\n",
       " '960::Angel on My Shoulder (1946)::Crime|Drama\\n',\n",
       " '961::Little Lord Fauntleroy (1936)::Drama\\n',\n",
       " '962::They Made Me a Criminal (1939)::Crime|Drama\\n',\n",
       " '963::Inspector General, The (1949)::Musical\\n',\n",
       " '964::Angel and the Badman (1947)::Western\\n',\n",
       " '965::39 Steps, The (1935)::Thriller\\n',\n",
       " '966::Walk in the Sun, A (1945)::Drama\\n',\n",
       " '967::Outlaw, The (1943)::Western\\n',\n",
       " '968::Night of the Living Dead (1968)::Horror|Sci-Fi\\n',\n",
       " '969::African Queen, The (1951)::Action|Adventure|Romance|War\\n',\n",
       " '970::Beat the Devil (1954)::Comedy|Drama\\n',\n",
       " '971::Cat on a Hot Tin Roof (1958)::Drama\\n',\n",
       " '972::Last Time I Saw Paris, The (1954)::Drama\\n',\n",
       " '973::Meet John Doe (1941)::Drama\\n',\n",
       " '974::Algiers (1938)::Drama|Romance\\n',\n",
       " '975::Something to Sing About (1937)::Comedy|Musical\\n',\n",
       " '976::Farewell to Arms, A (1932)::Romance|War\\n',\n",
       " '977::Moonlight Murder (1936)::Mystery\\n',\n",
       " '978::Blue Angel, The (Blaue Engel, Der) (1930)::Drama\\n',\n",
       " '979::Nothing Personal (1995)::Drama|War\\n',\n",
       " '980::In the Line of Duty 2 (1987)::Action\\n',\n",
       " '981::Dangerous Ground (1997)::Drama\\n',\n",
       " '982::Picnic (1955)::Drama\\n',\n",
       " '983::Madagascar Skin (1995)::Romance\\n',\n",
       " '984::Pompatus of Love, The (1996)::Comedy|Drama\\n',\n",
       " '985::Small Wonders (1996)::Documentary\\n',\n",
       " \"986::Fly Away Home (1996)::Adventure|Children's\\n\",\n",
       " '987::Bliss (1997)::Drama|Romance\\n',\n",
       " '988::Grace of My Heart (1996)::Comedy|Drama\\n',\n",
       " '989::Schlafes Bruder (Brother of Sleep) (1995)::Drama\\n',\n",
       " '990::Maximum Risk (1996)::Action|Adventure|Thriller\\n',\n",
       " '991::Michael Collins (1996)::Drama|War\\n',\n",
       " \"992::Rich Man's Wife, The (1996)::Thriller\\n\",\n",
       " '993::Infinity (1996)::Drama\\n',\n",
       " '994::Big Night (1996)::Drama\\n',\n",
       " '996::Last Man Standing (1996)::Action|Drama|Western\\n',\n",
       " '997::Caught (1996)::Drama|Thriller\\n',\n",
       " '998::Set It Off (1996)::Action|Crime\\n',\n",
       " '999::2 Days in the Valley (1996)::Crime\\n',\n",
       " '1000::Curdled (1996)::Crime\\n',\n",
       " \"1001::Associate, The (L'Associe)(1982)::Comedy\\n\",\n",
       " \"1002::Ed's Next Move (1996)::Comedy\\n\",\n",
       " '1003::Extreme Measures (1996)::Drama|Thriller\\n',\n",
       " '1004::Glimmer Man, The (1996)::Action|Thriller\\n',\n",
       " \"1005::D3: The Mighty Ducks (1996)::Children's|Comedy\\n\",\n",
       " '1006::Chamber, The (1996)::Drama\\n',\n",
       " \"1007::Apple Dumpling Gang, The (1975)::Children's|Comedy|Western\\n\",\n",
       " '1008::Davy Crockett, King of the Wild Frontier (1955)::Western\\n',\n",
       " \"1009::Escape to Witch Mountain (1975)::Adventure|Children's|Fantasy\\n\",\n",
       " \"1010::Love Bug, The (1969)::Children's|Comedy\\n\",\n",
       " \"1011::Herbie Rides Again (1974)::Adventure|Children's|Comedy\\n\",\n",
       " \"1012::Old Yeller (1957)::Children's|Drama\\n\",\n",
       " ...]"
      ]
     },
     "execution_count": 24,
     "metadata": {},
     "output_type": "execute_result"
    }
   ],
   "source": [
    "movies.seek(0)\n",
    "movies.readlines() #tinc una llista amb TOOOOOTES les pelis i cadascuna en una cadena"
   ]
  },
  {
   "cell_type": "code",
   "execution_count": 6,
   "metadata": {},
   "outputs": [],
   "source": [
    "movies.seek(0)      ####genero molta caca, però és per explicar el funcionament. Polit ho aplicaria recursivament sobre la mateixa llista\n",
    "movies1=[s.replace(\"\\n\", \"\") for s in movies]\n",
    "movies2=[s.replace(\")::\", \";#\") for s in movies1]   # !!!! ALERTA hi ha titols amb parentesis \n",
    "movies3=[s.replace(\"(1\", \";#1\") for s in movies2] #cami 1 passar la llista a csv i reobrir com a dataframe. cami 2 passar a df i operar elements a columnes\n",
    "movies3=[s.replace(\"(2\", \";#2\") for s in movies3] ## es pot fer recursiva també, demo\n",
    "movies4=[s.replace(\"::\", \";#\") for s in movies3]  ##Quan més SEGUR sigui el separador escollit, menys errors tindré de columna\n",
    "movies4[:0]=['0;#title;#year;#genre']\n",
    "\n",
    "movies.close() # CAL TANCAR EL FITXER  SEMPRE !!!!!!!!!!!"
   ]
  },
  {
   "cell_type": "code",
   "execution_count": 25,
   "metadata": {},
   "outputs": [],
   "source": [
    "moviefile=open(\"moviefile.txt\",\"w\",encoding='utf-8')\n",
    "for element in movies4:\n",
    "    moviefile.write(element+\"\\n\")\n",
    "moviefile\n",
    "moviefile.close()"
   ]
  },
  {
   "cell_type": "code",
   "execution_count": 26,
   "metadata": {},
   "outputs": [
    {
     "data": {
      "text/html": [
       "<div>\n",
       "<style scoped>\n",
       "    .dataframe tbody tr th:only-of-type {\n",
       "        vertical-align: middle;\n",
       "    }\n",
       "\n",
       "    .dataframe tbody tr th {\n",
       "        vertical-align: top;\n",
       "    }\n",
       "\n",
       "    .dataframe thead th {\n",
       "        text-align: right;\n",
       "    }\n",
       "</style>\n",
       "<table border=\"1\" class=\"dataframe\">\n",
       "  <thead>\n",
       "    <tr style=\"text-align: right;\">\n",
       "      <th></th>\n",
       "      <th>0</th>\n",
       "      <th>title</th>\n",
       "      <th>year</th>\n",
       "      <th>genre</th>\n",
       "    </tr>\n",
       "  </thead>\n",
       "  <tbody>\n",
       "    <tr>\n",
       "      <th>3770</th>\n",
       "      <td>3840</td>\n",
       "      <td>Pumpkinhead</td>\n",
       "      <td>1988</td>\n",
       "      <td>Horror</td>\n",
       "    </tr>\n",
       "    <tr>\n",
       "      <th>3771</th>\n",
       "      <td>3841</td>\n",
       "      <td>Air America</td>\n",
       "      <td>1990</td>\n",
       "      <td>Action|Comedy</td>\n",
       "    </tr>\n",
       "    <tr>\n",
       "      <th>3772</th>\n",
       "      <td>3842</td>\n",
       "      <td>Make Them Die Slowly (Cannibal Ferox)</td>\n",
       "      <td>1980</td>\n",
       "      <td>Horror</td>\n",
       "    </tr>\n",
       "    <tr>\n",
       "      <th>3773</th>\n",
       "      <td>3843</td>\n",
       "      <td>Sleepaway Camp</td>\n",
       "      <td>1983</td>\n",
       "      <td>Horror</td>\n",
       "    </tr>\n",
       "    <tr>\n",
       "      <th>3774</th>\n",
       "      <td>3844</td>\n",
       "      <td>Steel Magnolias</td>\n",
       "      <td>1989</td>\n",
       "      <td>Drama</td>\n",
       "    </tr>\n",
       "    <tr>\n",
       "      <th>3775</th>\n",
       "      <td>3845</td>\n",
       "      <td>And God Created Woman (Et Dieu&amp;#8230;Créa la F...</td>\n",
       "      <td>1956</td>\n",
       "      <td>Drama</td>\n",
       "    </tr>\n",
       "    <tr>\n",
       "      <th>3776</th>\n",
       "      <td>3846</td>\n",
       "      <td>Easy Money</td>\n",
       "      <td>1983</td>\n",
       "      <td>Comedy</td>\n",
       "    </tr>\n",
       "    <tr>\n",
       "      <th>3777</th>\n",
       "      <td>3847</td>\n",
       "      <td>Ilsa, She Wolf of the SS</td>\n",
       "      <td>1974</td>\n",
       "      <td>Horror</td>\n",
       "    </tr>\n",
       "    <tr>\n",
       "      <th>3778</th>\n",
       "      <td>3848</td>\n",
       "      <td>Silent Fall</td>\n",
       "      <td>1994</td>\n",
       "      <td>Drama|Thriller</td>\n",
       "    </tr>\n",
       "    <tr>\n",
       "      <th>3779</th>\n",
       "      <td>3849</td>\n",
       "      <td>Spiral Staircase, The</td>\n",
       "      <td>1946</td>\n",
       "      <td>Thriller</td>\n",
       "    </tr>\n",
       "  </tbody>\n",
       "</table>\n",
       "</div>"
      ],
      "text/plain": [
       "         0                                              title  year  \\\n",
       "3770  3840                                       Pumpkinhead   1988   \n",
       "3771  3841                                       Air America   1990   \n",
       "3772  3842             Make Them Die Slowly (Cannibal Ferox)   1980   \n",
       "3773  3843                                    Sleepaway Camp   1983   \n",
       "3774  3844                                   Steel Magnolias   1989   \n",
       "3775  3845  And God Created Woman (Et Dieu&#8230;Créa la F...  1956   \n",
       "3776  3846                                        Easy Money   1983   \n",
       "3777  3847                          Ilsa, She Wolf of the SS   1974   \n",
       "3778  3848                                       Silent Fall   1994   \n",
       "3779  3849                             Spiral Staircase, The   1946   \n",
       "\n",
       "               genre  \n",
       "3770          Horror  \n",
       "3771   Action|Comedy  \n",
       "3772          Horror  \n",
       "3773          Horror  \n",
       "3774           Drama  \n",
       "3775           Drama  \n",
       "3776          Comedy  \n",
       "3777          Horror  \n",
       "3778  Drama|Thriller  \n",
       "3779        Thriller  "
      ]
     },
     "execution_count": 26,
     "metadata": {},
     "output_type": "execute_result"
    }
   ],
   "source": [
    "moviesdf = pd.read_csv('moviefile.txt', sep=';#')\n",
    "moviesdf[3770:3780]\n",
    "\n",
    "#DE FET LA COLUMNA 0 es podria eliminar solemnement. Tampoc es correspon la numeració amb index real"
   ]
  },
  {
   "cell_type": "code",
   "execution_count": 27,
   "metadata": {},
   "outputs": [
    {
     "name": "stdout",
     "output_type": "stream",
     "text": [
      "<class 'pandas.core.frame.DataFrame'>\n",
      "RangeIndex: 3883 entries, 0 to 3882\n",
      "Data columns (total 4 columns):\n",
      " #   Column  Non-Null Count  Dtype \n",
      "---  ------  --------------  ----- \n",
      " 0   0       3883 non-null   int64 \n",
      " 1   title   3883 non-null   object\n",
      " 2   year    3883 non-null   int64 \n",
      " 3   genre   3883 non-null   object\n",
      "dtypes: int64(2), object(2)\n",
      "memory usage: 121.5+ KB\n"
     ]
    }
   ],
   "source": [
    "moviesdf.info()"
   ]
  },
  {
   "cell_type": "markdown",
   "metadata": {},
   "source": [
    "###### Hauria  d'eliminar els repetits, i reformatejar la columna any a numèrica si s'escau\n",
    "/ pd.to_numeric(moviesdf['year'])   ##### pero ja esta ben formatada\n",
    "/ moviesdf.info()"
   ]
  },
  {
   "cell_type": "code",
   "execution_count": 28,
   "metadata": {
    "ExecuteTime": {
     "end_time": "2021-01-20T16:37:27.845980Z",
     "start_time": "2021-01-20T16:37:27.839999Z"
    }
   },
   "outputs": [
    {
     "data": {
      "text/plain": [
       "(3883, 4)"
      ]
     },
     "execution_count": 28,
     "metadata": {},
     "output_type": "execute_result"
    }
   ],
   "source": [
    "moviesdf.shape"
   ]
  },
  {
   "cell_type": "code",
   "execution_count": 29,
   "metadata": {
    "ExecuteTime": {
     "end_time": "2021-01-20T16:38:12.851359Z",
     "start_time": "2021-01-20T16:38:12.842383Z"
    }
   },
   "outputs": [
    {
     "data": {
      "text/plain": [
       "Index(['0', 'title', 'year', 'genre'], dtype='object')"
      ]
     },
     "execution_count": 29,
     "metadata": {},
     "output_type": "execute_result"
    }
   ],
   "source": [
    "moviesdf.columns"
   ]
  },
  {
   "cell_type": "code",
   "execution_count": 30,
   "metadata": {
    "ExecuteTime": {
     "end_time": "2021-01-20T16:38:30.788682Z",
     "start_time": "2021-01-20T16:38:30.780704Z"
    }
   },
   "outputs": [
    {
     "data": {
      "text/plain": [
       "array(['Toy Story ', 'Jumanji ', 'Grumpier Old Men ', ..., 'Tigerland ',\n",
       "       'Two Family House ', 'Contender, The '], dtype=object)"
      ]
     },
     "execution_count": 30,
     "metadata": {},
     "output_type": "execute_result"
    }
   ],
   "source": [
    "moviesdf.title.unique()"
   ]
  },
  {
   "cell_type": "code",
   "execution_count": 31,
   "metadata": {
    "ExecuteTime": {
     "end_time": "2021-01-20T16:38:46.211796Z",
     "start_time": "2021-01-20T16:38:46.205812Z"
    },
    "scrolled": true
   },
   "outputs": [
    {
     "data": {
      "text/plain": [
       "3841"
      ]
     },
     "execution_count": 31,
     "metadata": {},
     "output_type": "execute_result"
    }
   ],
   "source": [
    "moviesdf.title.nunique() # retorna el valor numeric INDICANT QUE HI HA TITOLS DE PELIS REPETIDES !!!!!!!!"
   ]
  },
  {
   "cell_type": "code",
   "execution_count": 14,
   "metadata": {},
   "outputs": [
    {
     "data": {
      "text/plain": [
       "3841"
      ]
     },
     "execution_count": 14,
     "metadata": {},
     "output_type": "execute_result"
    }
   ],
   "source": [
    "moviesdf.drop_duplicates(inplace=True, ignore_index=True)\n",
    "moviesdf.title.nunique()    #veiem que hi ha diferències entre elles. s'hauria de fusionar o comparar els casos"
   ]
  },
  {
   "cell_type": "code",
   "execution_count": 32,
   "metadata": {
    "ExecuteTime": {
     "end_time": "2021-01-20T16:39:19.158373Z",
     "start_time": "2021-01-20T16:39:19.085568Z"
    }
   },
   "outputs": [
    {
     "data": {
      "text/plain": [
       "count    3883.000000\n",
       "mean     1986.066959\n",
       "std        16.895690\n",
       "min      1919.000000\n",
       "25%      1982.000000\n",
       "50%      1994.000000\n",
       "75%      1997.000000\n",
       "max      2000.000000\n",
       "Name: year, dtype: float64"
      ]
     },
     "execution_count": 32,
     "metadata": {},
     "output_type": "execute_result"
    }
   ],
   "source": [
    "moviesdf['year'].describe() #fa la descriptiva i ARRODONEIX a 3 decimals"
   ]
  },
  {
   "cell_type": "code",
   "execution_count": 33,
   "metadata": {},
   "outputs": [
    {
     "data": {
      "text/plain": [
       "1986.0669585372134"
      ]
     },
     "execution_count": 33,
     "metadata": {},
     "output_type": "execute_result"
    }
   ],
   "source": [
    "moviesdf.year.mean()"
   ]
  },
  {
   "cell_type": "code",
   "execution_count": 34,
   "metadata": {
    "ExecuteTime": {
     "end_time": "2021-01-20T16:40:28.616138Z",
     "start_time": "2021-01-20T16:40:28.609159Z"
    }
   },
   "outputs": [
    {
     "data": {
      "image/png": "[encoded data removed]",
      "text/plain": [
       "<Figure size 720x360 with 1 Axes>"
      ]
     },
     "metadata": {},
     "output_type": "display_data"
    }
   ],
   "source": [
    "# data=moviesdf.groupby('year').count()['title'] #testing\n",
    "# print(data.tail())\n",
    "#make group of the data according to their release year and count the total number of movies in each year and pot.\n",
    "moviesdf.groupby('year').count()['title'].plot(xticks = np.arange(1960,2016,5))\n",
    "\n",
    "#set the figure size and labels\n",
    "sns.set(rc={'figure.figsize':(10,5)})\n",
    "plt.title(\"Year Vs Number Of Movies\",fontsize = 14)\n",
    "plt.xlabel('Year',fontsize = 13)\n",
    "plt.ylabel('Movie count',fontsize = 13)\n",
    "#set the style sheet\n",
    "sns.set_style(\"whitegrid\")\n"
   ]
  },
  {
   "cell_type": "markdown",
   "metadata": {},
   "source": [
    "## Compto el gènere més popular. Es podria estratificar per any dp"
   ]
  },
  {
   "cell_type": "code",
   "execution_count": 36,
   "metadata": {},
   "outputs": [
    {
     "data": {
      "image/png": "[encoded data removed]",
      "text/plain": [
       "<Figure size 936x432 with 1 Axes>"
      ]
     },
     "metadata": {},
     "output_type": "display_data"
    }
   ],
   "source": [
    "# històricament sumo TOTES les dades del camp en una megallista separada per | contenint tots els gèneres.\n",
    "def count_genre(x):\n",
    "    data_plot = moviesdf[x].str.cat(sep = '|')  #Els concateno a la llista data_plot accedint a la col x \n",
    "    data = pd.Series(data_plot.split('|'))\n",
    "    info = data.value_counts(ascending=True)   #count genres i return.\n",
    "    return info\n",
    "\n",
    "total_genre_movies = count_genre('genre')  #invocar la funcio per cada genre. em podria servir igualment per comptar anys\n",
    "\n",
    "total_genre_movies.plot(kind= 'barh',figsize = (13,6),fontsize=12,colormap='tab20c') #plot  'barh' per 'genre vs number of movies'.\n",
    "\n",
    "plt.title(\"Genres most represented\",fontsize=15) #setup the title and the labels of the plot.\n",
    "plt.xlabel('Number Of Movies',fontsize=13)\n",
    "plt.ylabel(\"Genres\",fontsize= 13)\n",
    "sns.set_style(\"whitegrid\")"
   ]
  },
  {
   "cell_type": "code",
   "execution_count": null,
   "metadata": {
    "scrolled": true
   },
   "outputs": [],
   "source": [
    "##exercici anterior"
   ]
  },
  {
   "cell_type": "code",
   "execution_count": null,
   "metadata": {
    "ExecuteTime": {
     "end_time": "2021-01-20T16:52:45.550614Z",
     "start_time": "2021-01-20T16:52:45.280824Z"
    }
   },
   "outputs": [],
   "source": [
    "# Create data\n",
    "x = county.fed_spend\n",
    "y = county.poverty\n",
    "colors = 'Blue'\n",
    "area = np.pi*5\n",
    "\n",
    "plt.axis([-10, 100, 0, 60])\n",
    "\n",
    "# Plot\n",
    "plt.scatter(x, y, s=area, c=colors, alpha=0.4, edgecolors='black')\n",
    "\n",
    "plt.title('Federal Spending vs Poverty by County')\n",
    "plt.ylabel('Federal Spending per Capita')\n",
    "plt.xlabel('Poverty Rate (Percent)')\n",
    "plt.show()"
   ]
  },
  {
   "cell_type": "markdown",
   "metadata": {},
   "source": [
    "In any <span style=color:blue>Scatterplot</span>, each point represents a single <b><i>case/observation</i></b>. Since there are <b>3.143</b> cases in $county$, there are <b>3.143</b> points"
   ]
  },
  {
   "cell_type": "markdown",
   "metadata": {},
   "source": [
    "Now, We will compare the <span style=color:blue>number of line breaks <b>(line_breaks)</b></span> and <span style=color:blue>number of characters <b>(num_char)</b></span> in emails for the $email50$ dataset. "
   ]
  },
  {
   "cell_type": "code",
   "execution_count": null,
   "metadata": {
    "ExecuteTime": {
     "end_time": "2021-01-20T16:54:03.195279Z",
     "start_time": "2021-01-20T16:54:03.181318Z"
    }
   },
   "outputs": [],
   "source": [
    "dbe = pd.read_csv('email50.txt',encoding='utf-8', sep='\\t')"
   ]
  },
  {
   "cell_type": "code",
   "execution_count": null,
   "metadata": {
    "ExecuteTime": {
     "end_time": "2021-01-20T16:54:05.071324Z",
     "start_time": "2021-01-20T16:54:05.066338Z"
    }
   },
   "outputs": [],
   "source": [
    "dbe.shape"
   ]
  },
  {
   "cell_type": "code",
   "execution_count": null,
   "metadata": {
    "ExecuteTime": {
     "end_time": "2021-01-20T16:55:11.060992Z",
     "start_time": "2021-01-20T16:55:11.028081Z"
    }
   },
   "outputs": [],
   "source": [
    "dbe.head(10)"
   ]
  },
  {
   "cell_type": "code",
   "execution_count": null,
   "metadata": {
    "ExecuteTime": {
     "end_time": "2021-01-20T16:55:38.509494Z",
     "start_time": "2021-01-20T16:55:38.291078Z"
    },
    "scrolled": true
   },
   "outputs": [],
   "source": [
    "# Create data\n",
    "x = dbe.num_char\n",
    "y = dbe.line_breaks\n",
    "\n",
    "colors = \"Blue\"\n",
    "area = np.pi*20\n",
    "plt.axis([0, 70, 0, 1200])\n",
    "\n",
    "# Plot\n",
    "plt.scatter(x, y, s=area, c=colors, alpha=0.4, edgecolors='black')\n",
    "plt.title('Spam email - # Lines vs # Characters')\n",
    "plt.ylabel('Number of Lines')\n",
    "plt.xlabel('Number of Characters (in thousands)')\n",
    "plt.show()"
   ]
  },
  {
   "cell_type": "markdown",
   "metadata": {},
   "source": [
    "To put the <span style=color:blue>number of characters</span> in perspective, this paragraph has <b>363</b> characters. Looking at <span style=color:blue>scatterplot</span>, it seems that some emails are incredibly verbose!. Upon further investigation, we would actually find that most of the long emails use the <b>HTML format</b>, which means most of the characters in those emails are used to <b>format the email</b> rather than <b>provide text</b>."
   ]
  },
  {
   "cell_type": "code",
   "execution_count": null,
   "metadata": {
    "ExecuteTime": {
     "end_time": "2021-01-20T17:00:26.119429Z",
     "start_time": "2021-01-20T17:00:26.106466Z"
    }
   },
   "outputs": [],
   "source": [
    "dbcars = pd.read_csv('cars.txt', encoding='utf-8', sep='\\t')"
   ]
  },
  {
   "cell_type": "markdown",
   "metadata": {},
   "source": [
    "Let's consider a new dataset $cars$ of 54 $cars$ with 6 variables. Create scatterplot to examine how $vehicle$ $price$ and $weight$ are related.  \n",
    "\n",
    "What can be said about the relationship between these variables?"
   ]
  },
  {
   "cell_type": "code",
   "execution_count": null,
   "metadata": {
    "ExecuteTime": {
     "end_time": "2021-01-20T17:00:30.396943Z",
     "start_time": "2021-01-20T17:00:30.390959Z"
    }
   },
   "outputs": [],
   "source": [
    "dbcars.shape"
   ]
  },
  {
   "cell_type": "code",
   "execution_count": null,
   "metadata": {
    "ExecuteTime": {
     "end_time": "2021-01-20T17:00:33.918931Z",
     "start_time": "2021-01-20T17:00:33.902973Z"
    }
   },
   "outputs": [],
   "source": [
    "dbcars.head()"
   ]
  },
  {
   "cell_type": "code",
   "execution_count": null,
   "metadata": {
    "ExecuteTime": {
     "end_time": "2021-01-20T17:01:07.012738Z",
     "start_time": "2021-01-20T17:01:07.003761Z"
    }
   },
   "outputs": [],
   "source": [
    "# Checking dataset variables\n",
    "dbcars.dtypes"
   ]
  },
  {
   "cell_type": "code",
   "execution_count": null,
   "metadata": {
    "ExecuteTime": {
     "end_time": "2021-01-20T17:02:10.747449Z",
     "start_time": "2021-01-20T17:02:10.711033Z"
    }
   },
   "outputs": [],
   "source": [
    "dbcars.describe().round(2)"
   ]
  },
  {
   "cell_type": "code",
   "execution_count": null,
   "metadata": {},
   "outputs": [],
   "source": []
  },
  {
   "cell_type": "code",
   "execution_count": null,
   "metadata": {
    "ExecuteTime": {
     "end_time": "2021-01-20T17:03:40.008163Z",
     "start_time": "2021-01-20T17:03:40.002179Z"
    }
   },
   "outputs": [],
   "source": [
    "# Categorical Variables\n",
    "dbcars.type.unique()"
   ]
  },
  {
   "cell_type": "code",
   "execution_count": null,
   "metadata": {
    "ExecuteTime": {
     "end_time": "2021-01-20T17:04:20.810857Z",
     "start_time": "2021-01-20T17:04:20.803365Z"
    }
   },
   "outputs": [],
   "source": [
    "# Categorical Variables\n",
    "dbcars.driveTrain.unique()"
   ]
  },
  {
   "cell_type": "code",
   "execution_count": null,
   "metadata": {
    "ExecuteTime": {
     "end_time": "2021-01-20T17:06:02.798275Z",
     "start_time": "2021-01-20T17:06:02.555923Z"
    },
    "scrolled": true
   },
   "outputs": [],
   "source": [
    "# Create data\n",
    "x = dbcars.weight\n",
    "y = dbcars.price\n",
    "\n",
    "colors = \"Blue\"\n",
    "area = np.pi*15\n",
    "\n",
    "# Plot\n",
    "plt.scatter(x, y, s=area, c=colors, alpha=0.4, edgecolors='black')\n",
    "plt.title('Cars - Price vs Weight')\n",
    "plt.ylabel('Price ($1000s)')\n",
    "plt.xlabel('Weight (Pounds)')"
   ]
  },
  {
   "cell_type": "markdown",
   "metadata": {},
   "source": [
    "The relationship is <span style=color:blue>evidently nonlinear</span>."
   ]
  },
  {
   "cell_type": "code",
   "execution_count": null,
   "metadata": {
    "ExecuteTime": {
     "end_time": "2021-01-20T17:07:17.270252Z",
     "start_time": "2021-01-20T17:07:16.532708Z"
    }
   },
   "outputs": [],
   "source": [
    "fig = plt.figure(figsize=(15,4))\n",
    "\n",
    "ax1 = fig.add_subplot(1, 3, 1)\n",
    "\n",
    "# Create data\n",
    "x = county.fed_spend\n",
    "y = county.poverty\n",
    "colors = 'Blue'\n",
    "area = np.pi*5\n",
    "\n",
    "plt.axis([0, 100, 0, 60])\n",
    "\n",
    "# Plot\n",
    "ax1.scatter(x, y, s=area, c=colors, alpha=0.4, edgecolors='black')\n",
    "\n",
    "plt.title('County Dataset')\n",
    "plt.ylabel('Federal Spending per Capita')\n",
    "plt.xlabel('Poverty Rate (Percent)')\n",
    "\n",
    "ax2 = fig.add_subplot(1, 3, 2)\n",
    "# Create data\n",
    "x = dbe.num_char\n",
    "y = dbe.line_breaks\n",
    "\n",
    "colors = \"Red\"\n",
    "area = np.pi*20\n",
    "plt.axis([0, 70, 0, 1200])\n",
    "\n",
    "# Plot\n",
    "ax2.scatter(x, y, s=area, c=colors, alpha=0.4, edgecolors='black')\n",
    "plt.title('Spam email Dataset')\n",
    "plt.ylabel('# of Lines')\n",
    "plt.xlabel('# of Characters (in thousands)')\n",
    "\n",
    "ax3 = fig.add_subplot(1, 3, 3)\n",
    "# Create data\n",
    "x = dbcars.weight\n",
    "y = dbcars.price\n",
    "\n",
    "colors = \"Orange\"\n",
    "area = np.pi*30\n",
    "plt.axis([1500, 4300, 0, 65])\n",
    "\n",
    "# Plot\n",
    "ax3.scatter(x, y, s=area, c=colors, alpha=0.4, edgecolors='black')\n",
    "plt.title('Cars Dataset')\n",
    "plt.ylabel('Price ($1000s)')\n",
    "plt.xlabel('Weight (Pounds)')\n",
    "\n",
    "# plt.tight_layout(pad=0.4, w_pad=0.5, h_pad=1.0)\n",
    "plt.tight_layout()"
   ]
  },
  {
   "cell_type": "markdown",
   "metadata": {},
   "source": [
    "### <span style=color:darkblue>MATRIX PLOTS</span>"
   ]
  },
  {
   "cell_type": "code",
   "execution_count": null,
   "metadata": {
    "ExecuteTime": {
     "end_time": "2021-01-20T17:22:39.511793Z",
     "start_time": "2021-01-20T17:22:26.306937Z"
    }
   },
   "outputs": [],
   "source": [
    "# Matrix Plot\n",
    "sns.pairplot(county, diag_kind='hist', plot_kws={'alpha': 0.2})"
   ]
  },
  {
   "cell_type": "markdown",
   "metadata": {},
   "source": [
    "## <span style=color:darkgreen>HISTOGRAMS</span>"
   ]
  },
  {
   "cell_type": "markdown",
   "metadata": {},
   "source": [
    "Dot plots, like in <span style=color:blue>scatterplot</span>, show the <span style=color:blue><b>exact value for each observation</b></span>. This is useful for <b><i>small datasets</i></b>, but they can become hard to read with <b>larger samples</b>. \n",
    "\n",
    "Rather than showing the <span style=color:blue><i>value of each observation</i></span>, we prefer to think of the value as belonging to a <span style=color:blue><b>bin</b></span>.   \n",
    "\n",
    "These <span style=color:blue><b>bins</span> - ***(counts)*** are plotted as <span style=color:blue><u>bars</u></span> into what is called a <span style=color:blue><b><u>Histogram</u></b></span>."
   ]
  },
  {
   "cell_type": "markdown",
   "metadata": {},
   "source": [
    "<span style=color:blue><b><u>Histogram</u></b></span> provide a view of the <span style=color:blue>data density</span>. Higher bars represent where the data are relatively more common.\n",
    "\n",
    "<span style=color:blue><b><u>Histogram</u></b></span> are especially convenient for describing the <span style=color:blue><i>shape of the data distribution</i></span>.\n",
    "\n",
    "- When data <b>trail off</b> to the right and have a longer right tail, the shape is said to be\n",
    "<span style=color:blue><b><u>Right Skewed</u></b></span> or also called <span style=color:blue><b><u>Skewed to the Positive End</u></b></span>.   \n",
    "$%$   \n",
    "- Contrary, data with the <b>reverse</b> characteristic – <i>a long, thin tail to the left</i> – are said to be <span style=color:blue><b><u>Left Skewed</u></b></span>. We also say that such a distribution has a <span style=color:blue>long left tail</span>.   \n",
    "$%$   \n",
    "- Data that show roughly <b>equal</b> trailing off in both directions are called <span style=color:blue><b><u>Symmetric</u></b></span>."
   ]
  },
  {
   "cell_type": "code",
   "execution_count": null,
   "metadata": {
    "ExecuteTime": {
     "end_time": "2021-01-20T17:25:49.287023Z",
     "start_time": "2021-01-20T17:25:49.160361Z"
    }
   },
   "outputs": [],
   "source": [
    "dbe.describe()"
   ]
  },
  {
   "cell_type": "code",
   "execution_count": null,
   "metadata": {
    "ExecuteTime": {
     "end_time": "2021-01-20T17:25:00.214525Z",
     "start_time": "2021-01-20T17:24:59.868449Z"
    }
   },
   "outputs": [],
   "source": [
    "dbe.hist(['num_char'], bins=14)\n",
    "plt.title('Spam email - # Characters')\n",
    "plt.ylabel('Frequency')\n",
    "plt.xlabel('# Characters (in thousands)')"
   ]
  },
  {
   "cell_type": "markdown",
   "metadata": {},
   "source": [
    "<div class=\"alert alert-warning alert-warning\"><b><u>Long tails to identify skew</u></b>\n",
    "\n",
    "When data trail off in one direction, the distribution has a <b>long tail</b>. If a distribution has a long left tail, it is <b>Left Skewed</b>. If a distribution has a long right tail, it is <b>Right Skewed</b>.\n",
    "</div>"
   ]
  },
  {
   "cell_type": "markdown",
   "metadata": {},
   "source": [
    "### <span style=color:darkred>Modal Distribution</span>"
   ]
  },
  {
   "cell_type": "markdown",
   "metadata": {},
   "source": [
    "In addition to looking at whether a distribution is <span style=color:blue>Skewed</span> or <span style=color:blue>Symmetric</span>, histograms can be used to identify <span style=color:blue><b>Modes</b></span>.   \n",
    "$%$   \n",
    "A <span style=color:blue><b>mode</b></span> is the <span style=color:blue><i>value with the <b>most occurrences</b></i></span>.   \n",
    "$%$   \n",
    "However, It is common to have <span style=color:red><b>no</b> observations</span> with the same value in a dataset, which makes, <span style=color:blue><b>mode</b></span>, <span style=color:red>useless</span> for many real datasets.\n",
    "\n",
    "A <span style=color:blue><b>mode</b></span> is represented by a prominent peak in the <span style=color:blue>distribution</span>. There is only one prominent peak in the histogram of <b>num_char</b>."
   ]
  },
  {
   "cell_type": "markdown",
   "metadata": {},
   "source": [
    "<span style=color:blue>Histogram</span> that have one, two, or three prominent peaks are called <span style=color:blue><b><u>Unimodal,$\\:$ Bimodal,$\\:$ and $\\:$ Multimodal,</u></b></span> respectively. \n",
    "\n",
    "Any <span style=color:blue>distribution</span> with more than 2 prominent peaks is called <span style=color:blue>Multimodal</span>. \n",
    "\n",
    "Notice that there was <b>one prominent peak</b> in the <span style=color:blue>Unimodal</span> distribution with a <b>second less prominent peak</b> that was <b><u>not counted</u></b> since it only differs from its neighboring <span style=color:blue><b>bins</b></span> by a few <span style=color:blue>observations</span>."
   ]
  },
  {
   "attachments": {
    "Modal%20Distribution_small.jpg": {
     "image/jpeg": "[encoded data removed]"
    }
   },
   "cell_type": "markdown",
   "metadata": {},
   "source": [
    "![Modal%20Distribution_small.jpg](attachment:Modal%20Distribution_small.jpg)"
   ]
  },
  {
   "cell_type": "markdown",
   "metadata": {},
   "source": [
    "<div class=\"alert alert-warning alert-warning\"><b><u>Looking for modes</u></b>\n",
    "\n",
    "Looking for <b>modes</b> isn’t about finding a clear and correct answer about the number of <b>modes</b> in a <b>distribution</b>. \n",
    "\n",
    "The important part of this examination is to better understand your data and how it might be structured.</div>"
   ]
  },
  {
   "cell_type": "markdown",
   "metadata": {},
   "source": [
    "<div class=\"alert alert-block alert-info\"><font size=\"5\"><center><b><u>Statistical Foundations for Data Scientist</u></b></center></font>\n",
    "\n",
    "\\begin{align*}Alex\\:Kumenius\\end{align*}\n",
    "\\begin{align*}Business\\hspace{2mm}Intelligence\\hspace{2mm}and\\hspace{2mm}Data\\hspace{2mm}Scientist\\hspace{2mm}Project\\hspace{2mm}Integrator\\end{align*}\n",
    "$%$       \n",
    "\\begin{align*}Date : Gener\\hspace{2mm}2021\\end{align*}</div>"
   ]
  },
  {
   "cell_type": "markdown",
   "metadata": {},
   "source": [
    "# <span style=color:darkblue>SUMMARY STATISTICS</span>"
   ]
  },
  {
   "cell_type": "markdown",
   "metadata": {},
   "source": [
    "## <span style=color:darkgreen>Mean - Average</span>"
   ]
  },
  {
   "cell_type": "markdown",
   "metadata": {},
   "source": [
    "The <span style=color:blue><b>mean</b></span>, sometimes called the <span style=color:blue><b>average</b></span>, is a common way to measure the <span style=color:blue><b>center of a distribution of data</b></span>. \n",
    "\n",
    "To find the <span style=color:blue><b>mean</b></span> <span style=color:blue>number of characters <b>(num_char)</b></span> in the <b>50</b> emails, we <b>add up</b> all the character counts and <b>divide</b> by the number of emails. \n",
    "\n",
    "For <b>computational convenience</b>, the number of characters is listed in the <b>thousands</b> and <b>rounded</b> to the first decimal."
   ]
  },
  {
   "cell_type": "markdown",
   "metadata": {},
   "source": [
    "\\begin{align*}\\bar{x}\\:=\\:\\frac{21.7+7.0\\:+\\:...\\:+\\:15.80}{50}\\:=\\: 11.6\\end{align*}"
   ]
  },
  {
   "cell_type": "code",
   "execution_count": null,
   "metadata": {
    "ExecuteTime": {
     "end_time": "2020-10-21T15:39:20.479123Z",
     "start_time": "2020-10-21T15:39:20.467156Z"
    }
   },
   "outputs": [],
   "source": [
    "dbe.num_char.mean()"
   ]
  },
  {
   "cell_type": "markdown",
   "metadata": {},
   "source": [
    "The <span style=color:blue><b>sample mean</b></span> is often labeled <span style=color:blue><b>$\\bar{x}$</b></span>. The letter <span style=color:blue><b>$x$</b></span> is being used as a <b>generic placeholder</b> for the variable of interest, $num$_$char$, and the <b><i>bar over on the x</i></b> communicates that the <b>average</b> number of characters in the <b>50</b> emails is <b>11,6</b>. "
   ]
  },
  {
   "cell_type": "markdown",
   "metadata": {},
   "source": [
    "<div class=\"alert alert-warning alert-warning\"><b><u>Mean</u></b>\n",
    "\n",
    "The <b><u>sample mean</u></b> <span style=color:blue><b>$\\bar{x}$</b></span> of a <em>numerical variable</em> is computed as the <b>sum</b> of all of the <em>observations</em> <b>divided</b> by the number of <em>observations</em>:   \n",
    "$%$   \n",
    "\\begin{align*}\\bar{x}\\:=\\:\\frac{x_1\\:+\\:x_2\\:+\\:· · ·\\:+\\:x_n}{n}\\end{align*}   \n",
    "$%$   \n",
    "where <b>$x_1$, $x_2$, . . . ,$x_n$</b> represent the <b>$n$</b> observed values.   \n",
    "$%$   \n",
    "<span style=color:darkred>It is useful to think of the <b>mean</b> as the <u>balancing point</u> of the <b>distribution</b>.</span>\n",
    "</div>"
   ]
  },
  {
   "cell_type": "markdown",
   "metadata": {
    "solution2": "hidden",
    "solution2_first": true
   },
   "source": [
    "<span style=color:red><b><u>EXERCISE - 3.1</u></b></span> \n",
    "\n",
    "Compare both Equations above. \n",
    "\n",
    "* What does $x_1$ correspond to ?,   \n",
    "* and **$x_2$** ?   \n",
    "* Can you infer a general meaning to what $x_i$ might represent?\n",
    "* What was $n$ in this sample of emails?"
   ]
  },
  {
   "cell_type": "markdown",
   "metadata": {
    "solution2": "hidden"
   },
   "source": [
    "<span style=color:green><b><u>SOLUTION - 3.1</u></b></span> \n",
    "\n",
    "\n",
    "* $x_1$ corresponds to the number of characters in the first email in the sample (21.7, in thousands), \n",
    "* $x_2$ to the number of characters in the second email (7.0, in thousands), and \n",
    "* $x_i$ corresponds to the number of characters in the $i^{th}$ email in the dataset.\n",
    "* The sample size was $n$ = <b>50</b>."
   ]
  },
  {
   "cell_type": "markdown",
   "metadata": {},
   "source": [
    "<div class=\"alert alert-warning alert-warning\"><b><u>Population Mean</u></b>\n",
    "\n",
    "The <span style=color:blue><b><u>Population mean</u></b></span> has a special label :  <span style=color:blue>$\\mu$</span>. The symbol <span style=color:blue>$\\mu$</span> is the $Greek$ letter <span style=color:blue>$mu$</span> and represents the <span style=color:blue>average/mean of all observations in the <b>Population</b></span>.   \n",
    "$%$   \n",
    "Sometimes a subscript, such as <span style=color:blue><b>$_x$</b></span>, is used to represent which variable the <span style=color:blue><b>population mean</b></span> refers to, e.g. <span style=color:blue><b>$\\mu_x$</b></span>\n",
    "</div>"
   ]
  },
  {
   "cell_type": "markdown",
   "metadata": {
    "solution2": "hidden",
    "solution2_first": true
   },
   "source": [
    "<span style=color:red><b><u>EXERCISE - 3.2</u></b></span>\n",
    "\n",
    "The <span style=color:blue>average</span> number of characters across all emails (<span style=color:blue><b>population</b></span>) can be estimated using the <span style=color:blue><b>sample data</b></span>.   \n",
    "\n",
    "Based on the <span style=color:blue>sample</span> of <b>50</b> $emails$, what would be a reasonable estimate of <span style=color:blue><b>$\\mu_x$</b></span>, the <span style=color:blue><b>mean</b></span> number of characters in all emails in the email dataset? (Recall that $email50$ is a sample from $email$.)"
   ]
  },
  {
   "cell_type": "markdown",
   "metadata": {
    "solution2": "hidden"
   },
   "source": [
    "<span style=color:green><b><u>SOLUTION - 3.2</u></b></span>\n",
    "\n",
    "\n",
    "The <span style=color:blue>sample mean</span>, <b>11,6</b>, may provide a reasonable estimate of <span style=color:blue>$\\mu_x$</span>.   \n",
    "\n",
    "While this number will not be perfect, it provides a <span style=color:blue><em><b>point estimate</b></em></span> of the <span style=color:blue>population mean</span>."
   ]
  },
  {
   "cell_type": "markdown",
   "metadata": {},
   "source": [
    "## <span style=color:darkgreen>Variance and Standard Deviation</span>"
   ]
  },
  {
   "cell_type": "code",
   "execution_count": null,
   "metadata": {
    "ExecuteTime": {
     "end_time": "2020-10-21T15:39:20.490094Z",
     "start_time": "2020-10-21T15:39:20.482114Z"
    }
   },
   "outputs": [],
   "source": [
    "dbe.num_char.mean()- dbe.num_char.std()"
   ]
  },
  {
   "cell_type": "markdown",
   "metadata": {},
   "source": [
    "### <span style=color:darkred>Variance</span>"
   ]
  },
  {
   "cell_type": "markdown",
   "metadata": {},
   "source": [
    "The <span style=color:blue><b>mean</b></span> was introduced as a method to describe the <span style=color:blue>center of a data set</span>, but the <span style=color:blue><b><u>variability in the data</u></b></span> is also <b>important</b>.   \n",
    "\n",
    "We introduce <span style=color:blue><b><u>two measures of variability</u></b></span>: the <span style=color:blue><b><u>Variance</u></b></span> and the <span style=color:blue><b><u>Standard Deviation</u></b></span>. Both are very useful in data analysis.   \n",
    "\n",
    "The <span style=color:blue><b>Standard Deviation</b></span> describes <b>how far away</b> the typical <b>observation</b> is from the <span style=color:blue>mean</span>."
   ]
  },
  {
   "cell_type": "markdown",
   "metadata": {},
   "source": [
    "We call the <span style=color:blue><em>distance of an observation from its mean</em></span> its <span style=color:blue><b><u>Deviation</u></b></span>. \n",
    "\n",
    "Below are the <b>deviations</b> for the 1st, 2nd, 3rd, and 50th observations in the <b>num_char</b> variable. For computational convenience, the number of characters is listed in the thousands and rounded to the first decimal."
   ]
  },
  {
   "cell_type": "code",
   "execution_count": null,
   "metadata": {
    "ExecuteTime": {
     "end_time": "2020-10-21T15:39:20.501064Z",
     "start_time": "2020-10-21T15:39:20.493086Z"
    }
   },
   "outputs": [],
   "source": [
    "dbe.num_char.iloc[[1], ]"
   ]
  },
  {
   "cell_type": "markdown",
   "metadata": {},
   "source": [
    "\\begin{align*}x_1\\:−\\:\\bar{x} = 21.7 − 11.6 = 10.1\\end{align*}\n",
    "\\begin{align*}x_2\\:−\\:\\bar{x} =\\hspace{2.5mm}7.0 − 11.6 = −4.6\\end{align*}\n",
    "\\begin{align*}x_3\\:−\\:\\bar{x} =\\hspace{2.5mm}0.6 − 11.6 = −11.0\\end{align*}\n",
    "\\begin{align*}.\\end{align*}\n",
    "\\begin{align*}.\\end{align*}\n",
    "\\begin{align*}.\\end{align*}\n",
    "\\begin{align*}x_{50} − \\bar{x} = 15.8 − 11.6 = 4.2\\end{align*}"
   ]
  },
  {
   "cell_type": "markdown",
   "metadata": {},
   "source": [
    "If we **square** these <span style=color:blue><b>deviation</b></span> and then take an **average**, the result is about equal to the <span style=color:blue><b>sample variance</b></span>, denoted by <span style=color:blue><b>$s^2$</b></span>:"
   ]
  },
  {
   "cell_type": "markdown",
   "metadata": {},
   "source": [
    "\\begin{align*}s^2\\:=\\:\\frac{10.1^2 + (−4.6)^2 + (−11.0)^2 + · · · + 4.2^2}{50 − 1} = 172,44\\end{align*}"
   ]
  },
  {
   "cell_type": "markdown",
   "metadata": {},
   "source": [
    "<div class=\"alert alert-warning alert-warning\"><b><u>Sample Variance $s^2$</u></b>   \n",
    "\n",
    "We divide by $n\\:−\\:1$, rather than dividing by $n$, when computing the <span style=color:blue><b>Variance</b></span>.   \n",
    "$%$   \n",
    "<span style=color:blue>squaring the deviations</span> does two things: \n",
    "\n",
    "- First, it <span style=color:blue>makes large values much larger</span>, seen by comparing $10.1^2$, $(−4.6)^2$, $(−11.0)^2$, and $4.2^2$. \n",
    "- Second, it <span style=color:blue>gets rid of any negative signs</span>.   \n",
    "$%$   \n",
    "The <b>variance</b> is roughly the <span style=color:blue>average squared distance</span> from the <b>mean</b>.\n",
    "</div>"
   ]
  },
  {
   "cell_type": "markdown",
   "metadata": {},
   "source": [
    "### <span style=color:darkred>Standard Deviation</span>"
   ]
  },
  {
   "cell_type": "markdown",
   "metadata": {},
   "source": [
    "<div class=\"alert alert-warning alert-warning\"><b><u>Standard Deviation</u></b>   \n",
    "\n",
    "The <b>Standard Deviation</b> is defined as the <b>square root</b> of the <span style=color:blue><b>Variance</b></span> :   \n",
    "$%$   \n",
    "\\begin{align*}s = \\sqrt{172.44} = 13.13\\end{align*}   \n",
    "$%$   \n",
    "The <b>Standard Deviation</b> is useful when considering how close the data are to the <b>Mean</b>.   \n",
    "$%$   \n",
    "Formulas and methods used to compute the <b>Variance</b> and <b>Standard Deviation</b> for a <b>Population</b> are similar to those used for a <b>sample</b><i> (The only difference is that the <b>Population Variance</b> has a division by $n$ instead of $n - 1$ )</i>.   \n",
    "$%$   \n",
    "However, like the <b>Mean</b>, the <b>Population</b> values have special symbols : \n",
    "- $\\sigma^2$ for the <b>Variance</b> and \n",
    "- $\\sigma$ for the <b>Standard Deviation</b>. \n",
    "\n",
    "The symbol $\\sigma$ is the $Greek$ letter $sigma$.\n",
    "</div>"
   ]
  },
  {
   "cell_type": "code",
   "execution_count": null,
   "metadata": {
    "ExecuteTime": {
     "end_time": "2021-01-20T17:27:42.268974Z",
     "start_time": "2021-01-20T17:27:42.261994Z"
    }
   },
   "outputs": [],
   "source": [
    "dbe.num_char.std()"
   ]
  },
  {
   "cell_type": "markdown",
   "metadata": {},
   "source": [
    "<span style=color:blue>Standard Deviation</span> describes <span style=color:blue>Variability</span>, so focus on the conceptual meaning of the <span style=color:blue>Standard Deviation</span> as a descriptor of <span style=color:blue>Variability</span> rather than the formulas. \n",
    "\n",
    "Usually <b>70%</b> of the data will be within <span style=color:blue>one standard deviation of the mean</span> and about <b>95%</b> will be within <span style=color:blue>two standard deviations</span> two standard deviations. However, these <b>percentages are not strict rules</b>."
   ]
  },
  {
   "attachments": {
    "Std.jpg": {
     "image/jpeg": "[encoded data removed]"
    }
   },
   "cell_type": "markdown",
   "metadata": {
    "solution2": "hidden",
    "solution2_first": true
   },
   "source": [
    "<span style=color:red><b><u>EXERCISE - 3.6</u></b></span> \n",
    "\n",
    "A good <span style=color:blue>description of the shape of a distribution</span> should include <span style=color:blue>modality</span> and whether the <span style=color:blue>distribution</span> is <span style=color:blue>symmetric or skewed</span> to one side. \n",
    "\n",
    "Explore the figure as an example, explain why such a description is important :\n",
    "\n",
    "![Std.jpg](attachment:Std.jpg)"
   ]
  },
  {
   "cell_type": "markdown",
   "metadata": {
    "solution2": "hidden"
   },
   "source": [
    "<span style=color:green><b><u>SOLUTION - 3.6</u></b></span> \n",
    "\n",
    "Figure shows three distributions that look quite different, but all have the same <b>Mean, Variance</b>, and <b>Standard Deviation</b>. \n",
    "\n",
    "Using <b>Modality</b>, we can distinguish between the first plot (<b>bimodal</b>) and the last two (<b>unimodal</b>). \n",
    "\n",
    "Using <b>Skewness</b>, we can distinguish between the last plot (<b>right skewed</b>) and the first two. \n",
    "\n",
    "While a picture, like a <b>histogram</b>, tells a more <b>complete</b> story, we can use <b>Modality</b> and shape (<b>Symmetry/Skew</b>) to characterize basic information about a <b>distribution</b>."
   ]
  },
  {
   "cell_type": "code",
   "execution_count": null,
   "metadata": {
    "ExecuteTime": {
     "end_time": "2020-10-21T15:39:20.817218Z",
     "start_time": "2020-10-21T15:39:20.515032Z"
    }
   },
   "outputs": [],
   "source": [
    "dbe.hist(['num_char'], bins=15)\n",
    "plt.title('Spam email - # Characters')\n",
    "plt.ylabel('Frequency')\n",
    "plt.xlabel('# Characters (in thousands)')"
   ]
  },
  {
   "cell_type": "markdown",
   "metadata": {
    "solution2": "hidden",
    "solution2_first": true
   },
   "source": [
    "<span style=color:red><b><u>EXERCISE - 3.7</u></b></span> \n",
    "\n",
    "Describe the <b>distribution</b> of the <b>num_char</b> variable using the histogram display above. \n",
    "\n",
    "The description should incorporate the center, variability, and shape of the distribution, and it should also be placed in context: the <b>number of characters</b> in emails. Also note any especially <b>unusual cases</b>."
   ]
  },
  {
   "cell_type": "markdown",
   "metadata": {
    "solution2": "hidden"
   },
   "source": [
    "<span style=color:green><b><u>SOLUTION - 3.7</u></b></span> \n",
    "\n",
    "The distribution of email character counts is <b>unimodal</b> and very <b>strongly skewed to the high end</b>. Many of the counts fall near the <b>Mean at 11,6</b>, and most fall within <b>one Standard Deviation (13,130)</b> of the <b>mean</b>. There is <b>one exceptionally long email</b> with about 65,000 characters."
   ]
  },
  {
   "cell_type": "code",
   "execution_count": null,
   "metadata": {
    "ExecuteTime": {
     "end_time": "2020-10-21T15:39:20.827192Z",
     "start_time": "2020-10-21T15:39:20.820211Z"
    }
   },
   "outputs": [],
   "source": [
    "dbe.num_char.std().round(2)"
   ]
  },
  {
   "cell_type": "markdown",
   "metadata": {},
   "source": [
    "We will use the <span style=color:blue><b>Variance</b></span> and <span style=color:blue><b>Standard Deviation</b></span> to <b>assess how close</b> the <span style=color:blue>Sample Mean ($\\bar{x}$)</span> is to the <span style=color:blue>Population Mean ($\\mu$)</span>."
   ]
  },
  {
   "attachments": {
    "County%20codebook.gif": {
     "image/gif": "[encoded data removed]"
    }
   },
   "cell_type": "markdown",
   "metadata": {},
   "source": [
    "![County%20codebook.gif](attachment:County%20codebook.gif)"
   ]
  },
  {
   "cell_type": "code",
   "execution_count": null,
   "metadata": {
    "ExecuteTime": {
     "end_time": "2020-10-21T15:39:22.386022Z",
     "start_time": "2020-10-21T15:39:20.830185Z"
    }
   },
   "outputs": [],
   "source": [
    "fig = plt.figure(figsize=(10,8))\n",
    "\n",
    "ax1 = fig.add_subplot(2, 2, 1)\n",
    "\n",
    "ax1.hist(county['multiunit'], bins=25)\n",
    "plt.title('County - 2010 Population')\n",
    "plt.ylabel('Frequency')\n",
    "plt.xlabel('multi unit (%)')\n",
    "\n",
    "ax2 = fig.add_subplot(2, 2, 2)\n",
    "\n",
    "ax2.hist(county['income'], bins=25)\n",
    "\n",
    "plt.title('2010 County Population')\n",
    "plt.ylabel('Frequency')\n",
    "plt.xlabel('Per Capita Income')\n",
    "\n",
    "ax3 = fig.add_subplot(2, 2, 3)\n",
    "\n",
    "ax3.hist(county['homeownership'], bins=25)\n",
    "plt.title('2010 County Population')\n",
    "plt.ylabel('Frequency')\n",
    "plt.xlabel('Homeownership (%)')\n",
    "\n",
    "ax4 = fig.add_subplot(2, 2, 4)\n",
    "\n",
    "ax4.hist(county['med_income'], bins=25)\n",
    "\n",
    "plt.title('2010 County Population')\n",
    "plt.ylabel('Frequency')\n",
    "plt.xlabel('Median Household Imcome')\n",
    "\n",
    "plt.tight_layout()"
   ]
  },
  {
   "cell_type": "code",
   "execution_count": null,
   "metadata": {
    "ExecuteTime": {
     "end_time": "2020-10-21T15:39:24.384675Z",
     "start_time": "2020-10-21T15:39:22.389014Z"
    }
   },
   "outputs": [],
   "source": [
    "fig = plt.figure(figsize=(20,5))\n",
    "\n",
    "ax1 = fig.add_subplot(1, 4, 1) # en una figura de 1x4 dibuixos, doncs el PRIMER element\n",
    "\n",
    "ax1.hist(county['multiunit'], bins=25)\n",
    "plt.title('2010 County Population')\n",
    "plt.ylabel('Frequency')\n",
    "plt.xlabel('multi unit (%)')\n",
    "\n",
    "ax2 = fig.add_subplot(1, 4, 2)\n",
    "\n",
    "ax2.hist(county['income'], bins=25)\n",
    "\n",
    "plt.title('2010 County Population')\n",
    "plt.ylabel('Frequency')\n",
    "plt.xlabel('Per Capita Income')\n",
    "\n",
    "ax3 = fig.add_subplot(1, 4, 3)\n",
    "\n",
    "ax3.hist(county['homeownership'], bins=25)\n",
    "plt.title('2010 County Population')\n",
    "plt.ylabel('Frequency')\n",
    "plt.xlabel('Homeownership (%)')\n",
    "\n",
    "ax4 = fig.add_subplot(1, 4, 4)\n",
    "\n",
    "ax4.hist(county['med_income'], bins=25)\n",
    "\n",
    "plt.title('2010 County Population')\n",
    "plt.ylabel('Frequency')\n",
    "plt.xlabel('Median Household Imcome')\n",
    "\n",
    "# plt.tight_layout(pad=0.4, w_pad=0.5, h_pad=1.0)\n",
    "plt.tight_layout()"
   ]
  },
  {
   "cell_type": "code",
   "execution_count": null,
   "metadata": {
    "ExecuteTime": {
     "end_time": "2020-10-21T15:39:24.573171Z",
     "start_time": "2020-10-21T15:39:24.388664Z"
    }
   },
   "outputs": [],
   "source": [
    "dbe.describe().round(3)"
   ]
  },
  {
   "cell_type": "markdown",
   "metadata": {},
   "source": [
    "## <span style=color:darkgreen>BOX PLOTS</span>"
   ]
  },
  {
   "cell_type": "markdown",
   "metadata": {},
   "source": [
    "A <span style=color:blue>Box Plot</span> summarizes a dataset using <span style=color:blue><b><i>five statistics</i></b></span> while also plotting <span style=color:blue>unusual observations - <b>Anomalies or Outliers</b></span>."
   ]
  },
  {
   "cell_type": "markdown",
   "metadata": {},
   "source": [
    "### <span style=color:darkred>Quartiles, and the Median</span>"
   ]
  },
  {
   "cell_type": "code",
   "execution_count": null,
   "metadata": {
    "ExecuteTime": {
     "end_time": "2021-01-20T17:46:13.044511Z",
     "start_time": "2021-01-20T17:46:13.038527Z"
    }
   },
   "outputs": [],
   "source": [
    "dbe.shape"
   ]
  },
  {
   "cell_type": "code",
   "execution_count": null,
   "metadata": {
    "ExecuteTime": {
     "end_time": "2021-01-20T17:46:14.189209Z",
     "start_time": "2021-01-20T17:46:14.100447Z"
    }
   },
   "outputs": [],
   "source": [
    "dbe.describe()"
   ]
  },
  {
   "cell_type": "code",
   "execution_count": null,
   "metadata": {
    "ExecuteTime": {
     "end_time": "2021-01-20T17:46:22.370118Z",
     "start_time": "2021-01-20T17:46:22.357153Z"
    }
   },
   "outputs": [],
   "source": [
    "(dbe['num_char']).describe()"
   ]
  },
  {
   "cell_type": "markdown",
   "metadata": {},
   "source": [
    "The median (6,890), splits the data into the bottom 50% and the top 50%, marked in the dot plot by horizontal dashes and open circles, respectively."
   ]
  },
  {
   "cell_type": "code",
   "execution_count": null,
   "metadata": {
    "ExecuteTime": {
     "end_time": "2021-01-20T17:46:30.071818Z",
     "start_time": "2021-01-20T17:46:30.065834Z"
    }
   },
   "outputs": [],
   "source": [
    "(dbe['num_char']).median()"
   ]
  },
  {
   "cell_type": "markdown",
   "metadata": {},
   "source": [
    "The first step in building a <span style=color:blue><b>box plot</b></span> is drawing a dark line denoting the <span style=color:blue><b>median</b></span>, which <b>splits</b> the data in half. <b>50%</b> of the data falling below the <span style=color:blue><b>median</b></span> and other <b>50%</b> falling above the <span style=color:blue><b>median</b></span>.\n",
    "\n",
    "There are $50$ character counts in the **dataset** (an even number) so the data are perfectly split into two groups of $25$.\n",
    "We take the <span style=color:blue><b>median</b></span> in this case to be the <span style=color:blue><b>average</b></span> of the two observations closest to the 50th percentile:   \n",
    "\n",
    "$(6,768+7,012)/2 = 6,890$. \n",
    "\n",
    "When there are an odd number of observations, there will be exactly one observation that splits the data into two halves, and in such a case that observation is the <span style=color:blue><b>median</b></span> (no average needed)."
   ]
  },
  {
   "cell_type": "code",
   "execution_count": null,
   "metadata": {
    "ExecuteTime": {
     "end_time": "2021-01-20T17:46:35.025472Z",
     "start_time": "2021-01-20T17:46:34.881855Z"
    },
    "scrolled": true
   },
   "outputs": [],
   "source": [
    "sns.set(style=\"whitegrid\")\n",
    "ax = sns.boxplot(x=dbe[\"num_char\"], color='lightblue', fliersize=5,  orient='v', linewidth=1 , width=0.3)"
   ]
  },
  {
   "cell_type": "markdown",
   "metadata": {},
   "source": [
    "<div class=\"alert alert-warning alert-warning\"><b><u>Median</u></b>\n",
    "\n",
    "If the data are <b>ordered from smallest to largest</b>, the <b>median</b> is the <b><u>observation</u></b> right in the <b>middle</b>.\n",
    "\n",
    "If there are an even number of observations, there will be two values in the middle, and the <b>median</b> is taken as their average.</div>"
   ]
  },
  {
   "cell_type": "markdown",
   "metadata": {},
   "source": [
    "The second step in building a box plot is drawing a rectangle to represent the middle $50%$ of the data. The total length of the box, is called the <span style=color:blue><b>interquartile range (IQR)</b></span>. It, like the <span style=color:blue><b>Standard Deviation</b></span>, is a measure of <b>Variability</b> in data. The <span style=color:red>more variable the data</span>, the larger the <span style=color:blue><b>Standard Deviation</b></span> and <span style=color:blue><b>IQR</b></span>.\n",
    "\n",
    "The <b>two boundaries</b> of the box are called the <span style=color:blue><b>first quartile</b></span> (the $25^{th}$ percentile),  i.e. $25%$ of the data fall below this value and the <span style=color:blue><b>third quartile</b></span> (the $75^{th}$ percentile), and these are often labeled $Q1$ and $Q3$, respectively."
   ]
  },
  {
   "cell_type": "markdown",
   "metadata": {},
   "source": [
    "<div class=\"alert alert-warning alert-warning\"><b><u>Interquartile range (IQR)</u></b>\n",
    "\n",
    "The IQR is the length of the box in a box plot. It is computed as\n",
    "\n",
    "$$IQR = Q3 − Q1$$\n",
    "\n",
    "where $Q1$ and $Q3$ are the $25^{th}$ and $75^{th}$ percentiles.</div>"
   ]
  },
  {
   "cell_type": "code",
   "execution_count": null,
   "metadata": {
    "ExecuteTime": {
     "end_time": "2021-01-20T17:46:40.918128Z",
     "start_time": "2021-01-20T17:46:40.772515Z"
    }
   },
   "outputs": [],
   "source": [
    "sns.stripplot(x=dbe[\"num_char\"], orient='v', color='darkblue')"
   ]
  },
  {
   "cell_type": "code",
   "execution_count": null,
   "metadata": {
    "ExecuteTime": {
     "end_time": "2021-01-20T17:46:44.546946Z",
     "start_time": "2021-01-20T17:46:44.402325Z"
    }
   },
   "outputs": [],
   "source": [
    "ax = sns.boxplot(y=\"num_char\", data=dbe,  color='lightblue', fliersize=5,  orient='v', linewidth=1 , width=0.3)\n",
    "ax = sns.stripplot(y=dbe[\"num_char\"], orient='v', color='darkblue')"
   ]
  },
  {
   "cell_type": "code",
   "execution_count": null,
   "metadata": {
    "ExecuteTime": {
     "end_time": "2021-01-20T17:46:47.738552Z",
     "start_time": "2021-01-20T17:46:47.729609Z"
    }
   },
   "outputs": [],
   "source": [
    "dbe.num_char"
   ]
  },
  {
   "cell_type": "code",
   "execution_count": null,
   "metadata": {
    "ExecuteTime": {
     "end_time": "2021-01-20T17:46:53.036905Z",
     "start_time": "2021-01-20T17:46:52.813505Z"
    }
   },
   "outputs": [],
   "source": [
    "sns.set(style=\"whitegrid\")\n",
    "ax = sns.boxplot(x=dbe[\"num_char\"], color='lightblue', fliersize=5,  orient='v', linewidth=1 , width=0.3)"
   ]
  },
  {
   "cell_type": "code",
   "execution_count": null,
   "metadata": {
    "ExecuteTime": {
     "end_time": "2021-01-20T17:46:54.877950Z",
     "start_time": "2021-01-20T17:46:54.720373Z"
    }
   },
   "outputs": [],
   "source": [
    "sns.swarmplot(x=dbe[\"num_char\"], orient='v', color='darkblue')"
   ]
  },
  {
   "cell_type": "code",
   "execution_count": null,
   "metadata": {
    "ExecuteTime": {
     "end_time": "2021-01-20T17:46:59.304305Z",
     "start_time": "2021-01-20T17:46:59.152711Z"
    }
   },
   "outputs": [],
   "source": [
    "ax = sns.boxplot(y=\"num_char\", data=dbe,  color='lightblue', fliersize=5,  orient='v', linewidth=1 , width=0.3)\n",
    "ax = sns.swarmplot(y=\"num_char\", data=dbe, color=\"darkblue\", orient=\"v\", size=4)"
   ]
  },
  {
   "cell_type": "markdown",
   "metadata": {},
   "source": [
    "GARBAGE COLLECTOR:\n",
    "\n",
    "with open(\"test.txt\", mode='r') as f: ##mode READ  I AMB AQUEST FORMAT NO CAL TANCAR, tot s'executa DINS del WITH\n",
    "    content = f.read()\n",
    "print(content)\n",
    "\n",
    "with open(\"test.txt\", mode='a') as f: ##mode ADD\n",
    "    f.write(\"\\nTHIS IS THE NEW LINE\")\n",
    "    \n",
    "with open(\"test.txt\", mode='w') as f: ##mode WRITE. per defecte SOBREESCRIU TOT\n",
    "    f.write(\"THIS WILL KILL THE FILE AND OVERWRİTE ANY EXISTING LINES\")\n",
    "\n",
    "with open(\"test.txt\", mode='r+') as f: ##mode PARAMETER: permet llegir i escriure sense rebentar ho tot, afegeix\n",
    "    content = f.read()\n",
    "    f.write(\"\\nHERE IT IS, A NEW LINE\")\n",
    "    f.seek(0)\n",
    "    updated_content = f.read()\n",
    " \n",
    " z=0      #### MOST POPULAR GENRES ????\n",
    "for i in genre:                                ### permet comptar i cerca la casella rara EN UN DATAFRAME\n",
    "    split_genre = list(map(str,i.split('|')))  # SEPARA split genre per signe | \n",
    "    moviesdf.loc[split_genre, year[z]] = moviesdf.loc[split_genre, year[z]] + popularity[z]\n",
    "    z+=1\n",
    "\n",
    "%whos   ###miro les variables residu que tinc actives"
   ]
  },
  {
   "cell_type": "markdown",
   "metadata": {
    "solution2": "hidden",
    "solution2_first": true
   },
   "source": [
    "<span style=color:red><b><u>EXERCISE - 3.8</u></b></span> \n",
    "\n",
    "1. What percent of the data fall between Q1 and the median?\n",
    "2. What percent is between the median and Q3?"
   ]
  },
  {
   "cell_type": "markdown",
   "metadata": {
    "solution2": "hidden"
   },
   "source": [
    "<span style=color:green><b><u>SOLUTION - 3.8</u></b></span> \n",
    "\n",
    "1. Since $Q1$ and $Q3$ capture the middle **50%** of the data and the <span style=color:blue>\n",
    "median</span> splits the data in the <span style=color:blue>middle</span>,\n",
    "2. **25%** of the data fall between $Q1$ and the <span style=color:blue>\n",
    "median</span>, and another **25%** falls between the <span style=color:blue>\n",
    "median</span> and $Q3$."
   ]
  },
  {
   "cell_type": "markdown",
   "metadata": {},
   "source": [
    "Extending out from the box, the <span style=color:blue>whiskers</span> attempt to capture the data outside of the box, however, their reach is never allowed to be more than <span style=color:blue><b>$1.5\\hspace{2mm}x\\hspace{2mm}IQR$</b></span>"
   ]
  },
  {
   "cell_type": "markdown",
   "metadata": {},
   "source": [
    "They capture everything within this reach. The <span style=color:blue><b><u>upper whisker</u></b></span> does not extend to the last three points, which is beyond $Q3\\hspace{2mm}+\\hspace{2mm}1.5\\hspace{2mm}x\\hspace{2mm}IQR$, and so it extends only to the last point below this limit. \n",
    "\n",
    "The <span style=color:blue><b><u>lower whisker</u></b></span> stops at the lowest value, **33**, since there is no additional data to reach; the <span style=color:blue><b><u>lower whisker’s limit</u></b></span> is not shown in the figure because the plot does not extend down to $Q1\\hspace{2mm}-\\hspace{2mm}1.5\\hspace{2mm}x\\hspace{2mm}IQR$. In a sense, the box is like the body of the box plot and the <span style=color:blue>whiskers</span> are like its arms trying to reach the rest of the data."
   ]
  },
  {
   "cell_type": "markdown",
   "metadata": {},
   "source": [
    "Any observation that lies beyond the <span style=color:blue>whiskers</span> is labeled with a <span style=color:blue>dot</span>. The purpose of labeling these points – instead of just extending the whiskers to the minimum and maximum observed values – is to help identify any observations that appear to be <span style=color:blue>unusually</span> distant from the rest of the data. <span style=color:blue>Unusually</span> distant observations are called <span style=color:blue><b><u>Outliers</u></b></span>. \n",
    "\n",
    "In this case, it would be reasonable to classify the emails with character counts of 41,623, 42,793, and 64,401 as <span style=color:blue>outliers</span> since they are numerically distant from most of the data."
   ]
  },
  {
   "cell_type": "markdown",
   "metadata": {},
   "source": [
    "<div class=\"alert alert-warning alert-warning\"><b><u>Outlier</u></b>\n",
    "\n",
    "An **outlier** is an *observation* that appears **extreme** relative to the rest of the **data**.   \n",
    "\n",
    "$%$\n",
    "\n",
    "<b><u>Why it is important to look for outliers</u></b>\n",
    "\n",
    "Examination of data for possible **outliers** serves many useful purposes, including :\n",
    "\n",
    "1. Identifying strong **skew** in the distribution.\n",
    "2. Identifying data collection or **entry errors**. For instance, we re-examined the \n",
    "    email purported to have 64,401 characters to ensure this value was accurate.\n",
    "3. Providing **insight** into interesting **properties** of the **data**.\n",
    "</div>"
   ]
  },
  {
   "cell_type": "markdown",
   "metadata": {
    "solution2": "hidden",
    "solution2_first": true
   },
   "source": [
    "<span style=color:red><b><u>EXERCISE - 3.9</u></b></span> \n",
    "\n",
    "estimate the following values for **num_char** in the $email50$ dataset: \n",
    "\n",
    "a).- $Q1$,   \n",
    "b).- $Q3$, and    \n",
    "c).- $IQR$"
   ]
  },
  {
   "cell_type": "markdown",
   "metadata": {
    "solution2": "hidden"
   },
   "source": [
    "<span style=color:green><b><u>SOLUTION - 3.9</u></b></span> \n",
    "\n",
    "These visual estimates will vary a little from one person to the next: Q1 = 3,000, Q3 = 15,000, IQR = Q3 - Q1 = 12,000. \n",
    "\n",
    "(The true values: Q1 = 2,536, Q3 = 15,411, IQR = 12,875.)"
   ]
  },
  {
   "cell_type": "markdown",
   "metadata": {
    "ExecuteTime": {
     "end_time": "2021-02-03T09:41:38.793827Z",
     "start_time": "2021-02-03T09:41:38.790832Z"
    }
   },
   "source": [
    "## <span style=color:red>Ejercicio Practico -- Scatter Plots</span>"
   ]
  },
  {
   "cell_type": "markdown",
   "metadata": {},
   "source": [
    "<span style=color:blue>Scatter Plots o Gráficos de Puntos</span> pueden ser muy utiles para examinar las relationes existentes entre dos series de datos uni-dimensionales. \n",
    "\n",
    "Usaremos el dataset <span style=color:darkred>tips</span>, selecionaremos unas cuantas variables. "
   ]
  },
  {
   "cell_type": "code",
   "execution_count": null,
   "metadata": {
    "ExecuteTime": {
     "end_time": "2021-02-03T10:44:23.026751Z",
     "start_time": "2021-02-03T10:44:22.986904Z"
    }
   },
   "outputs": [],
   "source": [
    "tips = pd.read_csv('https://raw.githubusercontent.com/mwaskom/seaborn-data/master/tips.csv', sep = ',', encoding = 'utf-8')\n",
    "tips.head()"
   ]
  },
  {
   "cell_type": "code",
   "execution_count": null,
   "metadata": {
    "ExecuteTime": {
     "end_time": "2021-02-03T11:03:20.033469Z",
     "start_time": "2021-02-03T11:03:20.026519Z"
    }
   },
   "outputs": [],
   "source": [
    "tips.shape"
   ]
  },
  {
   "cell_type": "code",
   "execution_count": null,
   "metadata": {
    "ExecuteTime": {
     "end_time": "2021-02-03T13:44:38.408684Z",
     "start_time": "2021-02-03T13:44:38.403719Z"
    }
   },
   "outputs": [],
   "source": [
    "tips.ndim"
   ]
  },
  {
   "cell_type": "code",
   "execution_count": null,
   "metadata": {
    "ExecuteTime": {
     "end_time": "2021-02-03T11:03:56.442591Z",
     "start_time": "2021-02-03T11:03:56.436940Z"
    }
   },
   "outputs": [],
   "source": [
    "tips.columns"
   ]
  },
  {
   "cell_type": "code",
   "execution_count": null,
   "metadata": {
    "ExecuteTime": {
     "end_time": "2021-02-03T13:43:40.448957Z",
     "start_time": "2021-02-03T13:43:40.439982Z"
    }
   },
   "outputs": [],
   "source": [
    "tips.dtypes"
   ]
  },
  {
   "cell_type": "code",
   "execution_count": null,
   "metadata": {
    "ExecuteTime": {
     "end_time": "2021-02-03T11:05:04.066575Z",
     "start_time": "2021-02-03T11:05:04.037650Z"
    }
   },
   "outputs": [],
   "source": [
    "tips['tip_pct'] = round((tips['tip'] / (tips['total_bill'] - tips['tip']))*100, 2)\n",
    "tips.head()"
   ]
  },
  {
   "cell_type": "code",
   "execution_count": null,
   "metadata": {
    "ExecuteTime": {
     "end_time": "2021-02-03T11:07:34.619112Z",
     "start_time": "2021-02-03T11:07:34.048334Z"
    }
   },
   "outputs": [],
   "source": [
    "sns.barplot(x='tip_pct', y='day', data=tips, orient=\"h\")\n",
    "plt.show()"
   ]
  },
  {
   "cell_type": "code",
   "execution_count": null,
   "metadata": {
    "ExecuteTime": {
     "end_time": "2021-02-03T11:08:24.788942Z",
     "start_time": "2021-02-03T11:08:24.084824Z"
    }
   },
   "outputs": [],
   "source": [
    "sns.barplot(x='tip_pct', y='day', hue='time', data=tips, orient='h')\n",
    "plt.show()\n",
    "sns.set(style=\"darkgrid\")"
   ]
  },
  {
   "cell_type": "code",
   "execution_count": null,
   "metadata": {
    "ExecuteTime": {
     "end_time": "2021-02-03T11:10:00.119625Z",
     "start_time": "2021-02-03T11:10:00.078734Z"
    }
   },
   "outputs": [],
   "source": [
    "tips.describe()"
   ]
  },
  {
   "cell_type": "code",
   "execution_count": null,
   "metadata": {
    "ExecuteTime": {
     "end_time": "2021-02-03T11:13:07.182194Z",
     "start_time": "2021-02-03T11:13:07.129549Z"
    }
   },
   "outputs": [],
   "source": [
    "round(tips.describe(include='all'), 3)"
   ]
  },
  {
   "cell_type": "code",
   "execution_count": null,
   "metadata": {
    "ExecuteTime": {
     "end_time": "2021-02-03T11:26:48.896016Z",
     "start_time": "2021-02-03T11:26:48.886044Z"
    }
   },
   "outputs": [],
   "source": [
    "tips.isnull().sum()/len(tips)   #fa el % entre total de la factura i la propina deixada"
   ]
  },
  {
   "cell_type": "code",
   "execution_count": null,
   "metadata": {
    "ExecuteTime": {
     "end_time": "2021-02-03T11:30:50.558099Z",
     "start_time": "2021-02-03T11:30:50.546131Z"
    }
   },
   "outputs": [],
   "source": [
    "round((tips['tip']).describe(), 3)"
   ]
  },
  {
   "cell_type": "code",
   "execution_count": null,
   "metadata": {
    "ExecuteTime": {
     "end_time": "2021-02-03T11:32:52.326345Z",
     "start_time": "2021-02-03T11:32:52.319364Z"
    }
   },
   "outputs": [],
   "source": [
    "(tips['tip']).median()"
   ]
  },
  {
   "cell_type": "code",
   "execution_count": null,
   "metadata": {
    "ExecuteTime": {
     "end_time": "2021-02-03T11:34:05.261753Z",
     "start_time": "2021-02-03T11:34:05.120092Z"
    }
   },
   "outputs": [],
   "source": [
    "sns.set(style=\"whitegrid\")\n",
    "ax = sns.boxplot(x = tips['tip'], color='lightblue', fliersize=5, orient='v', linewidth=1, width=0.3)"
   ]
  },
  {
   "cell_type": "code",
   "execution_count": null,
   "metadata": {
    "ExecuteTime": {
     "end_time": "2021-02-03T11:34:43.003031Z",
     "start_time": "2021-02-03T11:34:42.855459Z"
    }
   },
   "outputs": [],
   "source": [
    "ax = sns.boxplot(y=\"tip\", data=tips,  color='lightblue', fliersize=5,  orient='v', linewidth=1 , width=0.3)\n",
    "ax = sns.stripplot(y=tips[\"tip\"], orient='v', color='darkblue', alpha= 0.5)"
   ]
  },
  {
   "cell_type": "markdown",
   "metadata": {
    "ExecuteTime": {
     "end_time": "2021-02-03T11:36:21.844979Z",
     "start_time": "2021-02-03T11:36:21.838998Z"
    }
   },
   "source": [
    "<span style=color:blue><font size=4><b><u>Una Variable</u></b>: 1 Numérica = 'tip_pct'</font></span>"
   ]
  },
  {
   "cell_type": "code",
   "execution_count": null,
   "metadata": {
    "ExecuteTime": {
     "end_time": "2021-02-03T11:37:07.635732Z",
     "start_time": "2021-02-03T11:37:07.628753Z"
    }
   },
   "outputs": [],
   "source": [
    "tips.dtypes"
   ]
  },
  {
   "cell_type": "code",
   "execution_count": null,
   "metadata": {
    "ExecuteTime": {
     "end_time": "2021-02-03T13:31:23.246526Z",
     "start_time": "2021-02-03T13:31:23.029107Z"
    }
   },
   "outputs": [],
   "source": [
    "sns.boxplot(y=\"tip_pct\", data=tips[tips.tip < 10],  color='lightblue', fliersize=5,  orient='v', linewidth=1 , width=0.3);"
   ]
  },
  {
   "cell_type": "markdown",
   "metadata": {},
   "source": [
    "<span style=color:blue><font size=4><b><u>Dos Variables</u></b>: 1 Categórica = 'day', 1 Numérica = 'tip_pct'</font></span>"
   ]
  },
  {
   "cell_type": "code",
   "execution_count": null,
   "metadata": {
    "ExecuteTime": {
     "end_time": "2021-02-03T11:48:08.920490Z",
     "start_time": "2021-02-03T11:48:08.663179Z"
    },
    "scrolled": true
   },
   "outputs": [],
   "source": [
    "## añadimos variable categorica 'day' en x:\n",
    "ax = sns.catplot(x='day', y='tip_pct', kind='box',\n",
    "                 data=tips[tips.tip_pct < 245]);"
   ]
  },
  {
   "cell_type": "code",
   "execution_count": null,
   "metadata": {
    "ExecuteTime": {
     "end_time": "2021-02-03T11:55:30.412466Z",
     "start_time": "2021-02-03T11:55:30.104291Z"
    }
   },
   "outputs": [],
   "source": [
    "## añadimos variable categorica 'day' en x:\n",
    "ax = sns.catplot(x='day', y='tip_pct', kind='box',\n",
    "                 data=tips[tips.tip_pct < 245]);\n",
    "\n",
    "ax = sns.stripplot(x='day', y='tip_pct', data=tips[tips.tip_pct < 245], orient='v', color='darkblue', alpha= 0.4);"
   ]
  },
  {
   "cell_type": "markdown",
   "metadata": {},
   "source": [
    "<span style=color:blue><font size=4><b><u>Tres Variables</u></b> : 2 Categóricas = ('day', 'time'), 1 Numérica = 'tip_pct'</font></span>"
   ]
  },
  {
   "cell_type": "code",
   "execution_count": null,
   "metadata": {
    "ExecuteTime": {
     "end_time": "2021-02-03T11:57:08.291854Z",
     "start_time": "2021-02-03T11:57:07.974702Z"
    }
   },
   "outputs": [],
   "source": [
    "sns.boxplot(x='day', y='tip_pct', hue='time', \n",
    "               data=tips[tips.tip_pct < 245]);"
   ]
  },
  {
   "cell_type": "code",
   "execution_count": null,
   "metadata": {
    "ExecuteTime": {
     "end_time": "2021-02-03T13:20:04.417518Z",
     "start_time": "2021-02-03T13:20:03.625602Z"
    },
    "scrolled": true
   },
   "outputs": [],
   "source": [
    "sns.boxplot(x='day', y='tip_pct', hue = 'time',\n",
    "               data=tips[tips.tip_pct < 245]);\n",
    "ax = sns.stripplot(x='day', y='tip_pct', hue='time', data=tips[tips.tip_pct < 245], orient='v', color='darkblue', alpha= 0.4);"
   ]
  },
  {
   "cell_type": "markdown",
   "metadata": {},
   "source": [
    "## <span style=color:blue>Facet Grids y Categorical DataFrame</span>"
   ]
  },
  {
   "cell_type": "markdown",
   "metadata": {},
   "source": [
    "Nos permite profundizar todavía más en el analysis, añadiendo una variable categórica adicional. \n",
    "\n",
    "Usando el método <span style=color:darkred><b>factorplot( )</b></span> de <span style=color:darkred>\"Facet Grid\"</span> :"
   ]
  },
  {
   "cell_type": "markdown",
   "metadata": {
    "ExecuteTime": {
     "end_time": "2021-02-03T13:24:29.112841Z",
     "start_time": "2021-02-03T13:24:29.106102Z"
    }
   },
   "source": [
    "<span style=color:blue><font size=4><b><u>Cuatro Variables</u></b> : 3 Categoricas = ('day', 'time', 'smoker'), 1 Numérica = 'tip_pct'</font></span>"
   ]
  },
  {
   "cell_type": "code",
   "execution_count": null,
   "metadata": {
    "ExecuteTime": {
     "end_time": "2021-02-03T13:25:50.898847Z",
     "start_time": "2021-02-03T13:25:49.608813Z"
    }
   },
   "outputs": [],
   "source": [
    "sns.catplot(x='day', y='tip_pct', hue='time', col='smoker',\n",
    "               kind='box', data=tips[tips.tip_pct < 245]);"
   ]
  },
  {
   "cell_type": "code",
   "execution_count": null,
   "metadata": {
    "ExecuteTime": {
     "end_time": "2021-02-03T13:30:27.750908Z",
     "start_time": "2021-02-03T13:30:26.415011Z"
    }
   },
   "outputs": [],
   "source": [
    "sns.catplot(x='day', y='tip_pct', hue='time', col='smoker', kind='box', data=tips[tips.tip_pct < 245]);"
   ]
  },
  {
   "cell_type": "code",
   "execution_count": null,
   "metadata": {},
   "outputs": [],
   "source": []
  }
 ],
 "metadata": {
  "kernelspec": {
   "display_name": "Python 3 (ipykernel)",
   "language": "python",
   "name": "python3"
  },
  "language_info": {
   "codemirror_mode": {
    "name": "ipython",
    "version": 3
   },
   "file_extension": ".py",
   "mimetype": "text/x-python",
   "name": "python",
   "nbconvert_exporter": "python",
   "pygments_lexer": "ipython3",
   "version": "3.8.8"
  },
  "toc": {
   "base_numbering": 1,
   "nav_menu": {},
   "number_sections": true,
   "sideBar": true,
   "skip_h1_title": false,
   "title_cell": "Table of Contents",
   "title_sidebar": "Contents",
   "toc_cell": false,
   "toc_position": {
    "height": "calc(100% - 180px)",
    "left": "10px",
    "top": "150px",
    "width": "417.458px"
   },
   "toc_section_display": true,
   "toc_window_display": false
  },
  "varInspector": {
   "cols": {
    "lenName": 16,
    "lenType": 16,
    "lenVar": 40
   },
   "kernels_config": {
    "python": {
     "delete_cmd_postfix": "",
     "delete_cmd_prefix": "del ",
     "library": "var_list.py",
     "varRefreshCmd": "print(var_dic_list())"
    },
    "r": {
     "delete_cmd_postfix": ") ",
     "delete_cmd_prefix": "rm(",
     "library": "var_list.r",
     "varRefreshCmd": "cat(var_dic_list()) "
    }
   },
   "types_to_exclude": [
    "module",
    "function",
    "builtin_function_or_method",
    "instance",
    "_Feature"
   ],
   "window_display": false
  }
 },
 "nbformat": 4,
 "nbformat_minor": 2
}
